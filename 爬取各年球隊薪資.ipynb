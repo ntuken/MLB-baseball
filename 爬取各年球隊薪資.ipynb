{
 "cells": [
  {
   "cell_type": "markdown",
   "metadata": {},
   "source": [
    "# 爬取各隊各年的薪資\n",
    "\n",
    "####  這個R程式會去爬取[網站資料](https://www.spotrac.com/mlb/payroll/年度)，根据年份匯出csv 檔\n",
    "\n",
    "\n",
    "### 匯入函數庫\n",
    "* xml2 : rvest 所需函式庫\n",
    "* rvest: 用來爬蟲\n",
    "* dplyr: 清理DataFrame\n",
    "* readr: 資料處理(parse_number eg.turn \"$100\" into 100)"
   ]
  },
  {
   "cell_type": "code",
   "execution_count": 1,
   "metadata": {
    "scrolled": true
   },
   "outputs": [
    {
     "name": "stderr",
     "output_type": "stream",
     "text": [
      "\n",
      "Attaching package: 'dplyr'\n",
      "\n",
      "The following objects are masked from 'package:stats':\n",
      "\n",
      "    filter, lag\n",
      "\n",
      "The following objects are masked from 'package:base':\n",
      "\n",
      "    intersect, setdiff, setequal, union\n",
      "\n"
     ]
    }
   ],
   "source": [
    "library(xml2)\n",
    "library(rvest)\n",
    "library(dplyr)\n",
    "library(readr)"
   ]
  },
  {
   "cell_type": "markdown",
   "metadata": {},
   "source": [
    "### 定義R函式，此函式爬網站，並組成data.frame，轉換特定column 的型態\n",
    "define a function : scrapping each year payrol\n",
    "given url vectors ,the function will scrape each url and it's node ,and return the data.frame "
   ]
  },
  {
   "cell_type": "code",
   "execution_count": 22,
   "metadata": {},
   "outputs": [
    {
     "data": {
      "text/html": [
       "<table>\n",
       "<caption>A data.frame: 20 × 9</caption>\n",
       "<thead>\n",
       "\t<tr><th scope=col>Team</th><th scope=col>Roster</th><th scope=col>25-Man Payroll</th><th scope=col>Injured Reserve</th><th scope=col>Retained</th><th scope=col>Buried</th><th scope=col>Suspended</th><th scope=col>2011 Total Payroll</th><th scope=col>Rank</th></tr>\n",
       "\t<tr><th scope=col>&lt;chr&gt;</th><th scope=col>&lt;dbl&gt;</th><th scope=col>&lt;dbl&gt;</th><th scope=col>&lt;dbl&gt;</th><th scope=col>&lt;dbl&gt;</th><th scope=col>&lt;dbl&gt;</th><th scope=col>&lt;dbl&gt;</th><th scope=col>&lt;dbl&gt;</th><th scope=col>&lt;int&gt;</th></tr>\n",
       "</thead>\n",
       "<tbody>\n",
       "\t<tr><td>New York Yankees             </td><td>41</td><td>212609678</td><td>0</td><td>  950000</td><td>0e+00</td><td>0</td><td>213559678</td><td> 1</td></tr>\n",
       "\t<tr><td>Boston Red Sox               </td><td>47</td><td>164517590</td><td>0</td><td> 8239278</td><td>0e+00</td><td>0</td><td>172553261</td><td> 2</td></tr>\n",
       "\t<tr><td>Philadelphia Phillies        </td><td>38</td><td>169799882</td><td>0</td><td>  168300</td><td>0e+00</td><td>0</td><td>169968182</td><td> 3</td></tr>\n",
       "\t<tr><td>Los Angeles Angels of Anaheim</td><td>38</td><td>133613959</td><td>0</td><td>13034600</td><td>0e+00</td><td>0</td><td>146648559</td><td> 4</td></tr>\n",
       "\t<tr><td>New York Mets                </td><td>38</td><td> 96163418</td><td>0</td><td>45668423</td><td>0e+00</td><td>0</td><td>141831841</td><td> 5</td></tr>\n",
       "\t<tr><td>Chicago Cubs                 </td><td>40</td><td>124652698</td><td>0</td><td>14825000</td><td>0e+00</td><td>0</td><td>139477698</td><td> 6</td></tr>\n",
       "\t<tr><td>Chicago White Sox            </td><td>40</td><td>123584951</td><td>0</td><td> 7038798</td><td>0e+00</td><td>0</td><td>130623749</td><td> 7</td></tr>\n",
       "\t<tr><td>San Francisco Giants         </td><td>39</td><td>124882250</td><td>0</td><td> 1100000</td><td>0e+00</td><td>0</td><td>125982250</td><td> 8</td></tr>\n",
       "\t<tr><td>Los Angeles Dodgers          </td><td>41</td><td> 98679615</td><td>0</td><td>19989000</td><td>0e+00</td><td>0</td><td>118668615</td><td> 9</td></tr>\n",
       "\t<tr><td>St. Louis Cardinals          </td><td>39</td><td>113348748</td><td>0</td><td> 2808564</td><td>7e+05</td><td>0</td><td>116857312</td><td>10</td></tr>\n",
       "\t<tr><td>Minnesota Twins              </td><td>29</td><td>106871000</td><td>0</td><td> 7108594</td><td>0e+00</td><td>0</td><td>113979594</td><td>11</td></tr>\n",
       "\t<tr><td>Detroit Tigers               </td><td>36</td><td>111271015</td><td>0</td><td>  250000</td><td>0e+00</td><td>0</td><td>111521015</td><td>12</td></tr>\n",
       "\t<tr><td>Texas Rangers                </td><td>39</td><td> 99272920</td><td>0</td><td> 4468801</td><td>0e+00</td><td>0</td><td>103741721</td><td>13</td></tr>\n",
       "\t<tr><td>Seattle Mariners             </td><td>42</td><td> 88907834</td><td>0</td><td>12521314</td><td>0e+00</td><td>0</td><td>101429148</td><td>14</td></tr>\n",
       "\t<tr><td>Atlanta Braves               </td><td>43</td><td> 98521630</td><td>0</td><td> 1308600</td><td>0e+00</td><td>0</td><td> 99830230</td><td>15</td></tr>\n",
       "\t<tr><td>Baltimore Orioles            </td><td>49</td><td> 94391741</td><td>0</td><td>       0</td><td>0e+00</td><td>0</td><td> 94391741</td><td>16</td></tr>\n",
       "\t<tr><td>Milwaukee Brewers            </td><td>45</td><td> 92127802</td><td>0</td><td>       0</td><td>0e+00</td><td>0</td><td> 92127802</td><td>17</td></tr>\n",
       "\t<tr><td>Houston Astros               </td><td>42</td><td> 72098000</td><td>0</td><td>13476503</td><td>0e+00</td><td>0</td><td> 85574503</td><td>18</td></tr>\n",
       "\t<tr><td>Colorado Rockies             </td><td>32</td><td> 77731972</td><td>0</td><td> 5530198</td><td>0e+00</td><td>0</td><td> 83262170</td><td>19</td></tr>\n",
       "\t<tr><td>Cincinnati Reds              </td><td>38</td><td> 79612874</td><td>0</td><td> 2307672</td><td>0e+00</td><td>0</td><td> 81920546</td><td>20</td></tr>\n",
       "</tbody>\n",
       "</table>\n"
      ],
      "text/latex": [
       "A data.frame: 20 × 9\n",
       "\\begin{tabular}{r|lllllllll}\n",
       " Team & Roster & 25-Man Payroll & Injured Reserve & Retained & Buried & Suspended & 2011 Total Payroll & Rank\\\\\n",
       " <chr> & <dbl> & <dbl> & <dbl> & <dbl> & <dbl> & <dbl> & <dbl> & <int>\\\\\n",
       "\\hline\n",
       "\t New York Yankees              & 41 & 212609678 & 0 &   950000 & 0e+00 & 0 & 213559678 &  1\\\\\n",
       "\t Boston Red Sox                & 47 & 164517590 & 0 &  8239278 & 0e+00 & 0 & 172553261 &  2\\\\\n",
       "\t Philadelphia Phillies         & 38 & 169799882 & 0 &   168300 & 0e+00 & 0 & 169968182 &  3\\\\\n",
       "\t Los Angeles Angels of Anaheim & 38 & 133613959 & 0 & 13034600 & 0e+00 & 0 & 146648559 &  4\\\\\n",
       "\t New York Mets                 & 38 &  96163418 & 0 & 45668423 & 0e+00 & 0 & 141831841 &  5\\\\\n",
       "\t Chicago Cubs                  & 40 & 124652698 & 0 & 14825000 & 0e+00 & 0 & 139477698 &  6\\\\\n",
       "\t Chicago White Sox             & 40 & 123584951 & 0 &  7038798 & 0e+00 & 0 & 130623749 &  7\\\\\n",
       "\t San Francisco Giants          & 39 & 124882250 & 0 &  1100000 & 0e+00 & 0 & 125982250 &  8\\\\\n",
       "\t Los Angeles Dodgers           & 41 &  98679615 & 0 & 19989000 & 0e+00 & 0 & 118668615 &  9\\\\\n",
       "\t St. Louis Cardinals           & 39 & 113348748 & 0 &  2808564 & 7e+05 & 0 & 116857312 & 10\\\\\n",
       "\t Minnesota Twins               & 29 & 106871000 & 0 &  7108594 & 0e+00 & 0 & 113979594 & 11\\\\\n",
       "\t Detroit Tigers                & 36 & 111271015 & 0 &   250000 & 0e+00 & 0 & 111521015 & 12\\\\\n",
       "\t Texas Rangers                 & 39 &  99272920 & 0 &  4468801 & 0e+00 & 0 & 103741721 & 13\\\\\n",
       "\t Seattle Mariners              & 42 &  88907834 & 0 & 12521314 & 0e+00 & 0 & 101429148 & 14\\\\\n",
       "\t Atlanta Braves                & 43 &  98521630 & 0 &  1308600 & 0e+00 & 0 &  99830230 & 15\\\\\n",
       "\t Baltimore Orioles             & 49 &  94391741 & 0 &        0 & 0e+00 & 0 &  94391741 & 16\\\\\n",
       "\t Milwaukee Brewers             & 45 &  92127802 & 0 &        0 & 0e+00 & 0 &  92127802 & 17\\\\\n",
       "\t Houston Astros                & 42 &  72098000 & 0 & 13476503 & 0e+00 & 0 &  85574503 & 18\\\\\n",
       "\t Colorado Rockies              & 32 &  77731972 & 0 &  5530198 & 0e+00 & 0 &  83262170 & 19\\\\\n",
       "\t Cincinnati Reds               & 38 &  79612874 & 0 &  2307672 & 0e+00 & 0 &  81920546 & 20\\\\\n",
       "\\end{tabular}\n"
      ],
      "text/markdown": [
       "\n",
       "A data.frame: 20 × 9\n",
       "\n",
       "| Team &lt;chr&gt; | Roster &lt;dbl&gt; | 25-Man Payroll &lt;dbl&gt; | Injured Reserve &lt;dbl&gt; | Retained &lt;dbl&gt; | Buried &lt;dbl&gt; | Suspended &lt;dbl&gt; | 2011 Total Payroll &lt;dbl&gt; | Rank &lt;int&gt; |\n",
       "|---|---|---|---|---|---|---|---|---|\n",
       "| New York Yankees              | 41 | 212609678 | 0 |   950000 | 0e+00 | 0 | 213559678 |  1 |\n",
       "| Boston Red Sox                | 47 | 164517590 | 0 |  8239278 | 0e+00 | 0 | 172553261 |  2 |\n",
       "| Philadelphia Phillies         | 38 | 169799882 | 0 |   168300 | 0e+00 | 0 | 169968182 |  3 |\n",
       "| Los Angeles Angels of Anaheim | 38 | 133613959 | 0 | 13034600 | 0e+00 | 0 | 146648559 |  4 |\n",
       "| New York Mets                 | 38 |  96163418 | 0 | 45668423 | 0e+00 | 0 | 141831841 |  5 |\n",
       "| Chicago Cubs                  | 40 | 124652698 | 0 | 14825000 | 0e+00 | 0 | 139477698 |  6 |\n",
       "| Chicago White Sox             | 40 | 123584951 | 0 |  7038798 | 0e+00 | 0 | 130623749 |  7 |\n",
       "| San Francisco Giants          | 39 | 124882250 | 0 |  1100000 | 0e+00 | 0 | 125982250 |  8 |\n",
       "| Los Angeles Dodgers           | 41 |  98679615 | 0 | 19989000 | 0e+00 | 0 | 118668615 |  9 |\n",
       "| St. Louis Cardinals           | 39 | 113348748 | 0 |  2808564 | 7e+05 | 0 | 116857312 | 10 |\n",
       "| Minnesota Twins               | 29 | 106871000 | 0 |  7108594 | 0e+00 | 0 | 113979594 | 11 |\n",
       "| Detroit Tigers                | 36 | 111271015 | 0 |   250000 | 0e+00 | 0 | 111521015 | 12 |\n",
       "| Texas Rangers                 | 39 |  99272920 | 0 |  4468801 | 0e+00 | 0 | 103741721 | 13 |\n",
       "| Seattle Mariners              | 42 |  88907834 | 0 | 12521314 | 0e+00 | 0 | 101429148 | 14 |\n",
       "| Atlanta Braves                | 43 |  98521630 | 0 |  1308600 | 0e+00 | 0 |  99830230 | 15 |\n",
       "| Baltimore Orioles             | 49 |  94391741 | 0 |        0 | 0e+00 | 0 |  94391741 | 16 |\n",
       "| Milwaukee Brewers             | 45 |  92127802 | 0 |        0 | 0e+00 | 0 |  92127802 | 17 |\n",
       "| Houston Astros                | 42 |  72098000 | 0 | 13476503 | 0e+00 | 0 |  85574503 | 18 |\n",
       "| Colorado Rockies              | 32 |  77731972 | 0 |  5530198 | 0e+00 | 0 |  83262170 | 19 |\n",
       "| Cincinnati Reds               | 38 |  79612874 | 0 |  2307672 | 0e+00 | 0 |  81920546 | 20 |\n",
       "\n"
      ],
      "text/plain": [
       "   Team                          Roster 25-Man Payroll Injured Reserve Retained\n",
       "1  New York Yankees              41     212609678      0                 950000\n",
       "2  Boston Red Sox                47     164517590      0                8239278\n",
       "3  Philadelphia Phillies         38     169799882      0                 168300\n",
       "4  Los Angeles Angels of Anaheim 38     133613959      0               13034600\n",
       "5  New York Mets                 38      96163418      0               45668423\n",
       "6  Chicago Cubs                  40     124652698      0               14825000\n",
       "7  Chicago White Sox             40     123584951      0                7038798\n",
       "8  San Francisco Giants          39     124882250      0                1100000\n",
       "9  Los Angeles Dodgers           41      98679615      0               19989000\n",
       "10 St. Louis Cardinals           39     113348748      0                2808564\n",
       "11 Minnesota Twins               29     106871000      0                7108594\n",
       "12 Detroit Tigers                36     111271015      0                 250000\n",
       "13 Texas Rangers                 39      99272920      0                4468801\n",
       "14 Seattle Mariners              42      88907834      0               12521314\n",
       "15 Atlanta Braves                43      98521630      0                1308600\n",
       "16 Baltimore Orioles             49      94391741      0                      0\n",
       "17 Milwaukee Brewers             45      92127802      0                      0\n",
       "18 Houston Astros                42      72098000      0               13476503\n",
       "19 Colorado Rockies              32      77731972      0                5530198\n",
       "20 Cincinnati Reds               38      79612874      0                2307672\n",
       "   Buried Suspended 2011 Total Payroll Rank\n",
       "1  0e+00  0         213559678           1  \n",
       "2  0e+00  0         172553261           2  \n",
       "3  0e+00  0         169968182           3  \n",
       "4  0e+00  0         146648559           4  \n",
       "5  0e+00  0         141831841           5  \n",
       "6  0e+00  0         139477698           6  \n",
       "7  0e+00  0         130623749           7  \n",
       "8  0e+00  0         125982250           8  \n",
       "9  0e+00  0         118668615           9  \n",
       "10 7e+05  0         116857312          10  \n",
       "11 0e+00  0         113979594          11  \n",
       "12 0e+00  0         111521015          12  \n",
       "13 0e+00  0         103741721          13  \n",
       "14 0e+00  0         101429148          14  \n",
       "15 0e+00  0          99830230          15  \n",
       "16 0e+00  0          94391741          16  \n",
       "17 0e+00  0          92127802          17  \n",
       "18 0e+00  0          85574503          18  \n",
       "19 0e+00  0          83262170          19  \n",
       "20 0e+00  0          81920546          20  "
      ]
     },
     "metadata": {},
     "output_type": "display_data"
    }
   ],
   "source": [
    "crawler_each_year <- function(url,node,colname_node){\n",
    "    rd <- read_html(url)\n",
    "    node_name <- html_nodes(rd,node)\n",
    "    text <- html_text(node_name)\n",
    "    \n",
    "    #  turn text vector into frame data.frame\n",
    "    tmp_row <- character()\n",
    "    frame <- data.frame(matrix(ncol = 8),stringsAsFactors=FALSE)\n",
    "    col_num <- 0\n",
    "    for (i in 1 : length(text)){\n",
    "        if(i %% 8 != 0 ){\n",
    "            tmp_row <- c(tmp_row,text[i])\n",
    "        }\n",
    "        else{\n",
    "           tmp_row <- c(tmp_row,text[i])\n",
    "           frame <- rbind(frame,tmp_row)\n",
    "           tmp_row <- character() \n",
    "        }\n",
    "        col_num <- 1\n",
    "    }\n",
    "    # remove the row with NA value\n",
    "    frame <- frame[complete.cases(frame),]\n",
    "    \n",
    "    # turn the character colnumn into nummeric column\n",
    "    for (i in 1:ncol(frame)){\n",
    "        tmp_col <- frame[i]\n",
    "        if(i != 1){\n",
    "            tmp_col <- sapply(frame[i],parse_number)\n",
    "        }\n",
    "        \n",
    "        if(i == 1){\n",
    "            new_frame <- tmp_col\n",
    "        }\n",
    "        else {\n",
    "            new_frame <- cbind(new_frame,tmp_col)\n",
    "        }\n",
    "        \n",
    "    }\n",
    "    \n",
    "    # frame is the data.frame without the colnames,colnames need to be added\n",
    "    node_colname <- html_nodes(rd,colname_node)\n",
    "    colname <- html_text(node_colname)\n",
    "    if(length(colname) != 8){\n",
    "        stop(\"colname is wrong !!\")\n",
    "    }\n",
    "    colnames(new_frame) <- colname\n",
    "    # rank the Team\n",
    "    new_frame <- new_frame %>% mutate(Rank = row_number())\n",
    "    return(new_frame)\n",
    "}\n",
    "\n",
    "x <- crawler_each_year(\"https://www.spotrac.com/mlb/payroll/2011/\",\".result , td.xs-hide , .noborderleft\",\"#payroll , #susp , #buried , #dead , #ir , #active , #players , #team\")\n",
    "head(x,20)                                                                                            "
   ]
  },
  {
   "cell_type": "markdown",
   "metadata": {},
   "source": [
    "### 爬不同的網站，整理其url "
   ]
  },
  {
   "cell_type": "code",
   "execution_count": 20,
   "metadata": {},
   "outputs": [],
   "source": [
    "url_vect <- rep(\"https://www.spotrac.com/mlb/payroll/20\",8)\n",
    "tail_num <- 11:18\n",
    "url_vect <- paste(url_vect,tail_num,sep = \"\") %>% paste(\"/\",sep = \"\")"
   ]
  },
  {
   "cell_type": "markdown",
   "metadata": {},
   "source": [
    "### 不同年份的DataFrame整理成list 內的元素"
   ]
  },
  {
   "cell_type": "code",
   "execution_count": null,
   "metadata": {},
   "outputs": [],
   "source": [
    "each_year_payrol <- list()\n",
    "tmp_frame <- data.frame()\n",
    "for(i in 1:length(url_vect)){\n",
    "    tmp_frame <- crawler_each_year(url_vect[i],\".result , td.xs-hide , .noborderleft\",\"#payroll , #susp , #buried , #dead , #ir , #active , #players , #team\")\n",
    "    #each_year_payrol <- c(each_year_payrol,tmp_frame)  \n",
    "    # list append data.frame is wrong,it's turn each row in dataframe into vector then append to list \n",
    "    # solution :\n",
    "    each_year_payrol <- append(each_year_payrol,list(tmp_frame))  \n",
    "    tmp_frame <- data.frame()\n",
    "}\n",
    "x <- each_year_payrol"
   ]
  },
  {
   "cell_type": "markdown",
   "metadata": {},
   "source": [
    "### 更改工作路徑"
   ]
  },
  {
   "cell_type": "code",
   "execution_count": 21,
   "metadata": {},
   "outputs": [],
   "source": [
    "setwd(\"D:\\\\github 工作區\\\\MLB-baseball\\\\各年各隊薪資\")"
   ]
  },
  {
   "cell_type": "markdown",
   "metadata": {},
   "source": [
    "### 匯出各年份資料為csv檔"
   ]
  },
  {
   "cell_type": "code",
   "execution_count": 19,
   "metadata": {},
   "outputs": [],
   "source": [
    "# ouptut with excel form every year\n",
    "for (i in 1 : length(each_year_payrol)){\n",
    "    year <- as.character(2010 + i)\n",
    "    file_name <- paste(year,\".csv\",sep=\"\")\n",
    "    write.table(each_year_payrol[i],file_name,sep=\",\",row.names = FALSE)\n",
    "}"
   ]
  }
 ],
 "metadata": {
  "kernelspec": {
   "display_name": "R",
   "language": "R",
   "name": "ir"
  },
  "language_info": {
   "codemirror_mode": "r",
   "file_extension": ".r",
   "mimetype": "text/x-r-source",
   "name": "R",
   "pygments_lexer": "r",
   "version": "3.3.3"
  }
 },
 "nbformat": 4,
 "nbformat_minor": 2
}
