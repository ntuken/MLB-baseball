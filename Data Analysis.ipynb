{
 "cells": [
  {
   "cell_type": "markdown",
   "metadata": {},
   "source": [
    "## MLB Analysis\n",
    "\n",
    "這次我們會簡單的幾句話跟大家說明資料科學在美國職棒的運用及影響，以下我們會分析下列幾項：\n",
    "\n",
    "* 調整物價波動後，大聯盟平均薪資的變化\n",
    "* 各隊薪資佔聯盟總薪資的佔比\n",
    "* 飛球革命對於大聯盟的影響\n",
    "* 整體薪資和戰績的關係\n",
    "* 薪資組合和戰績的關係\n",
    "\n",
    "\n",
    "### 首先先匯入會用到的函式庫"
   ]
  },
  {
   "cell_type": "code",
   "execution_count": 9,
   "metadata": {},
   "outputs": [],
   "source": [
    "library(ggplot2)"
   ]
  },
  {
   "cell_type": "code",
   "execution_count": 10,
   "metadata": {},
   "outputs": [
    {
     "data": {
      "text/html": [
       "<table>\n",
       "<thead><tr><th scope=col>Team</th><th scope=col>Roster</th><th scope=col>X25.Man.Payroll</th><th scope=col>Injured.Reserve</th><th scope=col>Retained</th><th scope=col>Buried</th><th scope=col>Suspended</th><th scope=col>X2018.Total.Payroll</th><th scope=col>Rank</th></tr></thead>\n",
       "<tbody>\n",
       "\t<tr><td>Boston Red Sox      </td><td>36                  </td><td>167955780           </td><td>18074000            </td><td>41755860            </td><td>2180000             </td><td>      0             </td><td>227398860           </td><td>1                   </td></tr>\n",
       "\t<tr><td>San Francisco Giants</td><td>32                  </td><td>119689218           </td><td>64341827            </td><td>21136053            </td><td>3283000             </td><td>      0             </td><td>205665348           </td><td>2                   </td></tr>\n",
       "\t<tr><td>Los Angeles Dodgers </td><td>40                  </td><td>160502596           </td><td> 3908850            </td><td>30541679            </td><td>5590000             </td><td>      0             </td><td>199582045           </td><td>3                   </td></tr>\n",
       "\t<tr><td>Chicago Cubs        </td><td>37                  </td><td>152092957           </td><td>37451220            </td><td> 1216894            </td><td>2725000             </td><td>3200000             </td><td>194259933           </td><td>4                   </td></tr>\n",
       "\t<tr><td>Washington Nationals</td><td>35                  </td><td>130197979           </td><td> 8999485            </td><td>41161720            </td><td>4481000             </td><td>      0             </td><td>181382609           </td><td>5                   </td></tr>\n",
       "\t<tr><td>New York Yankees    </td><td>38                  </td><td>148010829           </td><td>22568376            </td><td> 9249414            </td><td>3130000             </td><td>      0             </td><td>180098151           </td><td>6                   </td></tr>\n",
       "</tbody>\n",
       "</table>\n"
      ],
      "text/latex": [
       "\\begin{tabular}{r|lllllllll}\n",
       " Team & Roster & X25.Man.Payroll & Injured.Reserve & Retained & Buried & Suspended & X2018.Total.Payroll & Rank\\\\\n",
       "\\hline\n",
       "\t Boston Red Sox       & 36                   & 167955780            & 18074000             & 41755860             & 2180000              &       0              & 227398860            & 1                   \\\\\n",
       "\t San Francisco Giants & 32                   & 119689218            & 64341827             & 21136053             & 3283000              &       0              & 205665348            & 2                   \\\\\n",
       "\t Los Angeles Dodgers  & 40                   & 160502596            &  3908850             & 30541679             & 5590000              &       0              & 199582045            & 3                   \\\\\n",
       "\t Chicago Cubs         & 37                   & 152092957            & 37451220             &  1216894             & 2725000              & 3200000              & 194259933            & 4                   \\\\\n",
       "\t Washington Nationals & 35                   & 130197979            &  8999485             & 41161720             & 4481000              &       0              & 181382609            & 5                   \\\\\n",
       "\t New York Yankees     & 38                   & 148010829            & 22568376             &  9249414             & 3130000              &       0              & 180098151            & 6                   \\\\\n",
       "\\end{tabular}\n"
      ],
      "text/markdown": [
       "\n",
       "Team | Roster | X25.Man.Payroll | Injured.Reserve | Retained | Buried | Suspended | X2018.Total.Payroll | Rank | \n",
       "|---|---|---|---|---|---|\n",
       "| Boston Red Sox       | 36                   | 167955780            | 18074000             | 41755860             | 2180000              |       0              | 227398860            | 1                    | \n",
       "| San Francisco Giants | 32                   | 119689218            | 64341827             | 21136053             | 3283000              |       0              | 205665348            | 2                    | \n",
       "| Los Angeles Dodgers  | 40                   | 160502596            |  3908850             | 30541679             | 5590000              |       0              | 199582045            | 3                    | \n",
       "| Chicago Cubs         | 37                   | 152092957            | 37451220             |  1216894             | 2725000              | 3200000              | 194259933            | 4                    | \n",
       "| Washington Nationals | 35                   | 130197979            |  8999485             | 41161720             | 4481000              |       0              | 181382609            | 5                    | \n",
       "| New York Yankees     | 38                   | 148010829            | 22568376             |  9249414             | 3130000              |       0              | 180098151            | 6                    | \n",
       "\n",
       "\n"
      ],
      "text/plain": [
       "  Team                 Roster X25.Man.Payroll Injured.Reserve Retained Buried \n",
       "1 Boston Red Sox       36     167955780       18074000        41755860 2180000\n",
       "2 San Francisco Giants 32     119689218       64341827        21136053 3283000\n",
       "3 Los Angeles Dodgers  40     160502596        3908850        30541679 5590000\n",
       "4 Chicago Cubs         37     152092957       37451220         1216894 2725000\n",
       "5 Washington Nationals 35     130197979        8999485        41161720 4481000\n",
       "6 New York Yankees     38     148010829       22568376         9249414 3130000\n",
       "  Suspended X2018.Total.Payroll Rank\n",
       "1       0   227398860           1   \n",
       "2       0   205665348           2   \n",
       "3       0   199582045           3   \n",
       "4 3200000   194259933           4   \n",
       "5       0   181382609           5   \n",
       "6       0   180098151           6   "
      ]
     },
     "metadata": {},
     "output_type": "display_data"
    }
   ],
   "source": [
    "data <- read.csv(\"球隊薪資\\\\2018.csv\")\n",
    "head(data)"
   ]
  },
  {
   "cell_type": "code",
   "execution_count": 17,
   "metadata": {},
   "outputs": [
    {
     "data": {
      "text/html": [
       "<table>\n",
       "<thead><tr><th scope=col>Team</th><th scope=col>Roster</th><th scope=col>X25.Man.Payroll</th><th scope=col>Injured.Reserve</th><th scope=col>Retained</th><th scope=col>Buried</th><th scope=col>Suspended</th><th scope=col>X2011.Total.Payroll</th><th scope=col>Rank</th></tr></thead>\n",
       "<tbody>\n",
       "\t<tr><td>New York Yankees             </td><td>41                           </td><td>212609678                    </td><td>0                            </td><td>  950000                     </td><td>0                            </td><td>0                            </td><td>213559678                    </td><td>1                            </td></tr>\n",
       "\t<tr><td>Boston Red Sox               </td><td>47                           </td><td>164517590                    </td><td>0                            </td><td> 8239278                     </td><td>0                            </td><td>0                            </td><td>172553261                    </td><td>2                            </td></tr>\n",
       "\t<tr><td>Philadelphia Phillies        </td><td>38                           </td><td>169799882                    </td><td>0                            </td><td>  168300                     </td><td>0                            </td><td>0                            </td><td>169968182                    </td><td>3                            </td></tr>\n",
       "\t<tr><td>Los Angeles Angels of Anaheim</td><td>38                           </td><td>133613959                    </td><td>0                            </td><td>13034600                     </td><td>0                            </td><td>0                            </td><td>146648559                    </td><td>4                            </td></tr>\n",
       "\t<tr><td>New York Mets                </td><td>38                           </td><td> 96163418                    </td><td>0                            </td><td>45668423                     </td><td>0                            </td><td>0                            </td><td>141831841                    </td><td>5                            </td></tr>\n",
       "\t<tr><td>Chicago Cubs                 </td><td>40                           </td><td>124652698                    </td><td>0                            </td><td>14825000                     </td><td>0                            </td><td>0                            </td><td>139477698                    </td><td>6                            </td></tr>\n",
       "</tbody>\n",
       "</table>\n"
      ],
      "text/latex": [
       "\\begin{tabular}{r|lllllllll}\n",
       " Team & Roster & X25.Man.Payroll & Injured.Reserve & Retained & Buried & Suspended & X2011.Total.Payroll & Rank\\\\\n",
       "\\hline\n",
       "\t New York Yankees              & 41                            & 212609678                     & 0                             &   950000                      & 0                             & 0                             & 213559678                     & 1                            \\\\\n",
       "\t Boston Red Sox                & 47                            & 164517590                     & 0                             &  8239278                      & 0                             & 0                             & 172553261                     & 2                            \\\\\n",
       "\t Philadelphia Phillies         & 38                            & 169799882                     & 0                             &   168300                      & 0                             & 0                             & 169968182                     & 3                            \\\\\n",
       "\t Los Angeles Angels of Anaheim & 38                            & 133613959                     & 0                             & 13034600                      & 0                             & 0                             & 146648559                     & 4                            \\\\\n",
       "\t New York Mets                 & 38                            &  96163418                     & 0                             & 45668423                      & 0                             & 0                             & 141831841                     & 5                            \\\\\n",
       "\t Chicago Cubs                  & 40                            & 124652698                     & 0                             & 14825000                      & 0                             & 0                             & 139477698                     & 6                            \\\\\n",
       "\\end{tabular}\n"
      ],
      "text/markdown": [
       "\n",
       "Team | Roster | X25.Man.Payroll | Injured.Reserve | Retained | Buried | Suspended | X2011.Total.Payroll | Rank | \n",
       "|---|---|---|---|---|---|\n",
       "| New York Yankees              | 41                            | 212609678                     | 0                             |   950000                      | 0                             | 0                             | 213559678                     | 1                             | \n",
       "| Boston Red Sox                | 47                            | 164517590                     | 0                             |  8239278                      | 0                             | 0                             | 172553261                     | 2                             | \n",
       "| Philadelphia Phillies         | 38                            | 169799882                     | 0                             |   168300                      | 0                             | 0                             | 169968182                     | 3                             | \n",
       "| Los Angeles Angels of Anaheim | 38                            | 133613959                     | 0                             | 13034600                      | 0                             | 0                             | 146648559                     | 4                             | \n",
       "| New York Mets                 | 38                            |  96163418                     | 0                             | 45668423                      | 0                             | 0                             | 141831841                     | 5                             | \n",
       "| Chicago Cubs                  | 40                            | 124652698                     | 0                             | 14825000                      | 0                             | 0                             | 139477698                     | 6                             | \n",
       "\n",
       "\n"
      ],
      "text/plain": [
       "  Team                          Roster X25.Man.Payroll Injured.Reserve Retained\n",
       "1 New York Yankees              41     212609678       0                 950000\n",
       "2 Boston Red Sox                47     164517590       0                8239278\n",
       "3 Philadelphia Phillies         38     169799882       0                 168300\n",
       "4 Los Angeles Angels of Anaheim 38     133613959       0               13034600\n",
       "5 New York Mets                 38      96163418       0               45668423\n",
       "6 Chicago Cubs                  40     124652698       0               14825000\n",
       "  Buried Suspended X2011.Total.Payroll Rank\n",
       "1 0      0         213559678           1   \n",
       "2 0      0         172553261           2   \n",
       "3 0      0         169968182           3   \n",
       "4 0      0         146648559           4   \n",
       "5 0      0         141831841           5   \n",
       "6 0      0         139477698           6   "
      ]
     },
     "metadata": {},
     "output_type": "display_data"
    },
    {
     "data": {
      "text/html": [
       "<table>\n",
       "<thead><tr><th scope=col>Name</th><th scope=col>W</th><th scope=col>L</th><th scope=col>PCT</th><th scope=col>GB</th><th scope=col>HOME</th><th scope=col>AWAY</th><th scope=col>RS</th><th scope=col>RA</th><th scope=col>DIFF</th><th scope=col>STRK</th><th scope=col>L10</th></tr></thead>\n",
       "<tbody>\n",
       "\t<tr><td>Philadelphia Phillies</td><td>102                  </td><td>60                   </td><td>0.630                </td><td>-                    </td><td>52-29                </td><td>50-31                </td><td>713                  </td><td>529                  </td><td>184                  </td><td>W4                   </td><td>4-6                  </td></tr>\n",
       "\t<tr><td>New York Yankees     </td><td> 97                  </td><td>65                   </td><td>0.599                </td><td>5                    </td><td>52-29                </td><td>45-36                </td><td>867                  </td><td>657                  </td><td>210                  </td><td>L4                   </td><td>5-5                  </td></tr>\n",
       "\t<tr><td>Milwaukee Brewers    </td><td> 96                  </td><td>66                   </td><td>0.593                </td><td>6                    </td><td>57-24                </td><td>39-42                </td><td>721                  </td><td>638                  </td><td> 83                  </td><td>W2                   </td><td>7-3                  </td></tr>\n",
       "\t<tr><td>Texas Rangers        </td><td> 96                  </td><td>66                   </td><td>0.593                </td><td>6                    </td><td>52-29                </td><td>44-37                </td><td>855                  </td><td>677                  </td><td>178                  </td><td>W6                   </td><td>9-1                  </td></tr>\n",
       "\t<tr><td>Detroit Tigers       </td><td> 95                  </td><td>67                   </td><td>0.586                </td><td>7                    </td><td>50-31                </td><td>45-36                </td><td>787                  </td><td>711                  </td><td> 76                  </td><td>W4                   </td><td>7-3                  </td></tr>\n",
       "\t<tr><td>Arizona Diamondbacks </td><td> 94                  </td><td>68                   </td><td>0.580                </td><td>8                    </td><td>51-30                </td><td>43-38                </td><td>731                  </td><td>662                  </td><td> 69                  </td><td>L1                   </td><td>7-3                  </td></tr>\n",
       "</tbody>\n",
       "</table>\n"
      ],
      "text/latex": [
       "\\begin{tabular}{r|llllllllllll}\n",
       " Name & W & L & PCT & GB & HOME & AWAY & RS & RA & DIFF & STRK & L10\\\\\n",
       "\\hline\n",
       "\t Philadelphia Phillies & 102                   & 60                    & 0.630                 & -                     & 52-29                 & 50-31                 & 713                   & 529                   & 184                   & W4                    & 4-6                  \\\\\n",
       "\t New York Yankees      &  97                   & 65                    & 0.599                 & 5                     & 52-29                 & 45-36                 & 867                   & 657                   & 210                   & L4                    & 5-5                  \\\\\n",
       "\t Milwaukee Brewers     &  96                   & 66                    & 0.593                 & 6                     & 57-24                 & 39-42                 & 721                   & 638                   &  83                   & W2                    & 7-3                  \\\\\n",
       "\t Texas Rangers         &  96                   & 66                    & 0.593                 & 6                     & 52-29                 & 44-37                 & 855                   & 677                   & 178                   & W6                    & 9-1                  \\\\\n",
       "\t Detroit Tigers        &  95                   & 67                    & 0.586                 & 7                     & 50-31                 & 45-36                 & 787                   & 711                   &  76                   & W4                    & 7-3                  \\\\\n",
       "\t Arizona Diamondbacks  &  94                   & 68                    & 0.580                 & 8                     & 51-30                 & 43-38                 & 731                   & 662                   &  69                   & L1                    & 7-3                  \\\\\n",
       "\\end{tabular}\n"
      ],
      "text/markdown": [
       "\n",
       "Name | W | L | PCT | GB | HOME | AWAY | RS | RA | DIFF | STRK | L10 | \n",
       "|---|---|---|---|---|---|\n",
       "| Philadelphia Phillies | 102                   | 60                    | 0.630                 | -                     | 52-29                 | 50-31                 | 713                   | 529                   | 184                   | W4                    | 4-6                   | \n",
       "| New York Yankees      |  97                   | 65                    | 0.599                 | 5                     | 52-29                 | 45-36                 | 867                   | 657                   | 210                   | L4                    | 5-5                   | \n",
       "| Milwaukee Brewers     |  96                   | 66                    | 0.593                 | 6                     | 57-24                 | 39-42                 | 721                   | 638                   |  83                   | W2                    | 7-3                   | \n",
       "| Texas Rangers         |  96                   | 66                    | 0.593                 | 6                     | 52-29                 | 44-37                 | 855                   | 677                   | 178                   | W6                    | 9-1                   | \n",
       "| Detroit Tigers        |  95                   | 67                    | 0.586                 | 7                     | 50-31                 | 45-36                 | 787                   | 711                   |  76                   | W4                    | 7-3                   | \n",
       "| Arizona Diamondbacks  |  94                   | 68                    | 0.580                 | 8                     | 51-30                 | 43-38                 | 731                   | 662                   |  69                   | L1                    | 7-3                   | \n",
       "\n",
       "\n"
      ],
      "text/plain": [
       "  Name                  W   L  PCT   GB HOME  AWAY  RS  RA  DIFF STRK L10\n",
       "1 Philadelphia Phillies 102 60 0.630 -  52-29 50-31 713 529 184  W4   4-6\n",
       "2 New York Yankees       97 65 0.599 5  52-29 45-36 867 657 210  L4   5-5\n",
       "3 Milwaukee Brewers      96 66 0.593 6  57-24 39-42 721 638  83  W2   7-3\n",
       "4 Texas Rangers          96 66 0.593 6  52-29 44-37 855 677 178  W6   9-1\n",
       "5 Detroit Tigers         95 67 0.586 7  50-31 45-36 787 711  76  W4   7-3\n",
       "6 Arizona Diamondbacks   94 68 0.580 8  51-30 43-38 731 662  69  L1   7-3"
      ]
     },
     "metadata": {},
     "output_type": "display_data"
    }
   ],
   "source": [
    "salList <- list()\n",
    "standingList <- list()\n",
    "for (i in c(2011:2018))\n",
    "{\n",
    "    salList[[i - 2010]] <- read.csv(paste(\"球隊薪資\\\\\", toString(i), \".csv\", sep=\"\"))\n",
    "    standingList[[i - 2010]] <- read.csv(paste(\"戰績\\\\\", toString(i), \".csv\", sep=\"\"))\n",
    "}\n",
    "\n",
    "head(salList[[1]])\n",
    "head(standingList[[1]])"
   ]
  },
  {
   "cell_type": "code",
   "execution_count": 12,
   "metadata": {},
   "outputs": [],
   "source": [
    "inflation <- c(1, 1.017, 1.032255, 1.04051304, 1.047796631, 1.069800361, 1.092266168, 1.113019225)\n",
    "meanSal <- c()\n",
    "\n",
    "for (i in c(1:8))\n",
    "{\n",
    "    meanSal[i] <- mean(salList[[i]][, \"X25.Man.Payroll\"]) * inflation[i] / 10000000\n",
    "}\n",
    "\n",
    "salary <- data.frame(meanSalary=meanSal, year=c(2011:2018))"
   ]
  },
  {
   "cell_type": "code",
   "execution_count": 35,
   "metadata": {},
   "outputs": [
    {
     "data": {},
     "metadata": {},
     "output_type": "display_data"
    },
    {
     "data": {
      "image/png": "[encoded data removed]",
      "text/plain": [
       "plot without title"
      ]
     },
     "metadata": {},
     "output_type": "display_data"
    }
   ],
   "source": [
    "# Create a line plot showing the change in meanSalary over time\n",
    "# 少了單位\"千萬\"和美化它\n",
    "\n",
    "options(repr.plot.width=6, repr.plot.height=2)\n",
    "ggplot(salary, aes(year, meanSalary)) + geom_line(color=\"blue\") + geom_point() +\n",
    "    ylab(\"meanSal(millions USD)\") + ggtitle(\"Changes of mean salary per year\") +\n",
    "    theme(plot.title = element_text(hjust=0.5))"
   ]
  },
  {
   "cell_type": "code",
   "execution_count": 14,
   "metadata": {},
   "outputs": [],
   "source": [
    "# pie chart"
   ]
  }
 ],
 "metadata": {
  "kernelspec": {
   "display_name": "R",
   "language": "R",
   "name": "ir"
  },
  "language_info": {
   "codemirror_mode": "r",
   "file_extension": ".r",
   "mimetype": "text/x-r-source",
   "name": "R",
   "pygments_lexer": "r",
   "version": "3.5.1"
  }
 },
 "nbformat": 4,
 "nbformat_minor": 2
}
