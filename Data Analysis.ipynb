{
 "cells": [
  {
   "cell_type": "markdown",
   "metadata": {},
   "source": [
    "## MLB Analysis\n",
    "\n",
    "這次我們會簡單的幾句話跟大家說明資料科學在美國職棒的運用及影響，以下我們會分析下列幾項：\n",
    "\n",
    "* 調整物價波動後，大聯盟平均薪資的變化\n",
    "* 飛球革命對於大聯盟的影響\n",
    "* 整體薪資和戰績的關係\n",
    "\n",
    "### 首先先匯入會用到的函式庫\n",
    "\n",
    "* dylyr: 用於清洗資料\n",
    "* ggplot2: 用於繪畫圖案"
   ]
  },
  {
   "cell_type": "code",
<<<<<<< HEAD
   "execution_count": 1,
   "metadata": {},
   "outputs": [
    {
     "name": "stderr",
     "output_type": "stream",
     "text": [
      "\n",
      "Attaching package: 'dplyr'\n",
      "\n",
      "The following objects are masked from 'package:stats':\n",
      "\n",
      "    filter, lag\n",
      "\n",
      "The following objects are masked from 'package:base':\n",
      "\n",
      "    intersect, setdiff, setequal, union\n",
      "\n"
     ]
    }
   ],
=======
   "execution_count": 12,
   "metadata": {},
   "outputs": [],
>>>>>>> f77feed112255e63f37276af0592367981d23c2a
   "source": [
    "library(dplyr)\n",
    "library(ggplot2)\n",
    "library(robustbase)"
   ]
  },
  {
   "cell_type": "markdown",
   "metadata": {},
   "source": [
    "### 檔案格式"
   ]
  },
  {
   "cell_type": "code",
   "execution_count": 2,
   "metadata": {},
   "outputs": [
    {
     "data": {
      "text/html": [
       "<table>\n",
       "<caption>A data.frame: 6 × 9</caption>\n",
       "<thead>\n",
       "\t<tr><th scope=col>Team</th><th scope=col>Roster</th><th scope=col>X25.Man.Payroll</th><th scope=col>Injured.Reserve</th><th scope=col>Retained</th><th scope=col>Buried</th><th scope=col>Suspended</th><th scope=col>X2018.Total.Payroll</th><th scope=col>Rank</th></tr>\n",
       "\t<tr><th scope=col>&lt;fct&gt;</th><th scope=col>&lt;int&gt;</th><th scope=col>&lt;int&gt;</th><th scope=col>&lt;int&gt;</th><th scope=col>&lt;int&gt;</th><th scope=col>&lt;int&gt;</th><th scope=col>&lt;dbl&gt;</th><th scope=col>&lt;int&gt;</th><th scope=col>&lt;int&gt;</th></tr>\n",
       "</thead>\n",
       "<tbody>\n",
       "\t<tr><td>Boston Red Sox      </td><td>36</td><td>167955780</td><td>18074000</td><td>41755860</td><td>2180000</td><td>      0</td><td>227398860</td><td>1</td></tr>\n",
       "\t<tr><td>San Francisco Giants</td><td>32</td><td>119689218</td><td>64341827</td><td>21136053</td><td>3283000</td><td>      0</td><td>205665348</td><td>2</td></tr>\n",
       "\t<tr><td>Los Angeles Dodgers </td><td>40</td><td>160502596</td><td> 3908850</td><td>30541679</td><td>5590000</td><td>      0</td><td>199582045</td><td>3</td></tr>\n",
       "\t<tr><td>Chicago Cubs        </td><td>37</td><td>152092957</td><td>37451220</td><td> 1216894</td><td>2725000</td><td>3200000</td><td>194259933</td><td>4</td></tr>\n",
       "\t<tr><td>Washington Nationals</td><td>35</td><td>130197979</td><td> 8999485</td><td>41161720</td><td>4481000</td><td>      0</td><td>181382609</td><td>5</td></tr>\n",
       "\t<tr><td>New York Yankees    </td><td>38</td><td>148010829</td><td>22568376</td><td> 9249414</td><td>3130000</td><td>      0</td><td>180098151</td><td>6</td></tr>\n",
       "</tbody>\n",
       "</table>\n"
      ],
      "text/latex": [
       "A data.frame: 6 × 9\n",
       "\\begin{tabular}{r|lllllllll}\n",
       " Team & Roster & X25.Man.Payroll & Injured.Reserve & Retained & Buried & Suspended & X2018.Total.Payroll & Rank\\\\\n",
       " <fct> & <int> & <int> & <int> & <int> & <int> & <dbl> & <int> & <int>\\\\\n",
       "\\hline\n",
       "\t Boston Red Sox       & 36 & 167955780 & 18074000 & 41755860 & 2180000 &       0 & 227398860 & 1\\\\\n",
       "\t San Francisco Giants & 32 & 119689218 & 64341827 & 21136053 & 3283000 &       0 & 205665348 & 2\\\\\n",
       "\t Los Angeles Dodgers  & 40 & 160502596 &  3908850 & 30541679 & 5590000 &       0 & 199582045 & 3\\\\\n",
       "\t Chicago Cubs         & 37 & 152092957 & 37451220 &  1216894 & 2725000 & 3200000 & 194259933 & 4\\\\\n",
       "\t Washington Nationals & 35 & 130197979 &  8999485 & 41161720 & 4481000 &       0 & 181382609 & 5\\\\\n",
       "\t New York Yankees     & 38 & 148010829 & 22568376 &  9249414 & 3130000 &       0 & 180098151 & 6\\\\\n",
       "\\end{tabular}\n"
      ],
      "text/markdown": [
       "\n",
       "A data.frame: 6 × 9\n",
       "\n",
       "| Team &lt;fct&gt; | Roster &lt;int&gt; | X25.Man.Payroll &lt;int&gt; | Injured.Reserve &lt;int&gt; | Retained &lt;int&gt; | Buried &lt;int&gt; | Suspended &lt;dbl&gt; | X2018.Total.Payroll &lt;int&gt; | Rank &lt;int&gt; |\n",
       "|---|---|---|---|---|---|---|---|---|\n",
       "| Boston Red Sox       | 36 | 167955780 | 18074000 | 41755860 | 2180000 |       0 | 227398860 | 1 |\n",
       "| San Francisco Giants | 32 | 119689218 | 64341827 | 21136053 | 3283000 |       0 | 205665348 | 2 |\n",
       "| Los Angeles Dodgers  | 40 | 160502596 |  3908850 | 30541679 | 5590000 |       0 | 199582045 | 3 |\n",
       "| Chicago Cubs         | 37 | 152092957 | 37451220 |  1216894 | 2725000 | 3200000 | 194259933 | 4 |\n",
       "| Washington Nationals | 35 | 130197979 |  8999485 | 41161720 | 4481000 |       0 | 181382609 | 5 |\n",
       "| New York Yankees     | 38 | 148010829 | 22568376 |  9249414 | 3130000 |       0 | 180098151 | 6 |\n",
       "\n"
      ],
      "text/plain": [
       "  Team                 Roster X25.Man.Payroll Injured.Reserve Retained Buried \n",
       "1 Boston Red Sox       36     167955780       18074000        41755860 2180000\n",
       "2 San Francisco Giants 32     119689218       64341827        21136053 3283000\n",
       "3 Los Angeles Dodgers  40     160502596        3908850        30541679 5590000\n",
       "4 Chicago Cubs         37     152092957       37451220         1216894 2725000\n",
       "5 Washington Nationals 35     130197979        8999485        41161720 4481000\n",
       "6 New York Yankees     38     148010829       22568376         9249414 3130000\n",
       "  Suspended X2018.Total.Payroll Rank\n",
       "1       0   227398860           1   \n",
       "2       0   205665348           2   \n",
       "3       0   199582045           3   \n",
       "4 3200000   194259933           4   \n",
       "5       0   181382609           5   \n",
       "6       0   180098151           6   "
      ]
     },
     "metadata": {},
     "output_type": "display_data"
    },
    {
     "data": {
      "text/html": [
       "<table>\n",
       "<caption>A data.frame: 6 × 11</caption>\n",
       "<thead>\n",
       "\t<tr><th scope=col>Active.Players</th><th scope=col>Age</th><th scope=col>Pos.</th><th scope=col>Status</th><th scope=col>Base.Salary</th><th scope=col>Signing.Bonus</th><th scope=col>Incentives</th><th scope=col>Payroll.Salary</th><th scope=col>Adj...Salary</th><th scope=col>Payroll..</th><th scope=col>Lux..Tax.Salary</th></tr>\n",
       "\t<tr><th scope=col>&lt;fct&gt;</th><th scope=col>&lt;int&gt;</th><th scope=col>&lt;fct&gt;</th><th scope=col>&lt;fct&gt;</th><th scope=col>&lt;dbl&gt;</th><th scope=col>&lt;dbl&gt;</th><th scope=col>&lt;int&gt;</th><th scope=col>&lt;dbl&gt;</th><th scope=col>&lt;dbl&gt;</th><th scope=col>&lt;dbl&gt;</th><th scope=col>&lt;int&gt;</th></tr>\n",
       "</thead>\n",
       "<tbody>\n",
       "\t<tr><td>Kelly Johnson</td><td>29</td><td>2B</td><td>Arb 3</td><td>5850000</td><td>     0</td><td>0</td><td>5850000</td><td>5850000</td><td>8.89</td><td>0</td></tr>\n",
       "\t<tr><td>Joe Saunders </td><td>29</td><td>SP</td><td>Arb 2</td><td>5500000</td><td>     0</td><td>0</td><td>5500000</td><td>5500000</td><td>8.36</td><td>0</td></tr>\n",
       "\t<tr><td>Chris Young  </td><td>27</td><td>RF</td><td>Vet  </td><td>5000000</td><td>200000</td><td>0</td><td>5200000</td><td>5200000</td><td>7.90</td><td>0</td></tr>\n",
       "\t<tr><td>Stephen Drew </td><td>28</td><td>2B</td><td>Arb 2</td><td>4650000</td><td>     0</td><td>0</td><td>4650000</td><td>4650000</td><td>7.07</td><td>0</td></tr>\n",
       "\t<tr><td>Justin Upton </td><td>23</td><td>LF</td><td>Vet  </td><td>4250000</td><td>208333</td><td>0</td><td>4458333</td><td>4458333</td><td>6.78</td><td>0</td></tr>\n",
       "\t<tr><td>J.J. Putz    </td><td>34</td><td>RP</td><td>Vet  </td><td>4000000</td><td>     0</td><td>0</td><td>4000000</td><td>4000000</td><td>6.08</td><td>0</td></tr>\n",
       "</tbody>\n",
       "</table>\n"
      ],
      "text/latex": [
       "A data.frame: 6 × 11\n",
       "\\begin{tabular}{r|lllllllllll}\n",
       " Active.Players & Age & Pos. & Status & Base.Salary & Signing.Bonus & Incentives & Payroll.Salary & Adj...Salary & Payroll.. & Lux..Tax.Salary\\\\\n",
       " <fct> & <int> & <fct> & <fct> & <dbl> & <dbl> & <int> & <dbl> & <dbl> & <dbl> & <int>\\\\\n",
       "\\hline\n",
       "\t Kelly Johnson & 29 & 2B & Arb 3 & 5850000 &      0 & 0 & 5850000 & 5850000 & 8.89 & 0\\\\\n",
       "\t Joe Saunders  & 29 & SP & Arb 2 & 5500000 &      0 & 0 & 5500000 & 5500000 & 8.36 & 0\\\\\n",
       "\t Chris Young   & 27 & RF & Vet   & 5000000 & 200000 & 0 & 5200000 & 5200000 & 7.90 & 0\\\\\n",
       "\t Stephen Drew  & 28 & 2B & Arb 2 & 4650000 &      0 & 0 & 4650000 & 4650000 & 7.07 & 0\\\\\n",
       "\t Justin Upton  & 23 & LF & Vet   & 4250000 & 208333 & 0 & 4458333 & 4458333 & 6.78 & 0\\\\\n",
       "\t J.J. Putz     & 34 & RP & Vet   & 4000000 &      0 & 0 & 4000000 & 4000000 & 6.08 & 0\\\\\n",
       "\\end{tabular}\n"
      ],
      "text/markdown": [
       "\n",
       "A data.frame: 6 × 11\n",
       "\n",
       "| Active.Players &lt;fct&gt; | Age &lt;int&gt; | Pos. &lt;fct&gt; | Status &lt;fct&gt; | Base.Salary &lt;dbl&gt; | Signing.Bonus &lt;dbl&gt; | Incentives &lt;int&gt; | Payroll.Salary &lt;dbl&gt; | Adj...Salary &lt;dbl&gt; | Payroll.. &lt;dbl&gt; | Lux..Tax.Salary &lt;int&gt; |\n",
       "|---|---|---|---|---|---|---|---|---|---|---|\n",
       "| Kelly Johnson | 29 | 2B | Arb 3 | 5850000 |      0 | 0 | 5850000 | 5850000 | 8.89 | 0 |\n",
       "| Joe Saunders  | 29 | SP | Arb 2 | 5500000 |      0 | 0 | 5500000 | 5500000 | 8.36 | 0 |\n",
       "| Chris Young   | 27 | RF | Vet   | 5000000 | 200000 | 0 | 5200000 | 5200000 | 7.90 | 0 |\n",
       "| Stephen Drew  | 28 | 2B | Arb 2 | 4650000 |      0 | 0 | 4650000 | 4650000 | 7.07 | 0 |\n",
       "| Justin Upton  | 23 | LF | Vet   | 4250000 | 208333 | 0 | 4458333 | 4458333 | 6.78 | 0 |\n",
       "| J.J. Putz     | 34 | RP | Vet   | 4000000 |      0 | 0 | 4000000 | 4000000 | 6.08 | 0 |\n",
       "\n"
      ],
      "text/plain": [
       "  Active.Players Age Pos. Status Base.Salary Signing.Bonus Incentives\n",
       "1 Kelly Johnson  29  2B   Arb 3  5850000          0        0         \n",
       "2 Joe Saunders   29  SP   Arb 2  5500000          0        0         \n",
       "3 Chris Young    27  RF   Vet    5000000     200000        0         \n",
       "4 Stephen Drew   28  2B   Arb 2  4650000          0        0         \n",
       "5 Justin Upton   23  LF   Vet    4250000     208333        0         \n",
       "6 J.J. Putz      34  RP   Vet    4000000          0        0         \n",
       "  Payroll.Salary Adj...Salary Payroll.. Lux..Tax.Salary\n",
       "1 5850000        5850000      8.89      0              \n",
       "2 5500000        5500000      8.36      0              \n",
       "3 5200000        5200000      7.90      0              \n",
       "4 4650000        4650000      7.07      0              \n",
       "5 4458333        4458333      6.78      0              \n",
       "6 4000000        4000000      6.08      0              "
      ]
     },
     "metadata": {},
     "output_type": "display_data"
    },
    {
     "data": {
      "text/html": [
       "<table>\n",
       "<caption>A data.frame: 6 × 12</caption>\n",
       "<thead>\n",
       "\t<tr><th scope=col>Name</th><th scope=col>W</th><th scope=col>L</th><th scope=col>PCT</th><th scope=col>GB</th><th scope=col>HOME</th><th scope=col>AWAY</th><th scope=col>RS</th><th scope=col>RA</th><th scope=col>DIFF</th><th scope=col>STRK</th><th scope=col>L10</th></tr>\n",
       "\t<tr><th scope=col>&lt;fct&gt;</th><th scope=col>&lt;int&gt;</th><th scope=col>&lt;int&gt;</th><th scope=col>&lt;dbl&gt;</th><th scope=col>&lt;fct&gt;</th><th scope=col>&lt;fct&gt;</th><th scope=col>&lt;fct&gt;</th><th scope=col>&lt;int&gt;</th><th scope=col>&lt;int&gt;</th><th scope=col>&lt;int&gt;</th><th scope=col>&lt;fct&gt;</th><th scope=col>&lt;fct&gt;</th></tr>\n",
       "</thead>\n",
       "<tbody>\n",
       "\t<tr><td>Philadelphia Phillies</td><td>102</td><td>60</td><td>0.630</td><td>-</td><td>52-29</td><td>50-31</td><td>713</td><td>529</td><td>184</td><td>W4</td><td>4-6</td></tr>\n",
       "\t<tr><td>New York Yankees     </td><td> 97</td><td>65</td><td>0.599</td><td>5</td><td>52-29</td><td>45-36</td><td>867</td><td>657</td><td>210</td><td>L4</td><td>5-5</td></tr>\n",
       "\t<tr><td>Milwaukee Brewers    </td><td> 96</td><td>66</td><td>0.593</td><td>6</td><td>57-24</td><td>39-42</td><td>721</td><td>638</td><td> 83</td><td>W2</td><td>7-3</td></tr>\n",
       "\t<tr><td>Texas Rangers        </td><td> 96</td><td>66</td><td>0.593</td><td>6</td><td>52-29</td><td>44-37</td><td>855</td><td>677</td><td>178</td><td>W6</td><td>9-1</td></tr>\n",
       "\t<tr><td>Detroit Tigers       </td><td> 95</td><td>67</td><td>0.586</td><td>7</td><td>50-31</td><td>45-36</td><td>787</td><td>711</td><td> 76</td><td>W4</td><td>7-3</td></tr>\n",
       "\t<tr><td>Arizona Diamondbacks </td><td> 94</td><td>68</td><td>0.580</td><td>8</td><td>51-30</td><td>43-38</td><td>731</td><td>662</td><td> 69</td><td>L1</td><td>7-3</td></tr>\n",
       "</tbody>\n",
       "</table>\n"
      ],
      "text/latex": [
       "A data.frame: 6 × 12\n",
       "\\begin{tabular}{r|llllllllllll}\n",
       " Name & W & L & PCT & GB & HOME & AWAY & RS & RA & DIFF & STRK & L10\\\\\n",
       " <fct> & <int> & <int> & <dbl> & <fct> & <fct> & <fct> & <int> & <int> & <int> & <fct> & <fct>\\\\\n",
       "\\hline\n",
       "\t Philadelphia Phillies & 102 & 60 & 0.630 & - & 52-29 & 50-31 & 713 & 529 & 184 & W4 & 4-6\\\\\n",
       "\t New York Yankees      &  97 & 65 & 0.599 & 5 & 52-29 & 45-36 & 867 & 657 & 210 & L4 & 5-5\\\\\n",
       "\t Milwaukee Brewers     &  96 & 66 & 0.593 & 6 & 57-24 & 39-42 & 721 & 638 &  83 & W2 & 7-3\\\\\n",
       "\t Texas Rangers         &  96 & 66 & 0.593 & 6 & 52-29 & 44-37 & 855 & 677 & 178 & W6 & 9-1\\\\\n",
       "\t Detroit Tigers        &  95 & 67 & 0.586 & 7 & 50-31 & 45-36 & 787 & 711 &  76 & W4 & 7-3\\\\\n",
       "\t Arizona Diamondbacks  &  94 & 68 & 0.580 & 8 & 51-30 & 43-38 & 731 & 662 &  69 & L1 & 7-3\\\\\n",
       "\\end{tabular}\n"
      ],
      "text/markdown": [
       "\n",
       "A data.frame: 6 × 12\n",
       "\n",
       "| Name &lt;fct&gt; | W &lt;int&gt; | L &lt;int&gt; | PCT &lt;dbl&gt; | GB &lt;fct&gt; | HOME &lt;fct&gt; | AWAY &lt;fct&gt; | RS &lt;int&gt; | RA &lt;int&gt; | DIFF &lt;int&gt; | STRK &lt;fct&gt; | L10 &lt;fct&gt; |\n",
       "|---|---|---|---|---|---|---|---|---|---|---|---|\n",
       "| Philadelphia Phillies | 102 | 60 | 0.630 | - | 52-29 | 50-31 | 713 | 529 | 184 | W4 | 4-6 |\n",
       "| New York Yankees      |  97 | 65 | 0.599 | 5 | 52-29 | 45-36 | 867 | 657 | 210 | L4 | 5-5 |\n",
       "| Milwaukee Brewers     |  96 | 66 | 0.593 | 6 | 57-24 | 39-42 | 721 | 638 |  83 | W2 | 7-3 |\n",
       "| Texas Rangers         |  96 | 66 | 0.593 | 6 | 52-29 | 44-37 | 855 | 677 | 178 | W6 | 9-1 |\n",
       "| Detroit Tigers        |  95 | 67 | 0.586 | 7 | 50-31 | 45-36 | 787 | 711 |  76 | W4 | 7-3 |\n",
       "| Arizona Diamondbacks  |  94 | 68 | 0.580 | 8 | 51-30 | 43-38 | 731 | 662 |  69 | L1 | 7-3 |\n",
       "\n"
      ],
      "text/plain": [
       "  Name                  W   L  PCT   GB HOME  AWAY  RS  RA  DIFF STRK L10\n",
       "1 Philadelphia Phillies 102 60 0.630 -  52-29 50-31 713 529 184  W4   4-6\n",
       "2 New York Yankees       97 65 0.599 5  52-29 45-36 867 657 210  L4   5-5\n",
       "3 Milwaukee Brewers      96 66 0.593 6  57-24 39-42 721 638  83  W2   7-3\n",
       "4 Texas Rangers          96 66 0.593 6  52-29 44-37 855 677 178  W6   9-1\n",
       "5 Detroit Tigers         95 67 0.586 7  50-31 45-36 787 711  76  W4   7-3\n",
       "6 Arizona Diamondbacks   94 68 0.580 8  51-30 43-38 731 662  69  L1   7-3"
      ]
     },
     "metadata": {},
     "output_type": "display_data"
    },
    {
     "data": {
      "text/html": [
       "<table>\n",
       "<thead><tr><th scope=col>Tm</th><th scope=col>R.G</th><th scope=col>HR.</th><th scope=col>SO.</th><th scope=col>BB.</th><th scope=col>XBH.</th><th scope=col>X.H.</th><th scope=col>SO.W</th><th scope=col>AB.SO</th><th scope=col>AB.HR</th><th scope=col>AB.RBI</th><th scope=col>GB.FB</th><th scope=col>GO.AO</th><th scope=col>IP.</th><th scope=col>LD.</th><th scope=col>HR.FB</th><th scope=col>IF.FB</th></tr></thead>\n",
       "<tbody>\n",
       "\t<tr><td>ARI   </td><td>4.51  </td><td>2.80% </td><td>20.50%</td><td>8.70% </td><td>8.20% </td><td>37%   </td><td>2.35  </td><td>4.3   </td><td>31.5  </td><td>7.7   </td><td>0.71  </td><td>0.94  </td><td>66%   </td><td>18%   </td><td>8.20% </td><td>14%   </td></tr>\n",
       "\t<tr><td>ATL   </td><td>3.96  </td><td>2.80% </td><td>20.40%</td><td>8.20% </td><td>7.00% </td><td>32%   </td><td>2.50  </td><td>4.4   </td><td>32.0  </td><td>9.1   </td><td>0.86  </td><td>1.17  </td><td>67%   </td><td>15%   </td><td>8.90% </td><td>15%   </td></tr>\n",
       "\t<tr><td>BAL   </td><td>4.37  </td><td>3.10% </td><td>18.20%</td><td>7.30% </td><td>7.80% </td><td>33%   </td><td>2.48  </td><td>5.0   </td><td>29.2  </td><td>8.2   </td><td>0.80  </td><td>1.06  </td><td>70%   </td><td>17%   </td><td>8.80% </td><td>13%   </td></tr>\n",
       "\t<tr><td>BOS   </td><td>5.40  </td><td>3.20% </td><td>17.30%</td><td>9.00% </td><td>9.20% </td><td>37%   </td><td>1.92  </td><td>5.2   </td><td>28.1  </td><td>6.8   </td><td>0.77  </td><td>1.03  </td><td>69%   </td><td>18%   </td><td>8.90% </td><td>13%   </td></tr>\n",
       "\t<tr><td>CHC   </td><td>4.04  </td><td>2.40% </td><td>19.60%</td><td>6.90% </td><td>7.70% </td><td>33%   </td><td>2.83  </td><td>4.6   </td><td>37.5  </td><td>9.1   </td><td>0.82  </td><td>1.10  </td><td>69%   </td><td>20%   </td><td>7.20% </td><td>13%   </td></tr>\n",
       "\t<tr><td>CHW   </td><td>4.04  </td><td>2.50% </td><td>16.10%</td><td>7.70% </td><td>6.90% </td><td>30%   </td><td>2.08  </td><td>5.6   </td><td>35.7  </td><td>8.8   </td><td>0.78  </td><td>1.01  </td><td>72%   </td><td>19%   </td><td>7.20% </td><td>16%   </td></tr>\n",
       "</tbody>\n",
       "</table>\n"
      ],
      "text/latex": [
       "\\begin{tabular}{r|lllllllllllllllll}\n",
       " Tm & R.G & HR. & SO. & BB. & XBH. & X.H. & SO.W & AB.SO & AB.HR & AB.RBI & GB.FB & GO.AO & IP. & LD. & HR.FB & IF.FB\\\\\n",
       "\\hline\n",
       "\t ARI      & 4.51     & 2.80\\%  & 20.50\\% & 8.70\\%  & 8.20\\%  & 37\\%    & 2.35     & 4.3      & 31.5     & 7.7      & 0.71     & 0.94     & 66\\%    & 18\\%    & 8.20\\%  & 14\\%   \\\\\n",
       "\t ATL      & 3.96     & 2.80\\%  & 20.40\\% & 8.20\\%  & 7.00\\%  & 32\\%    & 2.50     & 4.4      & 32.0     & 9.1      & 0.86     & 1.17     & 67\\%    & 15\\%    & 8.90\\%  & 15\\%   \\\\\n",
       "\t BAL      & 4.37     & 3.10\\%  & 18.20\\% & 7.30\\%  & 7.80\\%  & 33\\%    & 2.48     & 5.0      & 29.2     & 8.2      & 0.80     & 1.06     & 70\\%    & 17\\%    & 8.80\\%  & 13\\%   \\\\\n",
       "\t BOS      & 5.40     & 3.20\\%  & 17.30\\% & 9.00\\%  & 9.20\\%  & 37\\%    & 1.92     & 5.2      & 28.1     & 6.8      & 0.77     & 1.03     & 69\\%    & 18\\%    & 8.90\\%  & 13\\%   \\\\\n",
       "\t CHC      & 4.04     & 2.40\\%  & 19.60\\% & 6.90\\%  & 7.70\\%  & 33\\%    & 2.83     & 4.6      & 37.5     & 9.1      & 0.82     & 1.10     & 69\\%    & 20\\%    & 7.20\\%  & 13\\%   \\\\\n",
       "\t CHW      & 4.04     & 2.50\\%  & 16.10\\% & 7.70\\%  & 6.90\\%  & 30\\%    & 2.08     & 5.6      & 35.7     & 8.8      & 0.78     & 1.01     & 72\\%    & 19\\%    & 7.20\\%  & 16\\%   \\\\\n",
       "\\end{tabular}\n"
      ],
      "text/markdown": [
       "\n",
       "Tm | R.G | HR. | SO. | BB. | XBH. | X.H. | SO.W | AB.SO | AB.HR | AB.RBI | GB.FB | GO.AO | IP. | LD. | HR.FB | IF.FB | \n",
       "|---|---|---|---|---|---|\n",
       "| ARI    | 4.51   | 2.80%  | 20.50% | 8.70%  | 8.20%  | 37%    | 2.35   | 4.3    | 31.5   | 7.7    | 0.71   | 0.94   | 66%    | 18%    | 8.20%  | 14%    | \n",
       "| ATL    | 3.96   | 2.80%  | 20.40% | 8.20%  | 7.00%  | 32%    | 2.50   | 4.4    | 32.0   | 9.1    | 0.86   | 1.17   | 67%    | 15%    | 8.90%  | 15%    | \n",
       "| BAL    | 4.37   | 3.10%  | 18.20% | 7.30%  | 7.80%  | 33%    | 2.48   | 5.0    | 29.2   | 8.2    | 0.80   | 1.06   | 70%    | 17%    | 8.80%  | 13%    | \n",
       "| BOS    | 5.40   | 3.20%  | 17.30% | 9.00%  | 9.20%  | 37%    | 1.92   | 5.2    | 28.1   | 6.8    | 0.77   | 1.03   | 69%    | 18%    | 8.90%  | 13%    | \n",
       "| CHC    | 4.04   | 2.40%  | 19.60% | 6.90%  | 7.70%  | 33%    | 2.83   | 4.6    | 37.5   | 9.1    | 0.82   | 1.10   | 69%    | 20%    | 7.20%  | 13%    | \n",
       "| CHW    | 4.04   | 2.50%  | 16.10% | 7.70%  | 6.90%  | 30%    | 2.08   | 5.6    | 35.7   | 8.8    | 0.78   | 1.01   | 72%    | 19%    | 7.20%  | 16%    | \n",
       "\n",
       "\n"
      ],
      "text/plain": [
       "  Tm  R.G  HR.   SO.    BB.   XBH.  X.H. SO.W AB.SO AB.HR AB.RBI GB.FB GO.AO\n",
       "1 ARI 4.51 2.80% 20.50% 8.70% 8.20% 37%  2.35 4.3   31.5  7.7    0.71  0.94 \n",
       "2 ATL 3.96 2.80% 20.40% 8.20% 7.00% 32%  2.50 4.4   32.0  9.1    0.86  1.17 \n",
       "3 BAL 4.37 3.10% 18.20% 7.30% 7.80% 33%  2.48 5.0   29.2  8.2    0.80  1.06 \n",
       "4 BOS 5.40 3.20% 17.30% 9.00% 9.20% 37%  1.92 5.2   28.1  6.8    0.77  1.03 \n",
       "5 CHC 4.04 2.40% 19.60% 6.90% 7.70% 33%  2.83 4.6   37.5  9.1    0.82  1.10 \n",
       "6 CHW 4.04 2.50% 16.10% 7.70% 6.90% 30%  2.08 5.6   35.7  8.8    0.78  1.01 \n",
       "  IP. LD. HR.FB IF.FB\n",
       "1 66% 18% 8.20% 14%  \n",
       "2 67% 15% 8.90% 15%  \n",
       "3 70% 17% 8.80% 13%  \n",
       "4 69% 18% 8.90% 13%  \n",
       "5 69% 20% 7.20% 13%  \n",
       "6 72% 19% 7.20% 16%  "
      ]
     },
     "metadata": {},
     "output_type": "display_data"
    }
   ],
   "source": [
    "head(read.csv(\"球隊薪資\\\\2018.csv\"))\n",
    "head(read.csv(\"25人名單薪資\\\\Arizona Diamondbacks 2011.csv\"))\n",
    "head(read.csv(\"戰績\\\\2011.csv\"))\n",
    "head(read.csv(\"年度統計\\\\2011.csv\"))"
   ]
  },
  {
   "cell_type": "markdown",
   "metadata": {},
   "source": []
  },
  {
   "cell_type": "markdown",
   "metadata": {},
   "source": [
    "### 讀取檔案並存取至List中\n",
    "\n",
    "* 將各年30個球隊的總薪資，讀取轉成dataframe之後，存放在salList中\n",
    "* 將2011~2018戰績，讀取轉成dataframe之後，standingList"
   ]
  },
  {
   "cell_type": "code",
<<<<<<< HEAD
   "execution_count": 3,
=======
   "execution_count": 20,
>>>>>>> f77feed112255e63f37276af0592367981d23c2a
   "metadata": {},
   "outputs": [
    {
     "data": {
      "text/html": [
       "<table>\n",
       "<thead><tr><th scope=col>Team</th><th scope=col>W</th><th scope=col>L</th><th scope=col>PCT</th><th scope=col>GB</th><th scope=col>HOME</th><th scope=col>AWAY</th><th scope=col>RS</th><th scope=col>RA</th><th scope=col>DIFF</th><th scope=col>STRK</th><th scope=col>L10</th><th scope=col>year</th></tr></thead>\n",
       "<tbody>\n",
       "\t<tr><td>Philadelphia Phillies</td><td>102                  </td><td>60                   </td><td>0.630                </td><td>-                    </td><td>52-29                </td><td>50-31                </td><td>713                  </td><td>529                  </td><td>184                  </td><td>W4                   </td><td>4-6                  </td><td>2011                 </td></tr>\n",
       "\t<tr><td>New York Yankees     </td><td> 97                  </td><td>65                   </td><td>0.599                </td><td>5                    </td><td>52-29                </td><td>45-36                </td><td>867                  </td><td>657                  </td><td>210                  </td><td>L4                   </td><td>5-5                  </td><td>2011                 </td></tr>\n",
       "\t<tr><td>Milwaukee Brewers    </td><td> 96                  </td><td>66                   </td><td>0.593                </td><td>6                    </td><td>57-24                </td><td>39-42                </td><td>721                  </td><td>638                  </td><td> 83                  </td><td>W2                   </td><td>7-3                  </td><td>2011                 </td></tr>\n",
       "\t<tr><td>Texas Rangers        </td><td> 96                  </td><td>66                   </td><td>0.593                </td><td>6                    </td><td>52-29                </td><td>44-37                </td><td>855                  </td><td>677                  </td><td>178                  </td><td>W6                   </td><td>9-1                  </td><td>2011                 </td></tr>\n",
       "\t<tr><td>Detroit Tigers       </td><td> 95                  </td><td>67                   </td><td>0.586                </td><td>7                    </td><td>50-31                </td><td>45-36                </td><td>787                  </td><td>711                  </td><td> 76                  </td><td>W4                   </td><td>7-3                  </td><td>2011                 </td></tr>\n",
       "\t<tr><td>Arizona Diamondbacks </td><td> 94                  </td><td>68                   </td><td>0.580                </td><td>8                    </td><td>51-30                </td><td>43-38                </td><td>731                  </td><td>662                  </td><td> 69                  </td><td>L1                   </td><td>7-3                  </td><td>2011                 </td></tr>\n",
       "</tbody>\n",
       "</table>\n"
      ],
      "text/latex": [
       "\\begin{tabular}{r|lllllllllllll}\n",
       " Team & W & L & PCT & GB & HOME & AWAY & RS & RA & DIFF & STRK & L10 & year\\\\\n",
       "\\hline\n",
       "\t Philadelphia Phillies & 102                   & 60                    & 0.630                 & -                     & 52-29                 & 50-31                 & 713                   & 529                   & 184                   & W4                    & 4-6                   & 2011                 \\\\\n",
       "\t New York Yankees      &  97                   & 65                    & 0.599                 & 5                     & 52-29                 & 45-36                 & 867                   & 657                   & 210                   & L4                    & 5-5                   & 2011                 \\\\\n",
       "\t Milwaukee Brewers     &  96                   & 66                    & 0.593                 & 6                     & 57-24                 & 39-42                 & 721                   & 638                   &  83                   & W2                    & 7-3                   & 2011                 \\\\\n",
       "\t Texas Rangers         &  96                   & 66                    & 0.593                 & 6                     & 52-29                 & 44-37                 & 855                   & 677                   & 178                   & W6                    & 9-1                   & 2011                 \\\\\n",
       "\t Detroit Tigers        &  95                   & 67                    & 0.586                 & 7                     & 50-31                 & 45-36                 & 787                   & 711                   &  76                   & W4                    & 7-3                   & 2011                 \\\\\n",
       "\t Arizona Diamondbacks  &  94                   & 68                    & 0.580                 & 8                     & 51-30                 & 43-38                 & 731                   & 662                   &  69                   & L1                    & 7-3                   & 2011                 \\\\\n",
       "\\end{tabular}\n"
      ],
      "text/markdown": [
       "\n",
       "Team | W | L | PCT | GB | HOME | AWAY | RS | RA | DIFF | STRK | L10 | year | \n",
       "|---|---|---|---|---|---|\n",
       "| Philadelphia Phillies | 102                   | 60                    | 0.630                 | -                     | 52-29                 | 50-31                 | 713                   | 529                   | 184                   | W4                    | 4-6                   | 2011                  | \n",
       "| New York Yankees      |  97                   | 65                    | 0.599                 | 5                     | 52-29                 | 45-36                 | 867                   | 657                   | 210                   | L4                    | 5-5                   | 2011                  | \n",
       "| Milwaukee Brewers     |  96                   | 66                    | 0.593                 | 6                     | 57-24                 | 39-42                 | 721                   | 638                   |  83                   | W2                    | 7-3                   | 2011                  | \n",
       "| Texas Rangers         |  96                   | 66                    | 0.593                 | 6                     | 52-29                 | 44-37                 | 855                   | 677                   | 178                   | W6                    | 9-1                   | 2011                  | \n",
       "| Detroit Tigers        |  95                   | 67                    | 0.586                 | 7                     | 50-31                 | 45-36                 | 787                   | 711                   |  76                   | W4                    | 7-3                   | 2011                  | \n",
       "| Arizona Diamondbacks  |  94                   | 68                    | 0.580                 | 8                     | 51-30                 | 43-38                 | 731                   | 662                   |  69                   | L1                    | 7-3                   | 2011                  | \n",
       "\n",
       "\n"
      ],
      "text/plain": [
       "  Team                  W   L  PCT   GB HOME  AWAY  RS  RA  DIFF STRK L10 year\n",
       "1 Philadelphia Phillies 102 60 0.630 -  52-29 50-31 713 529 184  W4   4-6 2011\n",
       "2 New York Yankees       97 65 0.599 5  52-29 45-36 867 657 210  L4   5-5 2011\n",
       "3 Milwaukee Brewers      96 66 0.593 6  57-24 39-42 721 638  83  W2   7-3 2011\n",
       "4 Texas Rangers          96 66 0.593 6  52-29 44-37 855 677 178  W6   9-1 2011\n",
       "5 Detroit Tigers         95 67 0.586 7  50-31 45-36 787 711  76  W4   7-3 2011\n",
       "6 Arizona Diamondbacks   94 68 0.580 8  51-30 43-38 731 662  69  L1   7-3 2011"
      ]
     },
     "metadata": {},
     "output_type": "display_data"
    }
   ],
   "source": [
    "salList <- list()\n",
    "standingList <- list()\n",
    "statisticList <- list()\n",
    "for (i in c(2011:2018))\n",
    "{\n",
    "    salList[[i - 2010]] <- read.csv(paste(\"球隊薪資\\\\\", toString(i), \".csv\", sep=\"\"))\n",
    "    standingList[[i - 2010]] <- read.csv(paste(\"戰績\\\\\", toString(i), \".csv\", sep=\"\"))\n",
    "    statisticList[[i - 2010]] <- read.csv(paste(\"年度統計\\\\\", toString(i), \".csv\", sep=\"\"))\n",
    "    standingList[[i - 2010]]$year <- i\n",
    "    colnames(standingList[[i - 2010]])[1] <- \"Team\"\n",
    "}"
   ]
  },
  {
   "cell_type": "markdown",
   "metadata": {},
   "source": []
  },
  {
   "cell_type": "code",
   "execution_count": 4,
   "metadata": {},
   "outputs": [
    {
     "name": "stderr",
     "output_type": "stream",
     "text": [
      "Warning message:\n",
      "\"`as_dictionary()` is soft-deprecated as of rlang 0.3.0.\n",
      "Please use `as_data_pronoun()` instead\n",
      "\u001b[90mThis warning is displayed once per session.\u001b[39m\"Warning message:\n",
      "\"`new_overscope()` is soft-deprecated as of rlang 0.2.0.\n",
      "Please use `new_data_mask()` instead\n",
      "\u001b[90mThis warning is displayed once per session.\u001b[39m\"Warning message:\n",
      "\"The `parent` argument of `new_data_mask()` is deprecated.\n",
      "The parent of the data mask is determined from either:\n",
      "\n",
      "  * The `env` argument of `eval_tidy()`\n",
      "  * Quosure environments when applicable\n",
      "\u001b[90mThis warning is displayed once per session.\u001b[39m\"Warning message:\n",
      "\"`overscope_clean()` is soft-deprecated as of rlang 0.2.0.\n",
      "\u001b[90mThis warning is displayed once per session.\u001b[39m\""
     ]
    }
   ],
   "source": [
    "inflation <- c(1, 1.017, 1.032255, 1.04051304, 1.047796631, 1.069800361, 1.092266168, 1.113019225)\n",
    "meanSal <- c()\n",
    "\n",
    "for (i in c(1:8))\n",
    "{\n",
    "    meanSal[i] <- mean(salList[[i]][, \"X25.Man.Payroll\"]) * inflation[i] / 1000000\n",
    "}\n",
    "salary <- data.frame(meanSalary=meanSal, year=c(2011:2018))\n",
    "\n",
    "\n",
    "c <- data.frame(matrix(ncol=2))\n",
    "colnames(c) <- c(\"year\", \"salary\")\n",
    "for (i in c(1:8))\n",
    "{ \n",
    "    tem <- data.frame(year=2010 + i, salary=salList[[i]][, \"X25.Man.Payroll\"])\n",
    "    c <- rbind(c, tem)\n",
    "    c <- c[complete.cases(c),]\n",
    "}\n",
    "c <- c %>% mutate(salary = salary/1000000)"
   ]
  },
  {
   "cell_type": "code",
   "execution_count": 5,
   "metadata": {},
   "outputs": [
    {
     "data": {
      "image/png": "iVBORw0KGgoAAAANSUhEUgAAAtAAAADwCAMAAAAeuqOxAAAAOVBMVEUAAAAAAP8zMzNNTU1o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\nzcpKDDQrKzHQrKzEQLOy0v9rQbb/BqF/KQAAAABJRU5ErkJggg==",
      "text/plain": [
       "plot without title"
      ]
     },
     "metadata": {},
     "output_type": "display_data"
    }
   ],
   "source": [
    "# Create a line plot showing the change in meanSalary over time\n",
    "\n",
    "options(repr.plot.width=6, repr.plot.height=2)\n",
    "ggplot(salary, aes(year, meanSalary)) + geom_line(color=\"blue\") + geom_point() +\n",
    "    ylab(\"meanSal(millions USD)\") + ggtitle(\"Changes of mean salary per year\") +\n",
    "    theme(plot.title = element_text(hjust=0.5))"
   ]
  },
  {
   "cell_type": "code",
   "execution_count": 6,
   "metadata": {},
   "outputs": [
    {
<<<<<<< HEAD
=======
     "data": {},
     "metadata": {},
     "output_type": "display_data"
    },
    {
>>>>>>> f77feed112255e63f37276af0592367981d23c2a
     "data": {
      "image/png": "iVBORw0KGgoAAAANSUhEUgAAAtAAAADwCAMAAAAeuqOxAAAANlBMVEUAAAAzMzNNTU1oaGh8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\nYhT54aUAAAAASUVORK5CYII=",
      "text/plain": [
       "plot without title"
      ]
     },
     "metadata": {},
     "output_type": "display_data"
    }
   ],
   "source": [
    "ggplot(c, aes(x=as.factor(year), y=salary)) + geom_boxplot(outlier.colour=\"black\", outlier.shape=16, outlier.size=1, notch=FALSE) +\n",
    "    xlab(\"year\") + ylab(\"Salary(millions USD)\") + ggtitle(\"Distribution of salary per year\") +\n",
    "    theme(plot.title = element_text(hjust=0.5)) + scale_fill_brewer(palette=\"RdBu\")"
   ]
  },
  {
   "cell_type": "code",
<<<<<<< HEAD
=======
   "execution_count": 38,
   "metadata": {},
   "outputs": [
    {
     "data": {
      "text/html": [
       "95"
      ],
      "text/latex": [
       "95"
      ],
      "text/markdown": [
       "95"
      ],
      "text/plain": [
       "[1] 95"
      ]
     },
     "metadata": {},
     "output_type": "display_data"
    },
    {
     "data": {
      "text/html": [
       "<table>\n",
       "<thead><tr><th scope=col>W</th></tr></thead>\n",
       "<tbody>\n",
       "\t<tr><td>102</td></tr>\n",
       "\t<tr><td> 97</td></tr>\n",
       "\t<tr><td> 96</td></tr>\n",
       "\t<tr><td> 96</td></tr>\n",
       "\t<tr><td> 95</td></tr>\n",
       "\t<tr><td> 94</td></tr>\n",
       "\t<tr><td> 91</td></tr>\n",
       "\t<tr><td> 90</td></tr>\n",
       "\t<tr><td> 90</td></tr>\n",
       "\t<tr><td> 89</td></tr>\n",
       "\t<tr><td> 86</td></tr>\n",
       "\t<tr><td> 86</td></tr>\n",
       "\t<tr><td> 82</td></tr>\n",
       "\t<tr><td> 81</td></tr>\n",
       "\t<tr><td> 80</td></tr>\n",
       "\t<tr><td> 80</td></tr>\n",
       "\t<tr><td> 79</td></tr>\n",
       "\t<tr><td> 79</td></tr>\n",
       "\t<tr><td> 77</td></tr>\n",
       "\t<tr><td> 74</td></tr>\n",
       "\t<tr><td> 73</td></tr>\n",
       "\t<tr><td> 72</td></tr>\n",
       "\t<tr><td> 72</td></tr>\n",
       "\t<tr><td> 71</td></tr>\n",
       "\t<tr><td> 71</td></tr>\n",
       "\t<tr><td> 71</td></tr>\n",
       "\t<tr><td> 69</td></tr>\n",
       "\t<tr><td> 67</td></tr>\n",
       "\t<tr><td> 63</td></tr>\n",
       "\t<tr><td> 56</td></tr>\n",
       "</tbody>\n",
       "</table>\n"
      ],
      "text/latex": [
       "\\begin{tabular}{r|l}\n",
       " W\\\\\n",
       "\\hline\n",
       "\t 102\\\\\n",
       "\t  97\\\\\n",
       "\t  96\\\\\n",
       "\t  96\\\\\n",
       "\t  95\\\\\n",
       "\t  94\\\\\n",
       "\t  91\\\\\n",
       "\t  90\\\\\n",
       "\t  90\\\\\n",
       "\t  89\\\\\n",
       "\t  86\\\\\n",
       "\t  86\\\\\n",
       "\t  82\\\\\n",
       "\t  81\\\\\n",
       "\t  80\\\\\n",
       "\t  80\\\\\n",
       "\t  79\\\\\n",
       "\t  79\\\\\n",
       "\t  77\\\\\n",
       "\t  74\\\\\n",
       "\t  73\\\\\n",
       "\t  72\\\\\n",
       "\t  72\\\\\n",
       "\t  71\\\\\n",
       "\t  71\\\\\n",
       "\t  71\\\\\n",
       "\t  69\\\\\n",
       "\t  67\\\\\n",
       "\t  63\\\\\n",
       "\t  56\\\\\n",
       "\\end{tabular}\n"
      ],
      "text/markdown": [
       "\n",
       "W | \n",
       "|---|---|---|---|---|---|---|---|---|---|---|---|---|---|---|---|---|---|---|---|---|---|---|---|---|---|---|---|---|---|\n",
       "| 102 | \n",
       "|  97 | \n",
       "|  96 | \n",
       "|  96 | \n",
       "|  95 | \n",
       "|  94 | \n",
       "|  91 | \n",
       "|  90 | \n",
       "|  90 | \n",
       "|  89 | \n",
       "|  86 | \n",
       "|  86 | \n",
       "|  82 | \n",
       "|  81 | \n",
       "|  80 | \n",
       "|  80 | \n",
       "|  79 | \n",
       "|  79 | \n",
       "|  77 | \n",
       "|  74 | \n",
       "|  73 | \n",
       "|  72 | \n",
       "|  72 | \n",
       "|  71 | \n",
       "|  71 | \n",
       "|  71 | \n",
       "|  69 | \n",
       "|  67 | \n",
       "|  63 | \n",
       "|  56 | \n",
       "\n",
       "\n"
      ],
      "text/plain": [
       "   W  \n",
       "1  102\n",
       "2   97\n",
       "3   96\n",
       "4   96\n",
       "5   95\n",
       "6   94\n",
       "7   91\n",
       "8   90\n",
       "9   90\n",
       "10  89\n",
       "11  86\n",
       "12  86\n",
       "13  82\n",
       "14  81\n",
       "15  80\n",
       "16  80\n",
       "17  79\n",
       "18  79\n",
       "19  77\n",
       "20  74\n",
       "21  73\n",
       "22  72\n",
       "23  72\n",
       "24  71\n",
       "25  71\n",
       "26  71\n",
       "27  69\n",
       "28  67\n",
       "29  63\n",
       "30  56"
      ]
     },
     "metadata": {},
     "output_type": "display_data"
    }
   ],
   "source": [
    "# 整理salList 成一個dataframe ,mutate new column---year ,column : X25.Man.Payroll\n",
    "tmp_data <- lapply(salList, function(x){colnames(x)[8] <- \"Total.Payroll\"; return(x)})\n",
    "names(tmp_data) <- 2011:2018\n",
    "\n",
    "for (i in 1 : length(tmp_data))\n",
    "{\n",
    "    tmp <- tmp_data[[i]][, c(1, 3, 8)]\n",
    "    tmp <- tmp %>% mutate(year = names(tmp_data)[i])\n",
    "    if(i == 1)\n",
    "    {\n",
    "        data <- tmp\n",
    "    }\n",
    "    else\n",
    "    {\n",
    "        data <- rbind(data,tmp)\n",
    "    }\n",
    "}\n",
    "\n",
    "data <- data[-61,]\n",
    "\n",
    "data[, 4] <- as.factor(data[, 4])\n",
    "subset(standingList[[2]], Team==\"New York Yankees\" & year==2012)\n",
    "standingList[[1]][which(standingList[[1]]$Team==\"New York Yankees\")]"
   ]
  },
  {
   "cell_type": "code",
   "execution_count": 15,
   "metadata": {},
   "outputs": [
    {
     "name": "stderr",
     "output_type": "stream",
     "text": [
      "Warning message in lf.cov(init, x = x):\n",
      "\"X'WX is almost singular. Consider using cov = \".vcov.w\"\""
     ]
    },
    {
     "data": {},
     "metadata": {},
     "output_type": "display_data"
    },
    {
     "data": {
      "image/png": "iVBORw0KGgoAAAANSUhEUgAAAtAAAADwCAMAAAAeuqOxAAAAQlBMVEUAAAAzMzM9PT1NTU1o\naGh8fHyMjIyampqnp6eysrK9vb3Hx8fKysrQ0NDW1tbZ2dnh4eHp6enr6+vw8PD/AAD///9I\nZiRjAAAACXBIWXMAABJ0AAASdAHeZh94AAAWPUlEQVR4nO2d6YKjKhCFuTHb9NjpTjK+/6te\nd1mqEAWD4Dk/siiFVfqFFEuMqCAoI4nYDkBQSAFoKCsBaCgrAWgoKwFoKCsBaCgrAWgoKwFo\nKCsFB/rlp9j2cCDJAAA0HNjKHkB7RxPSHg4kGQCAhgNb2QNo72hC2sOBJANYAnRRy7pDLRAh\nmpD2cMDXXgjxeQcWAF2MD8wOrYBfMNEvBxzwtBfCl+jPA10A6Iwd8LMXwpvoT+TQDa9TZgGg\nc3bgKEBL3HJA/9fIqT4oV/VAR3RgvkjXMo/8dpJARqcwKwdyz6ErBeThXYWUI1cHch/lGIFW\n3gHobB1IMoAFQCvcAuj8HUgygLVAF/M7IkQT0h4OJBnAAqCZCUF2R4RoQtrDgSQDWAL0QkWI\nJqQ9HEgyAAANB7ayB9De0YS0hwNJBgCg4cBW9gDaO5qQ9nAgyQAANBzYyh5Ae0cT0h4OJBkA\ngIYDW9kDaO9oQtrDgaX2xmIkAO0bTUh7OLDQ3lwuCqB9owlpDweW2RO/UAHQvtGEtIcDABpA\nZ+UAgAbQWTmAHBpAZ+UAY8/+sgqjHMGjCWkPB2j7Bb99BdC+0YS0hwOk/ZLbbQBo32hC2sMB\nAA2gs3IAQAPorBzYZQ5d1rLaAGg4sMze/f4xoR0oe1ltADQc2Mg+rAPlqJPtE7Uh0BAUSA9Z\np5PbPSDlMkLWWi9Cfjwj2MOBHQRQGvpXy5bFA2g4sJW9bwXlw0C503Kgg8gvmuQvR/oObBCA\nc4eyRfhB0Qyg4UAke7MCtyG/keKHyfK/uk94slVCA42UAw5sEIDDpAyTZPQsrx7lANBwYDug\nSRzJ3h9BM8ah4UAse3egnVEG0HAgnj2TQ2tAW1DWWXY6Jgv0+34W4nx/A+ijOrDNKIfCs53m\nx1KaXxagn0X3aSqeAPqgDmwRgMRz38M7nXSYtVEOd5jbY3JA38SlRvl5ETcAfQQHiNR2owCU\nLKLm+cTmGI8lJA/H5IAeRjcwynEIB6jO2hYBaFmxtfcXdj00gD6SA+Tww4z9/ByJVgGPMgHz\nwgCmY3JAI+U4kgMrgHaY9ZMrsHX/TkzXLyjQ6BTm6gDF4XKgXX6KNVRgaZibHPrE9fuCAo1h\nu0wdoDlcnEM7Ae2QY7Q8LwrALh5ob63wxjeakPaZOsCBuHSUYxZoedjNWGCkZ8sLApgRC/Rl\nde4MoPfsgEvL6nR8WzX96PLDyrKvA4wNB3Th3WKv8MY3mpD2mToQDGh2lKPLI2qiLQMZ1gpc\nHaBtOKB/L/fV3UEAvWMHnHlec/wxL9YHMoiW2b1TuUQs0Fg+mqsDKkYEVMOmJcfnu39cjuHw\nVQGgQ9ofwwECqnGT8/EZmpXFRfSRPwi0v1Z44xtNSPsIDmjX9wMOEFRNm5yOz7TMba/wwcHM\nHHpFAKYNB/T5zw+A/qy9foE/B7QwN7nY82PM/SjH/LF9AzBtOKCbScLbN4D+nL3B1q6Bnp0x\nmXfgs6Mc77/XJq7L32mso6hFojvsUAus8MY3mpD2hwCazTl4e7b3Z3b/YlxCFuhG3/dmQce5\nb6eL8UHnuX/QCkSIJqR9zkD3h2me6F4hZ8+g/E8jedYBN4XvFD7vbbwXDugCQAe0/1gO3R+o\ne+K/+DV7rmFmaLY54KjQQP9e2+b55yKuCsJTZgGgg9p/aJRDKHKznxlipgcy9gX092XMNqSx\naJVbDuj/GhkfEOjzouYRVKDn62jv+am1yuO9QDfwOZD0YTshrr/DrrHZLSqJ304SyOgU7s0B\nsg12baG5xXJ8jmE64KWww3b338rUgG1hb6EB9D4cYJhVcmhGJXlruZkcw3DAT2GH7QicjX4h\ngN63A1wjLI1ymBKi/0nUo1zTLCsO+ClsDn03kyy5WQbQvdhWztuB2YmHGfFA29T/KGpdkqE7\n4KegQI88Kx1Cqpk+NtA8Mb4OUDUvopPLoXmVzaQ1N13iXo3kgJeCAl2I34t4vi9iXNIx5s7G\njOGBZwotbaCnA1TNy/isXvwnQNvOdP/Wkiw54KPAazmqP+K7evezKisUIZqQ9iuADjovQgC9\nMIOwODDWUz+xLD98YJ5xYDN7G9Df4gs3mpmRzJhGW1Cgp2GJEECPFZG/lepvLFDuoFe7woYD\n+ir+PsW5+gHQdmk8S7iFzKG7185Ai5nVcl09J/q3UqeTCBPAvoBuSL40YePOSXbJCUdQoF8a\nz/RKIsawKWYD+mSy3P+0dSpV+Y6z7Aro6vvc3A9M3NfyHBvIj7cvwYGeKhirdue5Lkg6wM/8\nndp/45FzpoVjJJYAPmfPA+2tCNGEtHfOoeV5ipCrPymgXbyxAE3Q3CXMk5VQavMjGkD7RhPS\nfsn6+InojRxw5nnKtHWgTZhPnbRItOoyAfq3Tp9vuC/HnISk/v1GDjjzLPlTjZalPmPSs3ya\niDV5zgno3y4UankSgJakAa1e/1hJ/OhOa090//r/rjQ+izq+GeXQt6YveFs/wHFMoDUkogL9\n6v8q2xyVazJmtS3nmuiMRjnawee3KHRGAbQms4GeBdodErOCGVuJ0Xa1nE7zeOfawVPFY4Po\njMahu9mU9XMqhwHaHOWYA1opYgfUaCFnU4DOAXPy71SO6bJQkiPdGwB9dKAVOfBgtokWB7T9\nUrtKli+p2yR2fT9jUb+UaNC+cQEsEYD2jSak/ZoKtBSULjFSYyStdFnDlqSa+z32aahk4pk9\npLYPQB8e6Hn7iUg/oJU99ORfP8qhFJ05pLprn2dwzoYBWhKADmm/HOgZoum1cqMDi4B2CWCB\nALRvNCHtt3JAYmoGrsrAT0gTgY2MRczS1J80saIT7ReAu/YDdBBFiCak/WYOSEzZ4TKBHu1P\nxnRJ2yqrxSvpeOrCar8AnAWgfaMJab+dA05MNV+NdHva3qvW+IPs3kY2IIEOEcCnKtgEaKQc\nvRZjoTuwyLo/mG5D/+xPdRFAA2iHCowe2lIHFlmTRzP/UtjIsCejtoVfcWQ+gM9XgJQjpL1a\nwdQRW2Qv1o0vmIs5iTFmvUadZ9cJSWsAXsoM6Kw0Ab3YSqtg4eHMGyWeTt0tEvX65PcrfM1O\nObXQgvsB0moHVrXQRpPpXkdXzpjHVuy1qoijOfvKBOCp/bTQytlPD+jO7eFlGAccWRRyn8zE\nj65F3SC6wWZzVYZhThGtHMw9WEoAeidAS1fT57KuGeWQy1haaNsiOur32PQSZqMqoaTNvjzn\nBHQQRYim03ShvRqqdYuTpuNVElZCF2VUP5hdP6WMWoE1OjGNcqwVgAbQGtDaSmkTaCGtsjdv\n+nLS6tVqmIsOQCsibqebCNBTDh0daGUzyXMvFWb196skz8by/CABBLXfF9DE7XSTAXoa5fDg\neRugX8TYtNI0lyPM80DPrQVZHkBQ+30Bbd5ONyGgJ/v1PK9yQP4AcUBPMvp/7a24jJac5XmD\nAELa7wvoI91O12jv2ldkBQpKBFfSpkrZqnNoTP2NOQbH8/Bxcf7WiX0Fdgf0UW6nq+AybaAq\nUGCaIUu2VxE157GVGROO5+Hj4vqtE/sK7Avo49xO1/gq718RFSjN7Nx3PzExY/55yT85Y9Zy\n60p+4xoN68Dn7fcF9HFupxsSaPm9PjFjzPzJa5gpoH1nsWNfgX0BfZzb6QYEWtkg25v3/FSB\nJXIZrcAKxb4COwPaWxGiWWffE6MjtDyHVhFv7ckV+cbUz8vsbapEO8ciK/YVANDe0ay0F+Qo\nB8mRzp2+UwbavLeAVlBtmOXatBxknWJfgX0BPXQGi9U3uIsQTUj7xUApWQvx5yVkWS6zANAr\n7WmgC/l0HxNohigeMglPIslgyk4H0Y/nz3PsM7gnoL+ks/2VB9BL8aCB5jEbTpdyn8Sy7O8s\nR5e1Ae0zx9kr9hXYEdCV933A9gb02gTCYWO/S5/Hbm9gpNxZTkkuNJ6pqvd1BhNxgAXaXxGi\nYe0tJE4ljA10A01VQ85j650/rTEWam1mzbs6g6k4wAP9vp+FON/fOQCtsUNI2i21mVQhYzMx\nmGFwrABM8kwcb09nMBkHWKCffcewWP3XQRGiYexNeHTp7SfpgFYLdTNm5g75JNhzn7HoQOYF\n9E1capSflwymvh0aw6mAxKBeo1wLubzIOOBgwLBs5zk6kHkBPd1PIhug1Q1KYQNovYjc3tpv\n+kK2wUsbZy2CdYptD6B7ddc6wMTI+ILgmZu0ppHr3pr3/Ox+XkLbV3Itwkw8ZiOIDWReQJMp\nBzNrWBTdfOLw7Ad0f7WX2yuQGI2jtotdhUFBR9GsrPrUX9g+Fq48RwcyL6CpTiEzDV70D8X4\nxgfo4XovtqdaQ4XngSI70Gpj2u0278b8eqllpGPwQC9cohEbyLyAJobtCqOFLnYENNlIGsnA\nVLR/IVsbtbWTI9QSI/VAU1UaycwHxzGi2EBmBjTbFkuZxQ6B1htHgmx5eR251q17b2bMbaIx\nGZptMHX0lafhFR/IjIDmeoKF+sAC/V8jhw8IqZaFlWaa5OqkjfITeaga5gfxh39GVcqBjM1r\nTwAURIuBLjpJW8N0CteOcmit49g4ys2xXmJsYIfS1N/9qX/1PlWlNdEGz6tPQK/YLWySAawB\nuhjB3SLlWBWNMJNndqLPBHpIdgmay1K3kmqSqzSrT5KHkPbJAK293wHQJmqSvZCaahVN+Z2Z\nMD/UeeyJZ6qJNpQoDyHtdwW0pP0DrTeeir3EoT4NOIDM/EH2kIoM8BsH5GFeGACt2EAmGcBa\noAti69ZAK0xpO0aOdJ4UxtSslxvImG6VQUyS6/XoLE/lk+QhpP2ugK5I6cN2w+agM4VcNBxc\nzDJlEmipI1iaMJ/U7p/W4uqH1BMP/QOXJA8h7RMAepFWxaA3cEbjylkZe2igh2b5VCr/XXk6\nnTiaBTueLO8l9ifJQ0h7AK2gUWnvbUBTwBk5dPt0MnPm0grz1AZbvCX3JslDSHsArUBbvYzk\n2PL1T0Sm7W6b5pL4Jx7r4JvaULsdWXdgrWIDmWQANNBBtMIbiZzpu1xpojmj8eUU2fiqHV4m\nBzNMZJcBbVWSPIS0B9DGSiKVJAvP5tqM4WyUJT35J6/+tFEMoNNyYF9A66swLSMbqoli1EdG\nz2P/MzNmyyCcko4sVJI8hLQH0C994YU2ysFZqOy9OpIfFM0l9Zd/1hbZ8WNFndpVJyBgBbHt\nAfQks1HkodIa6BOZZPTNslz5nCrlEMtjSJKHkPYAWhLJM090/9QNMOs5xnQHoyVEH5OHkPYA\nWpbGrw3olzSQQWXMLxlhuTYrz8fkIaQ9gJakA2wDuiSTjEdZTnmGQurrxSP9mj5Kh+QhpD2A\nljTypTSq0t7+VUnQ3G14DN0/uT7RL7lgaZZqPyQPIe0BtCSJPn0ZXb/ss6RY7mGW82q1Qqu0\nU+MVQKI8hLQH0LIknnXSxuVFxu+xy1JelE9WqTOsf26kU+MXQJo8hLQH0IqGhENDbZjFNvp/\nI8wvJuO2NsoE/4fkIaQ9gDajkbCbUgwKZfVvHyigqZbZOrp8SB5C2gNoIpoeO3ogY2SZ+Q8T\nYpO0Z4bnY/IQ0h5ADxLSMLDU/aNo5muY43n+1KwPIIh9dAeSDGCPQHfMVVKSYf6tFNUua3UY\nVS6h+XVQHkLaA+hOLXWn04NslksZZmvuUBl1LuP5mDyEtAfQnfpRuQdP81BQTCMhk7XyE66X\nXHThCqND8hDSHkCX45IM4/a1pZlmkGnx9EY9/nKej8lDSPuDAy0Ny50szfIkAmj5XWWUXnpq\nFpYPbR/dgSQD2BDoBXpMUpOMYStlpAKtbfms/9AOFaWFlgYy9IT5MTuWoefQaoOdZPuyKweS\nDCAi0CVPc7PlMTcy95JAHt8D6P3YHwloO8tlB/SM60Y/T82ok7wcu3IgyQCiAm0dlZuLhhiJ\n6zaQoxwrdEgeQtofCGhh/lbKmDBZATRzo5mVOiQPIe2PA7QQ1jHmDtQ1QCuRLT4XgStI3oEk\nA4gBtBiAVrqF8u524G3O9Zm5kiQvx64cSDKAaECfThTM/W4noGfmSpK8HLtyIMkAIgHd/4SK\nHMhwBnomMk/7Y/IQ0v4wQL+6O9tadrvk0LORedrDgSQDiAL03MKKIBMjSV6OXTmQZABxgN4q\nmpD2cCDJAAA0HNjKHkB7RxPSHg4kGQCAhgNb2QNo72hC2sOBJAMA0HBgK3sA7R1NSHs4kGQA\nGwIdWf/BgWM7AKDhQFYOAGg4kJUDABoOZOVAbkBDBxeAhrISgIayEoCGshKAhrISgIayUqJA\nF42k12yhoSxdwssF/TisA3yBgA6QB9jSAbnOSGeAUqpAay+ps6Xs2OB6OjvAFgjkAFv3lg7I\ndUY6A6SyBLowdoTHqbIBrTqwyeWUHCDq3t6BGaA/cAZopQl0ob8eUgt596ZAVwTQnAMbXc7C\nfPFZB0ygP+6AqUSBllPo/kE6aQbQG15MBwc2B3roLHzYAQPozztgKlGgxwfzpBVDJzAW0KYD\nG3cKYzkwehDNAUJpAt1KB3pqtiO10JwDW7fQw7tPO2AC/WkHCGUEtL6nUB82OryDAx8DOpYD\nsc4ApTSBZlMOadNxgI7kQKG+AtAeKio+gVMKfRxoyoFPAD2ekY85oNMb4QxQShPoaQZKfq13\nPLSELrQL4+OsA1t2CmM5MObLEc8ApUSBhiBaABrKSgAaykoAGspKABrKSgAaykoAGspKABrK\nSgAaykoAOphu4lo/XsStfnzehLj8NFv7v1/sVVy/nu2L59fVNnXW/2vj7dft0M0BBC5lI5yF\nYHoX4rf6EsW7xrXjsSb6VwW6gbR9cRNWAMUgN6IB9CichXD6Etca6q+qwfVeVXdxrqrv5tUk\nIc79EozzDNDt011cnI4MoEfhLARUnW40ENe4tqe1QexL/JVLCPGnabern/q5KfNzFaK4tzue\n1+5VNZiOz32hd1d381S33MWlS2xuzwpAS8JZCKhfNUdoALyJ76s4jxvrNET8qZ9rrBsAv7u8\n4t7sKPpXfbnpeSx0F9/1pr91BXWCXqcu79akSXEA9CichZC69Rlyq+8m+7h2ND77bTV1RdPO\nnkUL4Llpv387HC/vJgGfytV6t/WNhX7bBORaN/Ed+W1Ccuk+DgC6F85CSBViGrp4NklBjdl3\nk3cMnNfU3Wq6n/WGDsDn959Lh+OQOvTlhPRJGApdm/a/OUS3/dw8PpvvAQA9CmchoO7iOiYN\nHc+9JFDbhrvJrNttl2EQRAitXJtNdMN2Y6Ffca3Nb2rpwRpAt8JZCKc6LfgekuhfmWcF6Hed\nKFzEu91W9yG/vp8k0JPxVKhpk9tEGkCzwlkIp3PdeN66gba/7SRLNY53nPsiDXU1zU2hEcL3\nDNBToWYQsK2w242UgxDOQjC1cyrdQPTPOH58a95+tYPTjbqRvGsz0tFB+FO9L7NAD4UahsVl\n3I1OISGchVCqUW6GnP82WPdZr2hS6ea5baAH6p7d4F7z8i6IHFqncyrUDuH9Hcph2I4SzkIo\n9clGu5hDTAw+r0Lc382OkbpuLKR92S75mAF6KlRpoyGYWDGFs5CUfsZsHKIFoJPSpZ0shHgB\n6IQkhONipQMLQCekYhgMhFgBaCgrAWgoKwFoKCsBaCgrAWgoKwFoKCsBaCgrAWgoK/0PXb01\nVFAab5oAAAAASUVORK5CYII=",
      "text/plain": [
       "plot without title"
      ]
     },
     "metadata": {},
     "output_type": "display_data"
    }
   ],
   "source": [
    "ggplot(data, aes(x = X25.Man.Payroll, y = Total.Payroll)) + \n",
    "  geom_point() +\n",
    "  stat_smooth(method = \"lmrob\", col = \"red\")"
   ]
  },
  {
   "cell_type": "code",
   "execution_count": 42,
   "metadata": {},
   "outputs": [
    {
     "ename": "ERROR",
     "evalue": "Error in standingList[[1]][, \"Team\"]$W: $ operator is invalid for atomic vectors\n",
     "output_type": "error",
     "traceback": [
      "Error in standingList[[1]][, \"Team\"]$W: $ operator is invalid for atomic vectors\nTraceback:\n"
     ]
    }
   ],
   "source": [
    "test <- data.frame(matrix(ncol=2))\n",
    "colnames(test) <- c(\"Team\", \"year\", \"salary\", \"W\")\n",
    "for (i in c(1:8))\n",
    "{\n",
    "    tem <- data.frame(Team=salList[[i]][, \"Team\"], year=2010 + i, \n",
    "                      salary=salList[[i]][, \"X25.Man.Payroll\"], W=standingList[[i]][, \"Team\"]$W)\n",
    "    test <- rbind(test, tem)\n",
    "    test <- c[complete.cases(test),]\n",
    "}\n",
    "\n",
    "head(test)\n",
    "total <- merge(data, standingList, by=c(\"Team\",\"year\"))"
   ]
  },
  {
   "cell_type": "code",
>>>>>>> f77feed112255e63f37276af0592367981d23c2a
   "execution_count": null,
   "metadata": {},
   "outputs": [],
   "source": []
  }
 ],
 "metadata": {
  "kernelspec": {
   "display_name": "R",
   "language": "R",
   "name": "ir"
  },
  "language_info": {
   "codemirror_mode": "r",
   "file_extension": ".r",
   "mimetype": "text/x-r-source",
   "name": "R",
   "pygments_lexer": "r",
   "version": "3.3.3"
  }
 },
 "nbformat": 4,
 "nbformat_minor": 2
}
