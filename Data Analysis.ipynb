{
 "cells": [
  {
   "cell_type": "markdown",
   "metadata": {},
   "source": [
    "## MLB Analysis\n",
    "\n",
    "這次我們會簡單的幾句話跟大家說明資料科學在美國職棒的運用及影響，以下我們會分析下列幾項：\n",
    "\n",
    "* 調整物價波動後，大聯盟平均薪資的變化\n",
    "* 各隊薪資佔聯盟總薪資的佔比\n",
    "* 飛球革命對於大聯盟的影響\n",
    "* 整體薪資和戰績的關係\n",
    "* 薪資組合和戰績的關係\n",
    "\n",
    "\n",
    "### 首先先匯入會用到的函式庫\n",
    "\n",
    "* dylyr: 用於清洗資料\n",
    "* ggplot2: 用於繪畫圖案"
   ]
  },
  {
   "cell_type": "code",
   "execution_count": 7,
   "metadata": {},
   "outputs": [
    {
     "name": "stderr",
     "output_type": "stream",
     "text": [
      "Warning message:\n",
      "\"package 'dplyr' was built under R version 3.5.3\"\n",
      "Attaching package: 'dplyr'\n",
      "\n",
      "The following objects are masked from 'package:stats':\n",
      "\n",
      "    filter, lag\n",
      "\n",
      "The following objects are masked from 'package:base':\n",
      "\n",
      "    intersect, setdiff, setequal, union\n",
      "\n",
      "Warning message:\n",
      "\"package 'ggplot2' was built under R version 3.5.3\""
     ]
    }
   ],
   "source": [
    "library(dplyr)\n",
    "library(ggplot2)"
   ]
  },
  {
   "cell_type": "markdown",
   "metadata": {},
   "source": [
    "### 檔案格式"
   ]
  },
  {
   "cell_type": "code",
   "execution_count": 8,
   "metadata": {},
   "outputs": [
    {
     "data": {
      "text/html": [
       "<table>\n",
       "<thead><tr><th scope=col>Team</th><th scope=col>Roster</th><th scope=col>X25.Man.Payroll</th><th scope=col>Injured.Reserve</th><th scope=col>Retained</th><th scope=col>Buried</th><th scope=col>Suspended</th><th scope=col>X2018.Total.Payroll</th><th scope=col>Rank</th></tr></thead>\n",
       "<tbody>\n",
       "\t<tr><td>Boston Red Sox      </td><td>36                  </td><td>167955780           </td><td>18074000            </td><td>41755860            </td><td>2180000             </td><td>      0             </td><td>227398860           </td><td>1                   </td></tr>\n",
       "\t<tr><td>San Francisco Giants</td><td>32                  </td><td>119689218           </td><td>64341827            </td><td>21136053            </td><td>3283000             </td><td>      0             </td><td>205665348           </td><td>2                   </td></tr>\n",
       "\t<tr><td>Los Angeles Dodgers </td><td>40                  </td><td>160502596           </td><td> 3908850            </td><td>30541679            </td><td>5590000             </td><td>      0             </td><td>199582045           </td><td>3                   </td></tr>\n",
       "\t<tr><td>Chicago Cubs        </td><td>37                  </td><td>152092957           </td><td>37451220            </td><td> 1216894            </td><td>2725000             </td><td>3200000             </td><td>194259933           </td><td>4                   </td></tr>\n",
       "\t<tr><td>Washington Nationals</td><td>35                  </td><td>130197979           </td><td> 8999485            </td><td>41161720            </td><td>4481000             </td><td>      0             </td><td>181382609           </td><td>5                   </td></tr>\n",
       "\t<tr><td>New York Yankees    </td><td>38                  </td><td>148010829           </td><td>22568376            </td><td> 9249414            </td><td>3130000             </td><td>      0             </td><td>180098151           </td><td>6                   </td></tr>\n",
       "</tbody>\n",
       "</table>\n"
      ],
      "text/latex": [
       "\\begin{tabular}{r|lllllllll}\n",
       " Team & Roster & X25.Man.Payroll & Injured.Reserve & Retained & Buried & Suspended & X2018.Total.Payroll & Rank\\\\\n",
       "\\hline\n",
       "\t Boston Red Sox       & 36                   & 167955780            & 18074000             & 41755860             & 2180000              &       0              & 227398860            & 1                   \\\\\n",
       "\t San Francisco Giants & 32                   & 119689218            & 64341827             & 21136053             & 3283000              &       0              & 205665348            & 2                   \\\\\n",
       "\t Los Angeles Dodgers  & 40                   & 160502596            &  3908850             & 30541679             & 5590000              &       0              & 199582045            & 3                   \\\\\n",
       "\t Chicago Cubs         & 37                   & 152092957            & 37451220             &  1216894             & 2725000              & 3200000              & 194259933            & 4                   \\\\\n",
       "\t Washington Nationals & 35                   & 130197979            &  8999485             & 41161720             & 4481000              &       0              & 181382609            & 5                   \\\\\n",
       "\t New York Yankees     & 38                   & 148010829            & 22568376             &  9249414             & 3130000              &       0              & 180098151            & 6                   \\\\\n",
       "\\end{tabular}\n"
      ],
      "text/markdown": [
       "\n",
       "Team | Roster | X25.Man.Payroll | Injured.Reserve | Retained | Buried | Suspended | X2018.Total.Payroll | Rank | \n",
       "|---|---|---|---|---|---|\n",
       "| Boston Red Sox       | 36                   | 167955780            | 18074000             | 41755860             | 2180000              |       0              | 227398860            | 1                    | \n",
       "| San Francisco Giants | 32                   | 119689218            | 64341827             | 21136053             | 3283000              |       0              | 205665348            | 2                    | \n",
       "| Los Angeles Dodgers  | 40                   | 160502596            |  3908850             | 30541679             | 5590000              |       0              | 199582045            | 3                    | \n",
       "| Chicago Cubs         | 37                   | 152092957            | 37451220             |  1216894             | 2725000              | 3200000              | 194259933            | 4                    | \n",
       "| Washington Nationals | 35                   | 130197979            |  8999485             | 41161720             | 4481000              |       0              | 181382609            | 5                    | \n",
       "| New York Yankees     | 38                   | 148010829            | 22568376             |  9249414             | 3130000              |       0              | 180098151            | 6                    | \n",
       "\n",
       "\n"
      ],
      "text/plain": [
       "  Team                 Roster X25.Man.Payroll Injured.Reserve Retained Buried \n",
       "1 Boston Red Sox       36     167955780       18074000        41755860 2180000\n",
       "2 San Francisco Giants 32     119689218       64341827        21136053 3283000\n",
       "3 Los Angeles Dodgers  40     160502596        3908850        30541679 5590000\n",
       "4 Chicago Cubs         37     152092957       37451220         1216894 2725000\n",
       "5 Washington Nationals 35     130197979        8999485        41161720 4481000\n",
       "6 New York Yankees     38     148010829       22568376         9249414 3130000\n",
       "  Suspended X2018.Total.Payroll Rank\n",
       "1       0   227398860           1   \n",
       "2       0   205665348           2   \n",
       "3       0   199582045           3   \n",
       "4 3200000   194259933           4   \n",
       "5       0   181382609           5   \n",
       "6       0   180098151           6   "
      ]
     },
     "metadata": {},
     "output_type": "display_data"
    },
    {
     "data": {
      "text/html": [
       "<table>\n",
       "<thead><tr><th scope=col>Active.Players</th><th scope=col>Age</th><th scope=col>Pos.</th><th scope=col>Status</th><th scope=col>Base.Salary</th><th scope=col>Signing.Bonus</th><th scope=col>Incentives</th><th scope=col>Payroll.Salary</th><th scope=col>Adj...Salary</th><th scope=col>Payroll..</th><th scope=col>Lux..Tax.Salary</th></tr></thead>\n",
       "<tbody>\n",
       "\t<tr><td>Kelly Johnson</td><td>29           </td><td>2B           </td><td>Arb 3        </td><td>5850000      </td><td>     0       </td><td>0            </td><td>5850000      </td><td>5850000      </td><td>8.89         </td><td>0            </td></tr>\n",
       "\t<tr><td>Joe Saunders </td><td>29           </td><td>SP           </td><td>Arb 2        </td><td>5500000      </td><td>     0       </td><td>0            </td><td>5500000      </td><td>5500000      </td><td>8.36         </td><td>0            </td></tr>\n",
       "\t<tr><td>Chris Young  </td><td>27           </td><td>RF           </td><td>Vet          </td><td>5000000      </td><td>200000       </td><td>0            </td><td>5200000      </td><td>5200000      </td><td>7.90         </td><td>0            </td></tr>\n",
       "\t<tr><td>Stephen Drew </td><td>28           </td><td>2B           </td><td>Arb 2        </td><td>4650000      </td><td>     0       </td><td>0            </td><td>4650000      </td><td>4650000      </td><td>7.07         </td><td>0            </td></tr>\n",
       "\t<tr><td>Justin Upton </td><td>23           </td><td>LF           </td><td>Vet          </td><td>4250000      </td><td>208333       </td><td>0            </td><td>4458333      </td><td>4458333      </td><td>6.78         </td><td>0            </td></tr>\n",
       "\t<tr><td>J.J. Putz    </td><td>34           </td><td>RP           </td><td>Vet          </td><td>4000000      </td><td>     0       </td><td>0            </td><td>4000000      </td><td>4000000      </td><td>6.08         </td><td>0            </td></tr>\n",
       "</tbody>\n",
       "</table>\n"
      ],
      "text/latex": [
       "\\begin{tabular}{r|lllllllllll}\n",
       " Active.Players & Age & Pos. & Status & Base.Salary & Signing.Bonus & Incentives & Payroll.Salary & Adj...Salary & Payroll.. & Lux..Tax.Salary\\\\\n",
       "\\hline\n",
       "\t Kelly Johnson & 29            & 2B            & Arb 3         & 5850000       &      0        & 0             & 5850000       & 5850000       & 8.89          & 0            \\\\\n",
       "\t Joe Saunders  & 29            & SP            & Arb 2         & 5500000       &      0        & 0             & 5500000       & 5500000       & 8.36          & 0            \\\\\n",
       "\t Chris Young   & 27            & RF            & Vet           & 5000000       & 200000        & 0             & 5200000       & 5200000       & 7.90          & 0            \\\\\n",
       "\t Stephen Drew  & 28            & 2B            & Arb 2         & 4650000       &      0        & 0             & 4650000       & 4650000       & 7.07          & 0            \\\\\n",
       "\t Justin Upton  & 23            & LF            & Vet           & 4250000       & 208333        & 0             & 4458333       & 4458333       & 6.78          & 0            \\\\\n",
       "\t J.J. Putz     & 34            & RP            & Vet           & 4000000       &      0        & 0             & 4000000       & 4000000       & 6.08          & 0            \\\\\n",
       "\\end{tabular}\n"
      ],
      "text/markdown": [
       "\n",
       "Active.Players | Age | Pos. | Status | Base.Salary | Signing.Bonus | Incentives | Payroll.Salary | Adj...Salary | Payroll.. | Lux..Tax.Salary | \n",
       "|---|---|---|---|---|---|\n",
       "| Kelly Johnson | 29            | 2B            | Arb 3         | 5850000       |      0        | 0             | 5850000       | 5850000       | 8.89          | 0             | \n",
       "| Joe Saunders  | 29            | SP            | Arb 2         | 5500000       |      0        | 0             | 5500000       | 5500000       | 8.36          | 0             | \n",
       "| Chris Young   | 27            | RF            | Vet           | 5000000       | 200000        | 0             | 5200000       | 5200000       | 7.90          | 0             | \n",
       "| Stephen Drew  | 28            | 2B            | Arb 2         | 4650000       |      0        | 0             | 4650000       | 4650000       | 7.07          | 0             | \n",
       "| Justin Upton  | 23            | LF            | Vet           | 4250000       | 208333        | 0             | 4458333       | 4458333       | 6.78          | 0             | \n",
       "| J.J. Putz     | 34            | RP            | Vet           | 4000000       |      0        | 0             | 4000000       | 4000000       | 6.08          | 0             | \n",
       "\n",
       "\n"
      ],
      "text/plain": [
       "  Active.Players Age Pos. Status Base.Salary Signing.Bonus Incentives\n",
       "1 Kelly Johnson  29  2B   Arb 3  5850000          0        0         \n",
       "2 Joe Saunders   29  SP   Arb 2  5500000          0        0         \n",
       "3 Chris Young    27  RF   Vet    5000000     200000        0         \n",
       "4 Stephen Drew   28  2B   Arb 2  4650000          0        0         \n",
       "5 Justin Upton   23  LF   Vet    4250000     208333        0         \n",
       "6 J.J. Putz      34  RP   Vet    4000000          0        0         \n",
       "  Payroll.Salary Adj...Salary Payroll.. Lux..Tax.Salary\n",
       "1 5850000        5850000      8.89      0              \n",
       "2 5500000        5500000      8.36      0              \n",
       "3 5200000        5200000      7.90      0              \n",
       "4 4650000        4650000      7.07      0              \n",
       "5 4458333        4458333      6.78      0              \n",
       "6 4000000        4000000      6.08      0              "
      ]
     },
     "metadata": {},
     "output_type": "display_data"
    },
    {
     "data": {
      "text/html": [
       "<table>\n",
       "<thead><tr><th scope=col>Name</th><th scope=col>W</th><th scope=col>L</th><th scope=col>PCT</th><th scope=col>GB</th><th scope=col>HOME</th><th scope=col>AWAY</th><th scope=col>RS</th><th scope=col>RA</th><th scope=col>DIFF</th><th scope=col>STRK</th><th scope=col>L10</th></tr></thead>\n",
       "<tbody>\n",
       "\t<tr><td>Philadelphia Phillies</td><td>102                  </td><td>60                   </td><td>0.630                </td><td>-                    </td><td>52-29                </td><td>50-31                </td><td>713                  </td><td>529                  </td><td>184                  </td><td>W4                   </td><td>4-6                  </td></tr>\n",
       "\t<tr><td>New York Yankees     </td><td> 97                  </td><td>65                   </td><td>0.599                </td><td>5                    </td><td>52-29                </td><td>45-36                </td><td>867                  </td><td>657                  </td><td>210                  </td><td>L4                   </td><td>5-5                  </td></tr>\n",
       "\t<tr><td>Milwaukee Brewers    </td><td> 96                  </td><td>66                   </td><td>0.593                </td><td>6                    </td><td>57-24                </td><td>39-42                </td><td>721                  </td><td>638                  </td><td> 83                  </td><td>W2                   </td><td>7-3                  </td></tr>\n",
       "\t<tr><td>Texas Rangers        </td><td> 96                  </td><td>66                   </td><td>0.593                </td><td>6                    </td><td>52-29                </td><td>44-37                </td><td>855                  </td><td>677                  </td><td>178                  </td><td>W6                   </td><td>9-1                  </td></tr>\n",
       "\t<tr><td>Detroit Tigers       </td><td> 95                  </td><td>67                   </td><td>0.586                </td><td>7                    </td><td>50-31                </td><td>45-36                </td><td>787                  </td><td>711                  </td><td> 76                  </td><td>W4                   </td><td>7-3                  </td></tr>\n",
       "\t<tr><td>Arizona Diamondbacks </td><td> 94                  </td><td>68                   </td><td>0.580                </td><td>8                    </td><td>51-30                </td><td>43-38                </td><td>731                  </td><td>662                  </td><td> 69                  </td><td>L1                   </td><td>7-3                  </td></tr>\n",
       "</tbody>\n",
       "</table>\n"
      ],
      "text/latex": [
       "\\begin{tabular}{r|llllllllllll}\n",
       " Name & W & L & PCT & GB & HOME & AWAY & RS & RA & DIFF & STRK & L10\\\\\n",
       "\\hline\n",
       "\t Philadelphia Phillies & 102                   & 60                    & 0.630                 & -                     & 52-29                 & 50-31                 & 713                   & 529                   & 184                   & W4                    & 4-6                  \\\\\n",
       "\t New York Yankees      &  97                   & 65                    & 0.599                 & 5                     & 52-29                 & 45-36                 & 867                   & 657                   & 210                   & L4                    & 5-5                  \\\\\n",
       "\t Milwaukee Brewers     &  96                   & 66                    & 0.593                 & 6                     & 57-24                 & 39-42                 & 721                   & 638                   &  83                   & W2                    & 7-3                  \\\\\n",
       "\t Texas Rangers         &  96                   & 66                    & 0.593                 & 6                     & 52-29                 & 44-37                 & 855                   & 677                   & 178                   & W6                    & 9-1                  \\\\\n",
       "\t Detroit Tigers        &  95                   & 67                    & 0.586                 & 7                     & 50-31                 & 45-36                 & 787                   & 711                   &  76                   & W4                    & 7-3                  \\\\\n",
       "\t Arizona Diamondbacks  &  94                   & 68                    & 0.580                 & 8                     & 51-30                 & 43-38                 & 731                   & 662                   &  69                   & L1                    & 7-3                  \\\\\n",
       "\\end{tabular}\n"
      ],
      "text/markdown": [
       "\n",
       "Name | W | L | PCT | GB | HOME | AWAY | RS | RA | DIFF | STRK | L10 | \n",
       "|---|---|---|---|---|---|\n",
       "| Philadelphia Phillies | 102                   | 60                    | 0.630                 | -                     | 52-29                 | 50-31                 | 713                   | 529                   | 184                   | W4                    | 4-6                   | \n",
       "| New York Yankees      |  97                   | 65                    | 0.599                 | 5                     | 52-29                 | 45-36                 | 867                   | 657                   | 210                   | L4                    | 5-5                   | \n",
       "| Milwaukee Brewers     |  96                   | 66                    | 0.593                 | 6                     | 57-24                 | 39-42                 | 721                   | 638                   |  83                   | W2                    | 7-3                   | \n",
       "| Texas Rangers         |  96                   | 66                    | 0.593                 | 6                     | 52-29                 | 44-37                 | 855                   | 677                   | 178                   | W6                    | 9-1                   | \n",
       "| Detroit Tigers        |  95                   | 67                    | 0.586                 | 7                     | 50-31                 | 45-36                 | 787                   | 711                   |  76                   | W4                    | 7-3                   | \n",
       "| Arizona Diamondbacks  |  94                   | 68                    | 0.580                 | 8                     | 51-30                 | 43-38                 | 731                   | 662                   |  69                   | L1                    | 7-3                   | \n",
       "\n",
       "\n"
      ],
      "text/plain": [
       "  Name                  W   L  PCT   GB HOME  AWAY  RS  RA  DIFF STRK L10\n",
       "1 Philadelphia Phillies 102 60 0.630 -  52-29 50-31 713 529 184  W4   4-6\n",
       "2 New York Yankees       97 65 0.599 5  52-29 45-36 867 657 210  L4   5-5\n",
       "3 Milwaukee Brewers      96 66 0.593 6  57-24 39-42 721 638  83  W2   7-3\n",
       "4 Texas Rangers          96 66 0.593 6  52-29 44-37 855 677 178  W6   9-1\n",
       "5 Detroit Tigers         95 67 0.586 7  50-31 45-36 787 711  76  W4   7-3\n",
       "6 Arizona Diamondbacks   94 68 0.580 8  51-30 43-38 731 662  69  L1   7-3"
      ]
     },
     "metadata": {},
     "output_type": "display_data"
    }
   ],
   "source": [
    "head(read.csv(\"球隊薪資\\\\2018.csv\"))\n",
    "head(read.csv(\"25人名單薪資\\\\Arizona Diamondbacks 2011.csv\"))\n",
    "head(read.csv(\"戰績\\\\2011.csv\"))"
   ]
  },
  {
   "cell_type": "markdown",
   "metadata": {},
   "source": []
  },
  {
   "cell_type": "markdown",
   "metadata": {},
   "source": [
    "### 讀取檔案並存取至List中\n",
    "\n",
    "* 將各年30個球隊的總薪資，讀取轉成dataframe之後，存放在salList中\n",
    "* 將2011~2018戰績，讀取轉成dataframe之後，standingList"
   ]
  },
  {
   "cell_type": "code",
   "execution_count": 9,
   "metadata": {},
   "outputs": [],
   "source": [
    "salList <- list()\n",
    "standingList <- list()\n",
    "for (i in c(2011:2018))\n",
    "{\n",
    "    salList[[i - 2010]] <- read.csv(paste(\"球隊薪資\\\\\", toString(i), \".csv\", sep=\"\"))\n",
    "    standingList[[i - 2010]] <- read.csv(paste(\"戰績\\\\\", toString(i), \".csv\", sep=\"\"))\n",
    "}"
   ]
  },
  {
   "cell_type": "markdown",
   "metadata": {},
   "source": []
  },
  {
   "cell_type": "code",
   "execution_count": 13,
   "metadata": {},
   "outputs": [],
   "source": [
    "inflation <- c(1, 1.017, 1.032255, 1.04051304, 1.047796631, 1.069800361, 1.092266168, 1.113019225)\n",
    "meanSal <- c()\n",
    "\n",
    "for (i in c(1:8))\n",
    "{\n",
    "    meanSal[i] <- mean(salList[[i]][, \"X25.Man.Payroll\"]) * inflation[i] / 1000000\n",
    "}\n",
    "salary <- data.frame(meanSalary=meanSal, year=c(2011:2018))\n",
    "\n",
    "\n",
    "c <- data.frame(matrix(ncol=2))\n",
    "colnames(c) <- c(\"year\", \"salary\")\n",
    "for (i in c(1:8))\n",
    "{ \n",
    "    tem <- data.frame(year=2010 + i, salary=salList[[i]][, \"X25.Man.Payroll\"])\n",
    "    c <- rbind(c, tem)\n",
    "    c <- c[complete.cases(c),]\n",
    "}\n",
    "c <- c %>% mutate(salary = salary/1000000)"
   ]
  },
  {
   "cell_type": "code",
   "execution_count": 14,
   "metadata": {},
   "outputs": [
    {
     "data": {},
     "metadata": {},
     "output_type": "display_data"
    },
    {
     "data": {
      "image/png": "[encoded data removed]",
      "text/plain": [
       "plot without title"
      ]
     },
     "metadata": {},
     "output_type": "display_data"
    }
   ],
   "source": [
    "# Create a line plot showing the change in meanSalary over time\n",
    "\n",
    "options(repr.plot.width=6, repr.plot.height=2)\n",
    "ggplot(salary, aes(year, meanSalary)) + geom_line(color=\"blue\") + geom_point() +\n",
    "    ylab(\"meanSal(millions USD)\") + ggtitle(\"Changes of mean salary per year\") +\n",
    "    theme(plot.title = element_text(hjust=0.5))"
   ]
  },
  {
   "cell_type": "code",
   "execution_count": null,
   "metadata": {},
   "outputs": [],
   "source": [
    "ggplot(c, aes(x=as.factor(year), y=salary)) + geom_boxplot(outlier.colour=\"black\", outlier.shape=16, outlier.size=1, notch=FALSE) +\n",
    "    xlab(\"year\") + ylab(\"Salary(millions USD)\") + ggtitle(\"Distribution of salary per year\") +\n",
    "    theme(plot.title = element_text(hjust=0.5)) + scale_fill_brewer(palette=\"RdBu\")"
   ]
  }
 ],
 "metadata": {
  "kernelspec": {
   "display_name": "R",
   "language": "R",
   "name": "ir"
  },
  "language_info": {
   "codemirror_mode": "r",
   "file_extension": ".r",
   "mimetype": "text/x-r-source",
   "name": "R",
   "pygments_lexer": "r",
   "version": "3.5.1"
  }
 },
 "nbformat": 4,
 "nbformat_minor": 2
}
