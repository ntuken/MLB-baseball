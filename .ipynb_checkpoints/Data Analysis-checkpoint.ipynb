{
 "cells": [
  {
   "cell_type": "markdown",
   "metadata": {},
   "source": [
    "## MLB Analysis\n",
    "\n",
    "這次我們會簡單的幾句話跟大家說明資料科學在美國職棒的運用及影響，以下我們會分析下列幾項：\n",
    "\n",
    "* 調整物價波動後，大聯盟平均薪資的變化\n",
    "* 飛球革命對於大聯盟的影響\n",
    "* 整體薪資和戰績的關係\n",
    "\n",
    "資料來源:\n",
    "    <a href=\"https://www.fangraphs.com/\">FanGraph</a>\n",
    "    <a href=\"https://www.baseball-reference.com/leagues/MLB/\">Baseball-Refernce</a>\n",
    "    \n",
    "### 首先先匯入會用到的函式庫"
   ]
  },
  {
   "cell_type": "code",
   "execution_count": 91,
   "metadata": {},
   "outputs": [],
   "source": [
    "library(ggplot2)\n",
    "library(dplyr)\n",
    "library(robustbase)"
   ]
  },
  {
   "cell_type": "code",
   "execution_count": 92,
   "metadata": {},
   "outputs": [
    {
     "data": {
      "text/html": [
       "<table>\n",
       "<thead><tr><th scope=col>Team</th><th scope=col>Roster</th><th scope=col>X25.Man.Payroll</th><th scope=col>Injured.Reserve</th><th scope=col>Retained</th><th scope=col>Buried</th><th scope=col>Suspended</th><th scope=col>X2018.Total.Payroll</th><th scope=col>Rank</th></tr></thead>\n",
       "<tbody>\n",
       "\t<tr><td>Boston Red Sox      </td><td>36                  </td><td>167955780           </td><td>18074000            </td><td>41755860            </td><td>2180000             </td><td>      0             </td><td>227398860           </td><td>1                   </td></tr>\n",
       "\t<tr><td>San Francisco Giants</td><td>32                  </td><td>119689218           </td><td>64341827            </td><td>21136053            </td><td>3283000             </td><td>      0             </td><td>205665348           </td><td>2                   </td></tr>\n",
       "\t<tr><td>Los Angeles Dodgers </td><td>40                  </td><td>160502596           </td><td> 3908850            </td><td>30541679            </td><td>5590000             </td><td>      0             </td><td>199582045           </td><td>3                   </td></tr>\n",
       "\t<tr><td>Chicago Cubs        </td><td>37                  </td><td>152092957           </td><td>37451220            </td><td> 1216894            </td><td>2725000             </td><td>3200000             </td><td>194259933           </td><td>4                   </td></tr>\n",
       "\t<tr><td>Washington Nationals</td><td>35                  </td><td>130197979           </td><td> 8999485            </td><td>41161720            </td><td>4481000             </td><td>      0             </td><td>181382609           </td><td>5                   </td></tr>\n",
       "\t<tr><td>New York Yankees    </td><td>38                  </td><td>148010829           </td><td>22568376            </td><td> 9249414            </td><td>3130000             </td><td>      0             </td><td>180098151           </td><td>6                   </td></tr>\n",
       "</tbody>\n",
       "</table>\n"
      ],
      "text/latex": [
       "\\begin{tabular}{r|lllllllll}\n",
       " Team & Roster & X25.Man.Payroll & Injured.Reserve & Retained & Buried & Suspended & X2018.Total.Payroll & Rank\\\\\n",
       "\\hline\n",
       "\t Boston Red Sox       & 36                   & 167955780            & 18074000             & 41755860             & 2180000              &       0              & 227398860            & 1                   \\\\\n",
       "\t San Francisco Giants & 32                   & 119689218            & 64341827             & 21136053             & 3283000              &       0              & 205665348            & 2                   \\\\\n",
       "\t Los Angeles Dodgers  & 40                   & 160502596            &  3908850             & 30541679             & 5590000              &       0              & 199582045            & 3                   \\\\\n",
       "\t Chicago Cubs         & 37                   & 152092957            & 37451220             &  1216894             & 2725000              & 3200000              & 194259933            & 4                   \\\\\n",
       "\t Washington Nationals & 35                   & 130197979            &  8999485             & 41161720             & 4481000              &       0              & 181382609            & 5                   \\\\\n",
       "\t New York Yankees     & 38                   & 148010829            & 22568376             &  9249414             & 3130000              &       0              & 180098151            & 6                   \\\\\n",
       "\\end{tabular}\n"
      ],
      "text/markdown": [
       "\n",
       "Team | Roster | X25.Man.Payroll | Injured.Reserve | Retained | Buried | Suspended | X2018.Total.Payroll | Rank | \n",
       "|---|---|---|---|---|---|\n",
       "| Boston Red Sox       | 36                   | 167955780            | 18074000             | 41755860             | 2180000              |       0              | 227398860            | 1                    | \n",
       "| San Francisco Giants | 32                   | 119689218            | 64341827             | 21136053             | 3283000              |       0              | 205665348            | 2                    | \n",
       "| Los Angeles Dodgers  | 40                   | 160502596            |  3908850             | 30541679             | 5590000              |       0              | 199582045            | 3                    | \n",
       "| Chicago Cubs         | 37                   | 152092957            | 37451220             |  1216894             | 2725000              | 3200000              | 194259933            | 4                    | \n",
       "| Washington Nationals | 35                   | 130197979            |  8999485             | 41161720             | 4481000              |       0              | 181382609            | 5                    | \n",
       "| New York Yankees     | 38                   | 148010829            | 22568376             |  9249414             | 3130000              |       0              | 180098151            | 6                    | \n",
       "\n",
       "\n"
      ],
      "text/plain": [
       "  Team                 Roster X25.Man.Payroll Injured.Reserve Retained Buried \n",
       "1 Boston Red Sox       36     167955780       18074000        41755860 2180000\n",
       "2 San Francisco Giants 32     119689218       64341827        21136053 3283000\n",
       "3 Los Angeles Dodgers  40     160502596        3908850        30541679 5590000\n",
       "4 Chicago Cubs         37     152092957       37451220         1216894 2725000\n",
       "5 Washington Nationals 35     130197979        8999485        41161720 4481000\n",
       "6 New York Yankees     38     148010829       22568376         9249414 3130000\n",
       "  Suspended X2018.Total.Payroll Rank\n",
       "1       0   227398860           1   \n",
       "2       0   205665348           2   \n",
       "3       0   199582045           3   \n",
       "4 3200000   194259933           4   \n",
       "5       0   181382609           5   \n",
       "6       0   180098151           6   "
      ]
     },
     "metadata": {},
     "output_type": "display_data"
    },
    {
     "data": {
      "text/html": [
       "<table>\n",
       "<thead><tr><th scope=col>Name</th><th scope=col>W</th><th scope=col>L</th><th scope=col>PCT</th><th scope=col>GB</th><th scope=col>HOME</th><th scope=col>AWAY</th><th scope=col>RS</th><th scope=col>RA</th><th scope=col>DIFF</th><th scope=col>STRK</th><th scope=col>L10</th></tr></thead>\n",
       "<tbody>\n",
       "\t<tr><td>Boston Red Sox   </td><td>108              </td><td>54               </td><td>0.667            </td><td>-                </td><td>57-24            </td><td>51-30            </td><td>876              </td><td>647              </td><td>229              </td><td>W1               </td><td>5_5              </td></tr>\n",
       "\t<tr><td>Houston Astros   </td><td>103              </td><td>59               </td><td>0.636            </td><td>5                </td><td>46-35            </td><td>57-24            </td><td>797              </td><td>534              </td><td>263              </td><td>L1               </td><td>8_2              </td></tr>\n",
       "\t<tr><td>New York Yankees </td><td>100              </td><td>62               </td><td>0.617            </td><td>8                </td><td>53-28            </td><td>47-34            </td><td>851              </td><td>669              </td><td>182              </td><td>L1               </td><td>7_3              </td></tr>\n",
       "\t<tr><td>Oakland Athletics</td><td> 97              </td><td>65               </td><td>0.599            </td><td>11               </td><td>50-31            </td><td>47-34            </td><td>813              </td><td>674              </td><td>139              </td><td>L1               </td><td>6_4              </td></tr>\n",
       "\t<tr><td>Milwaukee Brewers</td><td> 96              </td><td>67               </td><td>0.589            </td><td>12.5             </td><td>51-30            </td><td>45-37            </td><td>754              </td><td>659              </td><td> 95              </td><td>W8               </td><td>9_1              </td></tr>\n",
       "\t<tr><td>Chicago Cubs     </td><td> 95              </td><td>68               </td><td>0.583            </td><td>13.5             </td><td>51-31            </td><td>44-37            </td><td>761              </td><td>645              </td><td>116              </td><td>L1               </td><td>6_4              </td></tr>\n",
       "</tbody>\n",
       "</table>\n"
      ],
      "text/latex": [
       "\\begin{tabular}{r|llllllllllll}\n",
       " Name & W & L & PCT & GB & HOME & AWAY & RS & RA & DIFF & STRK & L10\\\\\n",
       "\\hline\n",
       "\t Boston Red Sox    & 108               & 54                & 0.667             & -                 & 57-24             & 51-30             & 876               & 647               & 229               & W1                & 5\\_5            \\\\\n",
       "\t Houston Astros    & 103               & 59                & 0.636             & 5                 & 46-35             & 57-24             & 797               & 534               & 263               & L1                & 8\\_2            \\\\\n",
       "\t New York Yankees  & 100               & 62                & 0.617             & 8                 & 53-28             & 47-34             & 851               & 669               & 182               & L1                & 7\\_3            \\\\\n",
       "\t Oakland Athletics &  97               & 65                & 0.599             & 11                & 50-31             & 47-34             & 813               & 674               & 139               & L1                & 6\\_4            \\\\\n",
       "\t Milwaukee Brewers &  96               & 67                & 0.589             & 12.5              & 51-30             & 45-37             & 754               & 659               &  95               & W8                & 9\\_1            \\\\\n",
       "\t Chicago Cubs      &  95               & 68                & 0.583             & 13.5              & 51-31             & 44-37             & 761               & 645               & 116               & L1                & 6\\_4            \\\\\n",
       "\\end{tabular}\n"
      ],
      "text/markdown": [
       "\n",
       "Name | W | L | PCT | GB | HOME | AWAY | RS | RA | DIFF | STRK | L10 | \n",
       "|---|---|---|---|---|---|\n",
       "| Boston Red Sox    | 108               | 54                | 0.667             | -                 | 57-24             | 51-30             | 876               | 647               | 229               | W1                | 5_5               | \n",
       "| Houston Astros    | 103               | 59                | 0.636             | 5                 | 46-35             | 57-24             | 797               | 534               | 263               | L1                | 8_2               | \n",
       "| New York Yankees  | 100               | 62                | 0.617             | 8                 | 53-28             | 47-34             | 851               | 669               | 182               | L1                | 7_3               | \n",
       "| Oakland Athletics |  97               | 65                | 0.599             | 11                | 50-31             | 47-34             | 813               | 674               | 139               | L1                | 6_4               | \n",
       "| Milwaukee Brewers |  96               | 67                | 0.589             | 12.5              | 51-30             | 45-37             | 754               | 659               |  95               | W8                | 9_1               | \n",
       "| Chicago Cubs      |  95               | 68                | 0.583             | 13.5              | 51-31             | 44-37             | 761               | 645               | 116               | L1                | 6_4               | \n",
       "\n",
       "\n"
      ],
      "text/plain": [
       "  Name              W   L  PCT   GB   HOME  AWAY  RS  RA  DIFF STRK L10\n",
       "1 Boston Red Sox    108 54 0.667 -    57-24 51-30 876 647 229  W1   5_5\n",
       "2 Houston Astros    103 59 0.636 5    46-35 57-24 797 534 263  L1   8_2\n",
       "3 New York Yankees  100 62 0.617 8    53-28 47-34 851 669 182  L1   7_3\n",
       "4 Oakland Athletics  97 65 0.599 11   50-31 47-34 813 674 139  L1   6_4\n",
       "5 Milwaukee Brewers  96 67 0.589 12.5 51-30 45-37 754 659  95  W8   9_1\n",
       "6 Chicago Cubs       95 68 0.583 13.5 51-31 44-37 761 645 116  L1   6_4"
      ]
     },
     "metadata": {},
     "output_type": "display_data"
    },
    {
     "data": {
      "text/html": [
       "<table>\n",
       "<thead><tr><th scope=col>Tm</th><th scope=col>R.G</th><th scope=col>HR.</th><th scope=col>SO.</th><th scope=col>BB.</th><th scope=col>XBH.</th><th scope=col>X.H.</th><th scope=col>SO.W</th><th scope=col>AB.SO</th><th scope=col>AB.HR</th><th scope=col>AB.RBI</th><th scope=col>GB.FB</th><th scope=col>GO.AO</th><th scope=col>IP.</th><th scope=col>LD.</th><th scope=col>HR.FB</th><th scope=col>IF.FB</th></tr></thead>\n",
       "<tbody>\n",
       "\t<tr><td>ARI   </td><td>4.28  </td><td>2.90% </td><td>23.70%</td><td>9.10% </td><td>7.90% </td><td>38%   </td><td>2.61  </td><td>3.7   </td><td>31.0  </td><td>8.3   </td><td>0.79  </td><td>1.08  </td><td>63%   </td><td>25%   </td><td>8.80% </td><td>11%   </td></tr>\n",
       "\t<tr><td>ATL   </td><td>4.69  </td><td>2.80% </td><td>20.60%</td><td>8.20% </td><td>8.30% </td><td>36%   </td><td>2.52  </td><td>4.3   </td><td>31.9  </td><td>7.8   </td><td>0.76  </td><td>1.01  </td><td>67%   </td><td>26%   </td><td>8.00% </td><td>11%   </td></tr>\n",
       "\t<tr><td>BAL   </td><td>3.84  </td><td>3.10% </td><td>23.40%</td><td>7.00% </td><td>7.40% </td><td>34%   </td><td>3.35  </td><td>3.9   </td><td>29.3  </td><td>9.3   </td><td>0.81  </td><td>1.09  </td><td>65%   </td><td>24%   </td><td>9.40% </td><td>12%   </td></tr>\n",
       "\t<tr><td>BOS   </td><td>5.41  </td><td>3.30% </td><td>19.90%</td><td>9.00% </td><td>9.40% </td><td>39%   </td><td>2.20  </td><td>4.5   </td><td>27.0  </td><td>6.8   </td><td>0.78  </td><td>1.04  </td><td>67%   </td><td>25%   </td><td>9.40% </td><td>11%   </td></tr>\n",
       "\t<tr><td>CHC   </td><td>4.67  </td><td>2.60% </td><td>21.80%</td><td>9.00% </td><td>7.70% </td><td>34%   </td><td>2.41  </td><td>4.1   </td><td>33.7  </td><td>7.8   </td><td>0.88  </td><td>1.17  </td><td>65%   </td><td>25%   </td><td>8.30% </td><td>11%   </td></tr>\n",
       "\t<tr><td>CHW   </td><td>4.05  </td><td>3.00% </td><td>26.30%</td><td>7.00% </td><td>7.90% </td><td>36%   </td><td>3.75  </td><td>3.5   </td><td>30.3  </td><td>8.6   </td><td>0.83  </td><td>1.10  </td><td>62%   </td><td>25%   </td><td>9.60% </td><td>12%   </td></tr>\n",
       "</tbody>\n",
       "</table>\n"
      ],
      "text/latex": [
       "\\begin{tabular}{r|lllllllllllllllll}\n",
       " Tm & R.G & HR. & SO. & BB. & XBH. & X.H. & SO.W & AB.SO & AB.HR & AB.RBI & GB.FB & GO.AO & IP. & LD. & HR.FB & IF.FB\\\\\n",
       "\\hline\n",
       "\t ARI      & 4.28     & 2.90\\%  & 23.70\\% & 9.10\\%  & 7.90\\%  & 38\\%    & 2.61     & 3.7      & 31.0     & 8.3      & 0.79     & 1.08     & 63\\%    & 25\\%    & 8.80\\%  & 11\\%   \\\\\n",
       "\t ATL      & 4.69     & 2.80\\%  & 20.60\\% & 8.20\\%  & 8.30\\%  & 36\\%    & 2.52     & 4.3      & 31.9     & 7.8      & 0.76     & 1.01     & 67\\%    & 26\\%    & 8.00\\%  & 11\\%   \\\\\n",
       "\t BAL      & 3.84     & 3.10\\%  & 23.40\\% & 7.00\\%  & 7.40\\%  & 34\\%    & 3.35     & 3.9      & 29.3     & 9.3      & 0.81     & 1.09     & 65\\%    & 24\\%    & 9.40\\%  & 12\\%   \\\\\n",
       "\t BOS      & 5.41     & 3.30\\%  & 19.90\\% & 9.00\\%  & 9.40\\%  & 39\\%    & 2.20     & 4.5      & 27.0     & 6.8      & 0.78     & 1.04     & 67\\%    & 25\\%    & 9.40\\%  & 11\\%   \\\\\n",
       "\t CHC      & 4.67     & 2.60\\%  & 21.80\\% & 9.00\\%  & 7.70\\%  & 34\\%    & 2.41     & 4.1      & 33.7     & 7.8      & 0.88     & 1.17     & 65\\%    & 25\\%    & 8.30\\%  & 11\\%   \\\\\n",
       "\t CHW      & 4.05     & 3.00\\%  & 26.30\\% & 7.00\\%  & 7.90\\%  & 36\\%    & 3.75     & 3.5      & 30.3     & 8.6      & 0.83     & 1.10     & 62\\%    & 25\\%    & 9.60\\%  & 12\\%   \\\\\n",
       "\\end{tabular}\n"
      ],
      "text/markdown": [
       "\n",
       "Tm | R.G | HR. | SO. | BB. | XBH. | X.H. | SO.W | AB.SO | AB.HR | AB.RBI | GB.FB | GO.AO | IP. | LD. | HR.FB | IF.FB | \n",
       "|---|---|---|---|---|---|\n",
       "| ARI    | 4.28   | 2.90%  | 23.70% | 9.10%  | 7.90%  | 38%    | 2.61   | 3.7    | 31.0   | 8.3    | 0.79   | 1.08   | 63%    | 25%    | 8.80%  | 11%    | \n",
       "| ATL    | 4.69   | 2.80%  | 20.60% | 8.20%  | 8.30%  | 36%    | 2.52   | 4.3    | 31.9   | 7.8    | 0.76   | 1.01   | 67%    | 26%    | 8.00%  | 11%    | \n",
       "| BAL    | 3.84   | 3.10%  | 23.40% | 7.00%  | 7.40%  | 34%    | 3.35   | 3.9    | 29.3   | 9.3    | 0.81   | 1.09   | 65%    | 24%    | 9.40%  | 12%    | \n",
       "| BOS    | 5.41   | 3.30%  | 19.90% | 9.00%  | 9.40%  | 39%    | 2.20   | 4.5    | 27.0   | 6.8    | 0.78   | 1.04   | 67%    | 25%    | 9.40%  | 11%    | \n",
       "| CHC    | 4.67   | 2.60%  | 21.80% | 9.00%  | 7.70%  | 34%    | 2.41   | 4.1    | 33.7   | 7.8    | 0.88   | 1.17   | 65%    | 25%    | 8.30%  | 11%    | \n",
       "| CHW    | 4.05   | 3.00%  | 26.30% | 7.00%  | 7.90%  | 36%    | 3.75   | 3.5    | 30.3   | 8.6    | 0.83   | 1.10   | 62%    | 25%    | 9.60%  | 12%    | \n",
       "\n",
       "\n"
      ],
      "text/plain": [
       "  Tm  R.G  HR.   SO.    BB.   XBH.  X.H. SO.W AB.SO AB.HR AB.RBI GB.FB GO.AO\n",
       "1 ARI 4.28 2.90% 23.70% 9.10% 7.90% 38%  2.61 3.7   31.0  8.3    0.79  1.08 \n",
       "2 ATL 4.69 2.80% 20.60% 8.20% 8.30% 36%  2.52 4.3   31.9  7.8    0.76  1.01 \n",
       "3 BAL 3.84 3.10% 23.40% 7.00% 7.40% 34%  3.35 3.9   29.3  9.3    0.81  1.09 \n",
       "4 BOS 5.41 3.30% 19.90% 9.00% 9.40% 39%  2.20 4.5   27.0  6.8    0.78  1.04 \n",
       "5 CHC 4.67 2.60% 21.80% 9.00% 7.70% 34%  2.41 4.1   33.7  7.8    0.88  1.17 \n",
       "6 CHW 4.05 3.00% 26.30% 7.00% 7.90% 36%  3.75 3.5   30.3  8.6    0.83  1.10 \n",
       "  IP. LD. HR.FB IF.FB\n",
       "1 63% 25% 8.80% 11%  \n",
       "2 67% 26% 8.00% 11%  \n",
       "3 65% 24% 9.40% 12%  \n",
       "4 67% 25% 9.40% 11%  \n",
       "5 65% 25% 8.30% 11%  \n",
       "6 62% 25% 9.60% 12%  "
      ]
     },
     "metadata": {},
     "output_type": "display_data"
    }
   ],
   "source": [
    "head(read.csv(\"球隊薪資\\\\2018.csv\"))\n",
    "head(read.csv(\"戰績\\\\2018.csv\"))\n",
    "head(read.csv(\"年度統計\\\\2018.csv\"))"
   ]
  },
  {
   "cell_type": "markdown",
   "metadata": {},
   "source": [
    "### 讀取檔案資料，並將這些dataframe存入list中"
   ]
  },
  {
   "cell_type": "code",
   "execution_count": 93,
   "metadata": {},
   "outputs": [
    {
     "data": {
      "text/html": [
       "<table>\n",
       "<thead><tr><th></th><th scope=col>Tm</th><th scope=col>R.G</th><th scope=col>HR.</th><th scope=col>SO.</th><th scope=col>BB.</th><th scope=col>XBH.</th><th scope=col>X.H.</th><th scope=col>SO.W</th><th scope=col>AB.SO</th><th scope=col>AB.HR</th><th scope=col>AB.RBI</th><th scope=col>GB.FB</th><th scope=col>GO.AO</th><th scope=col>IP.</th><th scope=col>LD.</th><th scope=col>HR.FB</th><th scope=col>IF.FB</th></tr></thead>\n",
       "<tbody>\n",
       "\t<tr><th scope=row>31</th><td>LgAvg </td><td>4.28  </td><td>2.50% </td><td>18.60%</td><td>8.10% </td><td>7.50% </td><td>33%   </td><td>2.3   </td><td>4.8   </td><td>36.4  </td><td>8.4   </td><td>0.82  </td><td>1.09  </td><td>69%   </td><td>18%   </td><td>7.30% </td><td>14%   </td></tr>\n",
       "</tbody>\n",
       "</table>\n"
      ],
      "text/latex": [
       "\\begin{tabular}{r|lllllllllllllllll}\n",
       "  & Tm & R.G & HR. & SO. & BB. & XBH. & X.H. & SO.W & AB.SO & AB.HR & AB.RBI & GB.FB & GO.AO & IP. & LD. & HR.FB & IF.FB\\\\\n",
       "\\hline\n",
       "\t31 & LgAvg    & 4.28     & 2.50\\%  & 18.60\\% & 8.10\\%  & 7.50\\%  & 33\\%    & 2.3      & 4.8      & 36.4     & 8.4      & 0.82     & 1.09     & 69\\%    & 18\\%    & 7.30\\%  & 14\\%   \\\\\n",
       "\\end{tabular}\n"
      ],
      "text/markdown": [
       "\n",
       "| <!--/--> | Tm | R.G | HR. | SO. | BB. | XBH. | X.H. | SO.W | AB.SO | AB.HR | AB.RBI | GB.FB | GO.AO | IP. | LD. | HR.FB | IF.FB | \n",
       "|---|\n",
       "| 31 | LgAvg  | 4.28   | 2.50%  | 18.60% | 8.10%  | 7.50%  | 33%    | 2.3    | 4.8    | 36.4   | 8.4    | 0.82   | 1.09   | 69%    | 18%    | 7.30%  | 14%    | \n",
       "\n",
       "\n"
      ],
      "text/plain": [
       "   Tm    R.G  HR.   SO.    BB.   XBH.  X.H. SO.W AB.SO AB.HR AB.RBI GB.FB GO.AO\n",
       "31 LgAvg 4.28 2.50% 18.60% 8.10% 7.50% 33%  2.3  4.8   36.4  8.4    0.82  1.09 \n",
       "   IP. LD. HR.FB IF.FB\n",
       "31 69% 18% 7.30% 14%  "
      ]
     },
     "metadata": {},
     "output_type": "display_data"
    }
   ],
   "source": [
    "salList <- list()\n",
    "standingList <- list()\n",
    "statisticList <- list()\n",
    "for (i in c(2011:2018))\n",
    "{\n",
    "    salList[[i - 2010]] <- read.csv(paste(\"球隊薪資\\\\\", toString(i), \".csv\", sep=\"\"))\n",
    "    standingList[[i - 2010]] <- read.csv(paste(\"戰績\\\\\", toString(i), \".csv\", sep=\"\"))\n",
    "    statisticList[[i - 2010]] <- read.csv(paste(\"年度統計\\\\\", toString(i), \".csv\", sep=\"\"))\n",
    "}\n",
    "subset(statisticList[[1]][31,])"
   ]
  },
  {
   "cell_type": "markdown",
   "metadata": {},
   "source": [
    "### 處理資料"
   ]
  },
  {
   "cell_type": "code",
   "execution_count": 94,
   "metadata": {},
   "outputs": [],
   "source": [
    "inflation <- c(1, 1.017, 1.032255, 1.04051304, 1.047796631, 1.069800361, 1.092266168, 1.113019225)\n",
    "meanSal <- c()\n",
    "\n",
    "for (i in c(1:8))\n",
    "{\n",
    "    meanSal[i] <- mean(salList[[i]][, \"X25.Man.Payroll\"]) * inflation[i] / 1000000\n",
    "}\n",
    "\n",
    "\n",
    "salYear <- data.frame(matrix(ncol=2))\n",
    "colnames(salYear) <- c(\"year\", \"salary\")\n",
    "for (i in c(1:8))\n",
    "{ \n",
    "    tem <- data.frame(year=2010 + i, salary=salList[[i]][, \"X25.Man.Payroll\"])\n",
    "    salYear <- rbind(salYear, tem)\n",
    "    salYear <- salYear[complete.cases(salYear),]\n",
    "}\n",
    "salYear <- salYear %>% mutate(salary = salary/1000000)"
   ]
  },
  {
   "cell_type": "code",
   "execution_count": 95,
   "metadata": {},
   "outputs": [
    {
     "data": {},
     "metadata": {},
     "output_type": "display_data"
    },
    {
     "data": {
      "image/png": "[encoded data removed]",
      "text/plain": [
       "plot without title"
      ]
     },
     "metadata": {},
     "output_type": "display_data"
    }
   ],
   "source": [
    "# Create a line plot showing the change in meanSalary over time\n",
    "\n",
    "options(repr.plot.width=6, repr.plot.height=2)\n",
    "ggplot(salary, aes(year, meanSalary)) + geom_line(color=\"blue\") + geom_point() +\n",
    "    ylab(\"meanSal(millions USD)\") + ggtitle(\"Changes of mean salary per year\") +\n",
    "    theme(plot.title = element_text(hjust=0.5))"
   ]
  },
  {
   "cell_type": "code",
   "execution_count": 96,
   "metadata": {},
   "outputs": [
    {
     "data": {},
     "metadata": {},
     "output_type": "display_data"
    },
    {
     "data": {
      "image/png": "[encoded data removed]",
      "text/plain": [
       "plot without title"
      ]
     },
     "metadata": {},
     "output_type": "display_data"
    }
   ],
   "source": [
    "ggplot(salYear, aes(x=as.factor(year), y=salary)) + geom_boxplot(outlier.colour=\"black\", outlier.shape=16, outlier.size=1, notch=FALSE) +\n",
    "    xlab(\"year\") + ylab(\"Salary(millions USD)\") + ggtitle(\"Distribution of salary per year\") +\n",
    "    theme(plot.title = element_text(hjust=0.5)) + scale_fill_brewer(palette=\"RdBu\")"
   ]
  },
  {
   "cell_type": "code",
   "execution_count": 97,
   "metadata": {},
   "outputs": [],
   "source": [
    "# 整理salList 成一個dataframe ,mutate new column---year ,column : X25.Man.Payroll\n",
    "tmp_data <- lapply(salList,function(x){colnames(x)[8] <- \"Total.Payroll\" ;return(x)})\n",
    "names(tmp_data) <- 2011 : 2018\n",
    "for (i in 1 : length(tmp_data)){\n",
    "    tmp <- tmp_data[[i]][,c(1,3,8)]\n",
    "    tmp <- tmp %>% mutate(year = names(tmp_data)[i])\n",
    "    if(i == 1){\n",
    "        data <- tmp\n",
    "    }\n",
    "    else {\n",
    "        data <- rbind(data,tmp)\n",
    "    }\n",
    "}\n",
    "# row 61 is useless  : Florida Marlins               0        918033   2012\n",
    "data <- data[-61,]\n",
    "\n",
    "data[,4] <- as.factor(data[,4])\n",
    "\n",
    "for (i in as.character(2011: 2018))\n",
    "{\n",
    "    rd <- read.csv(paste(\"戰績\\\\\",i,\".csv\",sep = \"\"))\n",
    "    tmp <- rd[,c(1,2)] %>% mutate(year = i)\n",
    "    \n",
    "    if(i == 2011)\n",
    "    {\n",
    "        new_data <- tmp\n",
    "    }\n",
    "    else\n",
    "    {\n",
    "        new_data <- rbind(new_data,tmp)\n",
    "    }\n",
    "}\n",
    "colnames(new_data)[1] <- \"Team\"\n",
    "data <- data %>% arrange(year,Team)\n",
    "new_data <- new_data %>% arrange(year,Team)\n",
    "final_data <- merge(data,new_data,by = c(\"Team\",\"year\"))\n",
    "final_data <- final_data %>% mutate(X25.Man.Payroll = X25.Man.Payroll / 1000000)"
   ]
  },
  {
   "cell_type": "code",
   "execution_count": 98,
   "metadata": {},
   "outputs": [
    {
     "data": {},
     "metadata": {},
     "output_type": "display_data"
    },
    {
     "data": {
      "image/png": "[encoded data removed]",
      "text/plain": [
       "plot without title"
      ]
     },
     "metadata": {},
     "output_type": "display_data"
    }
   ],
   "source": [
    "ggplot(final_data, aes(x = X25.Man.Payroll, y = W)) + \n",
    "  geom_point() +\n",
    "  stat_smooth(method = \"lmrob\", col = \"red\")"
   ]
  },
  {
   "cell_type": "code",
   "execution_count": 99,
   "metadata": {},
   "outputs": [
    {
     "data": {
      "text/plain": [
       "\n",
       "Call:\n",
       "lmrob(formula = W ~ X25.Man.Payroll, data = final_data)\n",
       " \\--> method = \"MM\"\n",
       "Residuals:\n",
       "    Min      1Q  Median      3Q     Max \n",
       "-30.049  -6.137  -0.196   6.377  21.098 \n",
       "\n",
       "Coefficients:\n",
       "                Estimate Std. Error t value Pr(>|t|)    \n",
       "(Intercept)     67.26091    1.57118   42.81   <2e-16 ***\n",
       "X25.Man.Payroll  0.14045    0.01404   10.01   <2e-16 ***\n",
       "---\n",
       "Signif. codes:  0 '***' 0.001 '**' 0.01 '*' 0.05 '.' 0.1 ' ' 1\n",
       "\n",
       "Robust residual standard error: 9.7 \n",
       "Multiple R-squared:  0.2748,\tAdjusted R-squared:  0.2718 \n",
       "Convergence in 9 IRWLS iterations\n",
       "\n",
       "Robustness weights: \n",
       " 24 weights are ~= 1. The remaining 213 ones are summarized as\n",
       "   Min. 1st Qu.  Median    Mean 3rd Qu.    Max. \n",
       " 0.3167  0.8459  0.9484  0.9022  0.9854  0.9986 \n",
       "Algorithmic parameters: \n",
       "       tuning.chi                bb        tuning.psi        refine.tol \n",
       "        1.548e+00         5.000e-01         4.685e+00         1.000e-07 \n",
       "          rel.tol         scale.tol         solve.tol       eps.outlier \n",
       "        1.000e-07         1.000e-10         1.000e-07         4.219e-04 \n",
       "            eps.x warn.limit.reject warn.limit.meanrw \n",
       "        4.258e-10         5.000e-01         5.000e-01 \n",
       "     nResample         max.it       best.r.s       k.fast.s          k.max \n",
       "           500             50              2              1            200 \n",
       "   maxit.scale      trace.lev            mts     compute.rd fast.s.large.n \n",
       "           200              0           1000              0           2000 \n",
       "                  psi           subsampling                   cov \n",
       "           \"bisquare\"         \"nonsingular\"         \".vcov.avar1\" \n",
       "compute.outlier.stats \n",
       "                 \"SM\" \n",
       "seed : int(0) "
      ]
     },
     "metadata": {},
     "output_type": "display_data"
    }
   ],
   "source": [
    "a <- lmrob(W ~ X25.Man.Payroll, data=final_data)\n",
    "summary(a)"
   ]
  },
  {
   "cell_type": "code",
   "execution_count": 100,
   "metadata": {
    "scrolled": true
   },
   "outputs": [
    {
     "data": {
      "text/html": [
       "<table>\n",
       "<thead><tr><th scope=col>Tm</th><th scope=col>R.G</th><th scope=col>HR.</th><th scope=col>SO.</th><th scope=col>BB.</th><th scope=col>XBH.</th><th scope=col>X.H.</th><th scope=col>SO.W</th><th scope=col>AB.SO</th><th scope=col>AB.HR</th><th scope=col>AB.RBI</th><th scope=col>GB.FB</th><th scope=col>GO.AO</th><th scope=col>IP.</th><th scope=col>LD.</th><th scope=col>HR.FB</th><th scope=col>IF.FB</th><th scope=col>year</th></tr></thead>\n",
       "<tbody>\n",
       "\t<tr><td>LgAvg </td><td>4.28  </td><td>2.50% </td><td>18.60%</td><td>8.10% </td><td>7.50% </td><td>33%   </td><td>2.30  </td><td>4.8   </td><td>36.4  </td><td>8.4   </td><td>0.82  </td><td>1.09  </td><td>69%   </td><td>18%   </td><td>7.30% </td><td>14%   </td><td>2011  </td></tr>\n",
       "\t<tr><td>LgAvg </td><td>4.32  </td><td>2.70% </td><td>19.80%</td><td>8.00% </td><td>7.70% </td><td>34%   </td><td>2.48  </td><td>4.5   </td><td>33.5  </td><td>8.3   </td><td>0.84  </td><td>1.12  </td><td>68%   </td><td>19%   </td><td>8.10% </td><td>13%   </td><td>2012  </td></tr>\n",
       "\t<tr><td>LgAvg </td><td>4.17  </td><td>2.50% </td><td>19.90%</td><td>7.90% </td><td>7.40% </td><td>32%   </td><td>2.51  </td><td>4.5   </td><td>35.6  </td><td>8.6   </td><td>0.82  </td><td>1.10  </td><td>68%   </td><td>23%   </td><td>7.50% </td><td>13%   </td><td>2013  </td></tr>\n",
       "\t<tr><td>LgAvg </td><td>4.07  </td><td>2.30% </td><td>20.40%</td><td>7.60% </td><td>7.20% </td><td>32%   </td><td>2.67  </td><td>4.4   </td><td>39.6  </td><td>8.8   </td><td>0.84  </td><td>1.10  </td><td>68%   </td><td>25%   </td><td>6.90% </td><td>12%   </td><td>2014  </td></tr>\n",
       "\t<tr><td>LgAvg </td><td>4.25  </td><td>2.70% </td><td>20.40%</td><td>7.70% </td><td>7.70% </td><td>34%   </td><td>2.66  </td><td>4.4   </td><td>33.7  </td><td>8.4   </td><td>0.86  </td><td>1.14  </td><td>68%   </td><td>27%   </td><td>8.20% </td><td>13%   </td><td>2015  </td></tr>\n",
       "\t<tr><td>LgAvg </td><td>4.48  </td><td>3.00% </td><td>21.10%</td><td>8.20% </td><td>8.00% </td><td>35%   </td><td>2.58  </td><td>4.2   </td><td>29.5  </td><td>8.0   </td><td>0.83  </td><td>1.11  </td><td>66%   </td><td>26%   </td><td>9.20% </td><td>12%   </td><td>2016  </td></tr>\n",
       "</tbody>\n",
       "</table>\n"
      ],
      "text/latex": [
       "\\begin{tabular}{r|llllllllllllllllll}\n",
       " Tm & R.G & HR. & SO. & BB. & XBH. & X.H. & SO.W & AB.SO & AB.HR & AB.RBI & GB.FB & GO.AO & IP. & LD. & HR.FB & IF.FB & year\\\\\n",
       "\\hline\n",
       "\t LgAvg    & 4.28     & 2.50\\%  & 18.60\\% & 8.10\\%  & 7.50\\%  & 33\\%    & 2.30     & 4.8      & 36.4     & 8.4      & 0.82     & 1.09     & 69\\%    & 18\\%    & 7.30\\%  & 14\\%    & 2011    \\\\\n",
       "\t LgAvg    & 4.32     & 2.70\\%  & 19.80\\% & 8.00\\%  & 7.70\\%  & 34\\%    & 2.48     & 4.5      & 33.5     & 8.3      & 0.84     & 1.12     & 68\\%    & 19\\%    & 8.10\\%  & 13\\%    & 2012    \\\\\n",
       "\t LgAvg    & 4.17     & 2.50\\%  & 19.90\\% & 7.90\\%  & 7.40\\%  & 32\\%    & 2.51     & 4.5      & 35.6     & 8.6      & 0.82     & 1.10     & 68\\%    & 23\\%    & 7.50\\%  & 13\\%    & 2013    \\\\\n",
       "\t LgAvg    & 4.07     & 2.30\\%  & 20.40\\% & 7.60\\%  & 7.20\\%  & 32\\%    & 2.67     & 4.4      & 39.6     & 8.8      & 0.84     & 1.10     & 68\\%    & 25\\%    & 6.90\\%  & 12\\%    & 2014    \\\\\n",
       "\t LgAvg    & 4.25     & 2.70\\%  & 20.40\\% & 7.70\\%  & 7.70\\%  & 34\\%    & 2.66     & 4.4      & 33.7     & 8.4      & 0.86     & 1.14     & 68\\%    & 27\\%    & 8.20\\%  & 13\\%    & 2015    \\\\\n",
       "\t LgAvg    & 4.48     & 3.00\\%  & 21.10\\% & 8.20\\%  & 8.00\\%  & 35\\%    & 2.58     & 4.2      & 29.5     & 8.0      & 0.83     & 1.11     & 66\\%    & 26\\%    & 9.20\\%  & 12\\%    & 2016    \\\\\n",
       "\\end{tabular}\n"
      ],
      "text/markdown": [
       "\n",
       "Tm | R.G | HR. | SO. | BB. | XBH. | X.H. | SO.W | AB.SO | AB.HR | AB.RBI | GB.FB | GO.AO | IP. | LD. | HR.FB | IF.FB | year | \n",
       "|---|---|---|---|---|---|\n",
       "| LgAvg  | 4.28   | 2.50%  | 18.60% | 8.10%  | 7.50%  | 33%    | 2.30   | 4.8    | 36.4   | 8.4    | 0.82   | 1.09   | 69%    | 18%    | 7.30%  | 14%    | 2011   | \n",
       "| LgAvg  | 4.32   | 2.70%  | 19.80% | 8.00%  | 7.70%  | 34%    | 2.48   | 4.5    | 33.5   | 8.3    | 0.84   | 1.12   | 68%    | 19%    | 8.10%  | 13%    | 2012   | \n",
       "| LgAvg  | 4.17   | 2.50%  | 19.90% | 7.90%  | 7.40%  | 32%    | 2.51   | 4.5    | 35.6   | 8.6    | 0.82   | 1.10   | 68%    | 23%    | 7.50%  | 13%    | 2013   | \n",
       "| LgAvg  | 4.07   | 2.30%  | 20.40% | 7.60%  | 7.20%  | 32%    | 2.67   | 4.4    | 39.6   | 8.8    | 0.84   | 1.10   | 68%    | 25%    | 6.90%  | 12%    | 2014   | \n",
       "| LgAvg  | 4.25   | 2.70%  | 20.40% | 7.70%  | 7.70%  | 34%    | 2.66   | 4.4    | 33.7   | 8.4    | 0.86   | 1.14   | 68%    | 27%    | 8.20%  | 13%    | 2015   | \n",
       "| LgAvg  | 4.48   | 3.00%  | 21.10% | 8.20%  | 8.00%  | 35%    | 2.58   | 4.2    | 29.5   | 8.0    | 0.83   | 1.11   | 66%    | 26%    | 9.20%  | 12%    | 2016   | \n",
       "\n",
       "\n"
      ],
      "text/plain": [
       "  Tm    R.G  HR.   SO.    BB.   XBH.  X.H. SO.W AB.SO AB.HR AB.RBI GB.FB GO.AO\n",
       "1 LgAvg 4.28 2.50% 18.60% 8.10% 7.50% 33%  2.30 4.8   36.4  8.4    0.82  1.09 \n",
       "2 LgAvg 4.32 2.70% 19.80% 8.00% 7.70% 34%  2.48 4.5   33.5  8.3    0.84  1.12 \n",
       "3 LgAvg 4.17 2.50% 19.90% 7.90% 7.40% 32%  2.51 4.5   35.6  8.6    0.82  1.10 \n",
       "4 LgAvg 4.07 2.30% 20.40% 7.60% 7.20% 32%  2.67 4.4   39.6  8.8    0.84  1.10 \n",
       "5 LgAvg 4.25 2.70% 20.40% 7.70% 7.70% 34%  2.66 4.4   33.7  8.4    0.86  1.14 \n",
       "6 LgAvg 4.48 3.00% 21.10% 8.20% 8.00% 35%  2.58 4.2   29.5  8.0    0.83  1.11 \n",
       "  IP. LD. HR.FB IF.FB year\n",
       "1 69% 18% 7.30% 14%   2011\n",
       "2 68% 19% 8.10% 13%   2012\n",
       "3 68% 23% 7.50% 13%   2013\n",
       "4 68% 25% 6.90% 12%   2014\n",
       "5 68% 27% 8.20% 13%   2015\n",
       "6 66% 26% 9.20% 12%   2016"
      ]
     },
     "metadata": {},
     "output_type": "display_data"
    }
   ],
   "source": [
    "for (i in (2011 : 2018)){\n",
    "    if(i ==2011){\n",
    "        statdata <- statisticList[[1]][31,]\n",
    "        statdata <- statdata %>% mutate(year = i)\n",
    "    }\n",
    "    else{\n",
    "        \n",
    "        tmp <-statisticList[[i - 2010]][31,]\n",
    "        tmp <- tmp %>% mutate(year = i)\n",
    "        statdata <- rbind(statdata,tmp)\n",
    "    }\n",
    "    \n",
    "    \n",
    "}\n",
    "\n",
    "head(statdata)"
   ]
  },
  {
   "cell_type": "code",
   "execution_count": 101,
   "metadata": {},
   "outputs": [
    {
     "data": {},
     "metadata": {},
     "output_type": "display_data"
    },
    {
     "data": {
      "image/png": "[encoded data removed]",
      "text/plain": [
       "plot without title"
      ]
     },
     "metadata": {},
     "output_type": "display_data"
    }
   ],
   "source": [
    "ggplot(statdata, aes(year, GB.FB)) + geom_point() + geom_line()"
   ]
  },
  {
   "cell_type": "code",
   "execution_count": null,
   "metadata": {},
   "outputs": [],
   "source": []
  }
 ],
 "metadata": {
  "kernelspec": {
   "display_name": "R",
   "language": "R",
   "name": "ir"
  },
  "language_info": {
   "codemirror_mode": "r",
   "file_extension": ".r",
   "mimetype": "text/x-r-source",
   "name": "R",
   "pygments_lexer": "r",
   "version": "3.5.1"
  }
 },
 "nbformat": 4,
 "nbformat_minor": 2
}
