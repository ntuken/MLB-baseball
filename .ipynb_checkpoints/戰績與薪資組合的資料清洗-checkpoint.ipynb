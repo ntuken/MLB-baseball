{
 "cells": [
  {
   "cell_type": "markdown",
   "metadata": {},
   "source": [
    "# 戰績與薪資組合的資料清洗\n",
    "* Name\n",
    "* 勝率(PCT)\n",
    "* 總薪資\n",
    "* 薪資標準差"
   ]
  },
  {
   "cell_type": "markdown",
   "metadata": {},
   "source": [
    "## 匯入套件"
   ]
  },
  {
   "cell_type": "code",
   "execution_count": 1,
   "metadata": {},
   "outputs": [
    {
     "name": "stderr",
     "output_type": "stream",
     "text": [
      "\n",
      "Attaching package: 'dplyr'\n",
      "\n",
      "The following objects are masked from 'package:stats':\n",
      "\n",
      "    filter, lag\n",
      "\n",
      "The following objects are masked from 'package:base':\n",
      "\n",
      "    intersect, setdiff, setequal, union\n",
      "\n"
     ]
    }
   ],
   "source": [
    "library(dplyr)\n",
    "library(ggplot2)\n",
    "library(readr)\n",
    "library(stringr)"
   ]
  },
  {
   "cell_type": "markdown",
   "metadata": {},
   "source": [
    "## 更改工作路徑"
   ]
  },
  {
   "cell_type": "code",
   "execution_count": 2,
   "metadata": {},
   "outputs": [],
   "source": [
    "setwd(\"D:\\\\github 工作區\\\\MLB-baseball\\\\新各年各隊戰績\")"
   ]
  },
  {
   "cell_type": "code",
   "execution_count": 3,
   "metadata": {},
   "outputs": [
    {
     "data": {
      "text/html": [
       "<ol class=list-inline>\n",
       "\t<li>'2012.csv'</li>\n",
       "\t<li>'2013.csv'</li>\n",
       "\t<li>'2014.csv'</li>\n",
       "\t<li>'2015.csv'</li>\n",
       "\t<li>'2016.csv'</li>\n",
       "\t<li>'2017.csv'</li>\n",
       "\t<li>'2018.csv'</li>\n",
       "</ol>\n"
      ],
      "text/latex": [
       "\\begin{enumerate*}\n",
       "\\item '2012.csv'\n",
       "\\item '2013.csv'\n",
       "\\item '2014.csv'\n",
       "\\item '2015.csv'\n",
       "\\item '2016.csv'\n",
       "\\item '2017.csv'\n",
       "\\item '2018.csv'\n",
       "\\end{enumerate*}\n"
      ],
      "text/markdown": [
       "1. '2012.csv'\n",
       "2. '2013.csv'\n",
       "3. '2014.csv'\n",
       "4. '2015.csv'\n",
       "5. '2016.csv'\n",
       "6. '2017.csv'\n",
       "7. '2018.csv'\n",
       "\n",
       "\n"
      ],
      "text/plain": [
       "[1] \"2012.csv\" \"2013.csv\" \"2014.csv\" \"2015.csv\" \"2016.csv\" \"2017.csv\" \"2018.csv\""
      ]
     },
     "metadata": {},
     "output_type": "display_data"
    }
   ],
   "source": [
    "for(file in dir()){\n",
    "    \n",
    "    \n",
    "}"
   ]
  },
  {
   "cell_type": "code",
   "execution_count": null,
   "metadata": {},
   "outputs": [],
   "source": []
  }
 ],
 "metadata": {
  "kernelspec": {
   "display_name": "R",
   "language": "R",
   "name": "ir"
  },
  "language_info": {
   "codemirror_mode": "r",
   "file_extension": ".r",
   "mimetype": "text/x-r-source",
   "name": "R",
   "pygments_lexer": "r",
   "version": "3.3.3"
  }
 },
 "nbformat": 4,
 "nbformat_minor": 2
}
