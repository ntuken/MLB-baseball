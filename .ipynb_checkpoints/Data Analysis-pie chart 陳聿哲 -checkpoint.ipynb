{
 "cells": [
  {
   "cell_type": "markdown",
   "metadata": {},
   "source": [
    "## MLB Analysis\n",
    "\n",
    "這次我們會簡單的幾句話跟大家說明資料科學在美國職棒的運用及影響，以下我們會分析下列幾項：\n",
    "\n",
    "* 調整物價波動後，大聯盟平均薪資的變化\n",
    "* 各隊薪資佔聯盟總薪資的佔比\n",
    "* 飛球革命對於大聯盟的影響\n",
    "* 整體薪資和戰績的關係\n",
    "* 薪資組合和戰績的關係\n",
    "\n",
    "\n",
    "### 首先先匯入會用到的函式庫"
   ]
  },
  {
   "cell_type": "code",
   "execution_count": 2,
   "metadata": {},
   "outputs": [
    {
     "name": "stderr",
     "output_type": "stream",
     "text": [
      "\n",
      "Attaching package: 'dplyr'\n",
      "\n",
      "The following objects are masked from 'package:stats':\n",
      "\n",
      "    filter, lag\n",
      "\n",
      "The following objects are masked from 'package:base':\n",
      "\n",
      "    intersect, setdiff, setequal, union\n",
      "\n"
     ]
    }
   ],
   "source": [
    "library(ggplot2)\n",
    "library(dplyr)"
   ]
  },
  {
   "cell_type": "code",
   "execution_count": 3,
   "metadata": {},
   "outputs": [
    {
     "data": {
      "text/html": [
       "<table>\n",
       "<caption>A data.frame: 6 × 9</caption>\n",
       "<thead>\n",
       "\t<tr><th scope=col>Team</th><th scope=col>Roster</th><th scope=col>X25.Man.Payroll</th><th scope=col>Injured.Reserve</th><th scope=col>Retained</th><th scope=col>Buried</th><th scope=col>Suspended</th><th scope=col>X2018.Total.Payroll</th><th scope=col>Rank</th></tr>\n",
       "\t<tr><th scope=col>&lt;fct&gt;</th><th scope=col>&lt;int&gt;</th><th scope=col>&lt;int&gt;</th><th scope=col>&lt;int&gt;</th><th scope=col>&lt;int&gt;</th><th scope=col>&lt;int&gt;</th><th scope=col>&lt;dbl&gt;</th><th scope=col>&lt;int&gt;</th><th scope=col>&lt;int&gt;</th></tr>\n",
       "</thead>\n",
       "<tbody>\n",
       "\t<tr><td>Boston Red Sox      </td><td>36</td><td>167955780</td><td>18074000</td><td>41755860</td><td>2180000</td><td>      0</td><td>227398860</td><td>1</td></tr>\n",
       "\t<tr><td>San Francisco Giants</td><td>32</td><td>119689218</td><td>64341827</td><td>21136053</td><td>3283000</td><td>      0</td><td>205665348</td><td>2</td></tr>\n",
       "\t<tr><td>Los Angeles Dodgers </td><td>40</td><td>160502596</td><td> 3908850</td><td>30541679</td><td>5590000</td><td>      0</td><td>199582045</td><td>3</td></tr>\n",
       "\t<tr><td>Chicago Cubs        </td><td>37</td><td>152092957</td><td>37451220</td><td> 1216894</td><td>2725000</td><td>3200000</td><td>194259933</td><td>4</td></tr>\n",
       "\t<tr><td>Washington Nationals</td><td>35</td><td>130197979</td><td> 8999485</td><td>41161720</td><td>4481000</td><td>      0</td><td>181382609</td><td>5</td></tr>\n",
       "\t<tr><td>New York Yankees    </td><td>38</td><td>148010829</td><td>22568376</td><td> 9249414</td><td>3130000</td><td>      0</td><td>180098151</td><td>6</td></tr>\n",
       "</tbody>\n",
       "</table>\n"
      ],
      "text/latex": [
       "A data.frame: 6 × 9\n",
       "\\begin{tabular}{r|lllllllll}\n",
       " Team & Roster & X25.Man.Payroll & Injured.Reserve & Retained & Buried & Suspended & X2018.Total.Payroll & Rank\\\\\n",
       " <fct> & <int> & <int> & <int> & <int> & <int> & <dbl> & <int> & <int>\\\\\n",
       "\\hline\n",
       "\t Boston Red Sox       & 36 & 167955780 & 18074000 & 41755860 & 2180000 &       0 & 227398860 & 1\\\\\n",
       "\t San Francisco Giants & 32 & 119689218 & 64341827 & 21136053 & 3283000 &       0 & 205665348 & 2\\\\\n",
       "\t Los Angeles Dodgers  & 40 & 160502596 &  3908850 & 30541679 & 5590000 &       0 & 199582045 & 3\\\\\n",
       "\t Chicago Cubs         & 37 & 152092957 & 37451220 &  1216894 & 2725000 & 3200000 & 194259933 & 4\\\\\n",
       "\t Washington Nationals & 35 & 130197979 &  8999485 & 41161720 & 4481000 &       0 & 181382609 & 5\\\\\n",
       "\t New York Yankees     & 38 & 148010829 & 22568376 &  9249414 & 3130000 &       0 & 180098151 & 6\\\\\n",
       "\\end{tabular}\n"
      ],
      "text/markdown": [
       "\n",
       "A data.frame: 6 × 9\n",
       "\n",
       "| Team &lt;fct&gt; | Roster &lt;int&gt; | X25.Man.Payroll &lt;int&gt; | Injured.Reserve &lt;int&gt; | Retained &lt;int&gt; | Buried &lt;int&gt; | Suspended &lt;dbl&gt; | X2018.Total.Payroll &lt;int&gt; | Rank &lt;int&gt; |\n",
       "|---|---|---|---|---|---|---|---|---|\n",
       "| Boston Red Sox       | 36 | 167955780 | 18074000 | 41755860 | 2180000 |       0 | 227398860 | 1 |\n",
       "| San Francisco Giants | 32 | 119689218 | 64341827 | 21136053 | 3283000 |       0 | 205665348 | 2 |\n",
       "| Los Angeles Dodgers  | 40 | 160502596 |  3908850 | 30541679 | 5590000 |       0 | 199582045 | 3 |\n",
       "| Chicago Cubs         | 37 | 152092957 | 37451220 |  1216894 | 2725000 | 3200000 | 194259933 | 4 |\n",
       "| Washington Nationals | 35 | 130197979 |  8999485 | 41161720 | 4481000 |       0 | 181382609 | 5 |\n",
       "| New York Yankees     | 38 | 148010829 | 22568376 |  9249414 | 3130000 |       0 | 180098151 | 6 |\n",
       "\n"
      ],
      "text/plain": [
       "  Team                 Roster X25.Man.Payroll Injured.Reserve Retained Buried \n",
       "1 Boston Red Sox       36     167955780       18074000        41755860 2180000\n",
       "2 San Francisco Giants 32     119689218       64341827        21136053 3283000\n",
       "3 Los Angeles Dodgers  40     160502596        3908850        30541679 5590000\n",
       "4 Chicago Cubs         37     152092957       37451220         1216894 2725000\n",
       "5 Washington Nationals 35     130197979        8999485        41161720 4481000\n",
       "6 New York Yankees     38     148010829       22568376         9249414 3130000\n",
       "  Suspended X2018.Total.Payroll Rank\n",
       "1       0   227398860           1   \n",
       "2       0   205665348           2   \n",
       "3       0   199582045           3   \n",
       "4 3200000   194259933           4   \n",
       "5       0   181382609           5   \n",
       "6       0   180098151           6   "
      ]
     },
     "metadata": {},
     "output_type": "display_data"
    }
   ],
   "source": [
    "data <- read.csv(\"各年度各隊薪資\\\\2018.csv\")\n",
    "head(data)"
   ]
  },
  {
   "cell_type": "code",
   "execution_count": 4,
   "metadata": {},
   "outputs": [
    {
     "data": {
      "text/html": [
       "<table>\n",
       "<caption>A data.frame: 6 × 12</caption>\n",
       "<thead>\n",
       "\t<tr><th scope=col>Name</th><th scope=col>W</th><th scope=col>L</th><th scope=col>PCT</th><th scope=col>GB</th><th scope=col>HOME</th><th scope=col>AWAY</th><th scope=col>RS</th><th scope=col>RA</th><th scope=col>DIFF</th><th scope=col>STRK</th><th scope=col>L10</th></tr>\n",
       "\t<tr><th scope=col>&lt;fct&gt;</th><th scope=col>&lt;int&gt;</th><th scope=col>&lt;int&gt;</th><th scope=col>&lt;dbl&gt;</th><th scope=col>&lt;fct&gt;</th><th scope=col>&lt;fct&gt;</th><th scope=col>&lt;fct&gt;</th><th scope=col>&lt;int&gt;</th><th scope=col>&lt;int&gt;</th><th scope=col>&lt;int&gt;</th><th scope=col>&lt;fct&gt;</th><th scope=col>&lt;fct&gt;</th></tr>\n",
       "</thead>\n",
       "<tbody>\n",
       "\t<tr><td>Philadelphia Phillies</td><td>102</td><td>60</td><td>0.630</td><td>-</td><td>52-29</td><td>50-31</td><td>713</td><td>529</td><td>184</td><td>W4</td><td>4月6日</td></tr>\n",
       "\t<tr><td>New York Yankees     </td><td> 97</td><td>65</td><td>0.599</td><td>5</td><td>52-29</td><td>45-36</td><td>867</td><td>657</td><td>210</td><td>L4</td><td>5月5日</td></tr>\n",
       "\t<tr><td>Milwaukee Brewers    </td><td> 96</td><td>66</td><td>0.593</td><td>6</td><td>57-24</td><td>39-42</td><td>721</td><td>638</td><td> 83</td><td>W2</td><td>7月3日</td></tr>\n",
       "\t<tr><td>Texas Rangers        </td><td> 96</td><td>66</td><td>0.593</td><td>6</td><td>52-29</td><td>44-37</td><td>855</td><td>677</td><td>178</td><td>W6</td><td>9月1日</td></tr>\n",
       "\t<tr><td>Detroit Tigers       </td><td> 95</td><td>67</td><td>0.586</td><td>7</td><td>50-31</td><td>45-36</td><td>787</td><td>711</td><td> 76</td><td>W4</td><td>7月3日</td></tr>\n",
       "\t<tr><td>Arizona Diamondbacks </td><td> 94</td><td>68</td><td>0.580</td><td>8</td><td>51-30</td><td>43-38</td><td>731</td><td>662</td><td> 69</td><td>L1</td><td>7月3日</td></tr>\n",
       "</tbody>\n",
       "</table>\n"
      ],
      "text/latex": [
       "A data.frame: 6 × 12\n",
       "\\begin{tabular}{r|llllllllllll}\n",
       " Name & W & L & PCT & GB & HOME & AWAY & RS & RA & DIFF & STRK & L10\\\\\n",
       " <fct> & <int> & <int> & <dbl> & <fct> & <fct> & <fct> & <int> & <int> & <int> & <fct> & <fct>\\\\\n",
       "\\hline\n",
       "\t Philadelphia Phillies & 102 & 60 & 0.630 & - & 52-29 & 50-31 & 713 & 529 & 184 & W4 & 4月6日\\\\\n",
       "\t New York Yankees      &  97 & 65 & 0.599 & 5 & 52-29 & 45-36 & 867 & 657 & 210 & L4 & 5月5日\\\\\n",
       "\t Milwaukee Brewers     &  96 & 66 & 0.593 & 6 & 57-24 & 39-42 & 721 & 638 &  83 & W2 & 7月3日\\\\\n",
       "\t Texas Rangers         &  96 & 66 & 0.593 & 6 & 52-29 & 44-37 & 855 & 677 & 178 & W6 & 9月1日\\\\\n",
       "\t Detroit Tigers        &  95 & 67 & 0.586 & 7 & 50-31 & 45-36 & 787 & 711 &  76 & W4 & 7月3日\\\\\n",
       "\t Arizona Diamondbacks  &  94 & 68 & 0.580 & 8 & 51-30 & 43-38 & 731 & 662 &  69 & L1 & 7月3日\\\\\n",
       "\\end{tabular}\n"
      ],
      "text/markdown": [
       "\n",
       "A data.frame: 6 × 12\n",
       "\n",
       "| Name &lt;fct&gt; | W &lt;int&gt; | L &lt;int&gt; | PCT &lt;dbl&gt; | GB &lt;fct&gt; | HOME &lt;fct&gt; | AWAY &lt;fct&gt; | RS &lt;int&gt; | RA &lt;int&gt; | DIFF &lt;int&gt; | STRK &lt;fct&gt; | L10 &lt;fct&gt; |\n",
       "|---|---|---|---|---|---|---|---|---|---|---|---|\n",
       "| Philadelphia Phillies | 102 | 60 | 0.630 | - | 52-29 | 50-31 | 713 | 529 | 184 | W4 | 4月6日 |\n",
       "| New York Yankees      |  97 | 65 | 0.599 | 5 | 52-29 | 45-36 | 867 | 657 | 210 | L4 | 5月5日 |\n",
       "| Milwaukee Brewers     |  96 | 66 | 0.593 | 6 | 57-24 | 39-42 | 721 | 638 |  83 | W2 | 7月3日 |\n",
       "| Texas Rangers         |  96 | 66 | 0.593 | 6 | 52-29 | 44-37 | 855 | 677 | 178 | W6 | 9月1日 |\n",
       "| Detroit Tigers        |  95 | 67 | 0.586 | 7 | 50-31 | 45-36 | 787 | 711 |  76 | W4 | 7月3日 |\n",
       "| Arizona Diamondbacks  |  94 | 68 | 0.580 | 8 | 51-30 | 43-38 | 731 | 662 |  69 | L1 | 7月3日 |\n",
       "\n"
      ],
      "text/plain": [
       "  Name                  W   L  PCT   GB HOME  AWAY  RS  RA  DIFF STRK L10   \n",
       "1 Philadelphia Phillies 102 60 0.630 -  52-29 50-31 713 529 184  W4   4月6日\n",
       "2 New York Yankees       97 65 0.599 5  52-29 45-36 867 657 210  L4   5月5日\n",
       "3 Milwaukee Brewers      96 66 0.593 6  57-24 39-42 721 638  83  W2   7月3日\n",
       "4 Texas Rangers          96 66 0.593 6  52-29 44-37 855 677 178  W6   9月1日\n",
       "5 Detroit Tigers         95 67 0.586 7  50-31 45-36 787 711  76  W4   7月3日\n",
       "6 Arizona Diamondbacks   94 68 0.580 8  51-30 43-38 731 662  69  L1   7月3日"
      ]
     },
     "metadata": {},
     "output_type": "display_data"
    }
   ],
   "source": [
    "salList <- list()\n",
    "for (i in c(2011:2018))\n",
    "{\n",
    "    salList[[i - 2010]] <- read.csv(paste(\"各年度各隊薪資\\\\\", toString(i), \".csv\", sep=\"\"))\n",
    "}\n",
    "\n",
    "standingList <- list()\n",
    "for (i in c(2011:2018))\n",
    "{\n",
    "    standingList[[i - 2010]] <- read.csv(paste(\"各年度戰績\\\\\", toString(i), \".csv\", sep=\"\"))\n",
    "}\n",
    "head(standingList[[1]])"
   ]
  },
  {
   "cell_type": "code",
   "execution_count": 5,
   "metadata": {},
   "outputs": [],
   "source": [
    "inflation <- c(1, 1.017, 1.032255, 1.04051304, 1.047796631, 1.069800361, 1.092266168, 1.113019225)\n",
    "meanSal <- c()\n",
    "\n",
    "for (i in c(1:8))\n",
    "{\n",
    "    meanSal[i] <- mean(salList[[i]][, \"X25.Man.Payroll\"]) * inflation[i] / 10000000\n",
    "}\n",
    "\n",
    "salary <- data.frame(meanSalary=meanSal, year=c(2011:2018))"
   ]
  },
  {
   "cell_type": "code",
   "execution_count": 22,
   "metadata": {},
   "outputs": [
    {
     "data": {},
     "metadata": {},
     "output_type": "display_data"
    },
    {
     "data": {
      "image/png": "[encoded data removed]",
      "text/plain": [
       "plot without title"
      ]
     },
     "metadata": {},
     "output_type": "display_data"
    }
   ],
   "source": [
    "# Create a line plot showing the change in meanSalary over time\n",
    "# 少了單位\"千萬\"和美化它\n",
    "options(repr.plot.width = 6, repr.plot.height = 2)\n",
    "ggplot(salary, aes(year, meanSalary)) + geom_line(color=\"red\") + geom_point()"
   ]
  },
  {
   "cell_type": "code",
   "execution_count": 23,
   "metadata": {},
   "outputs": [],
   "source": [
    "# pie chart"
   ]
  },
  {
   "cell_type": "code",
   "execution_count": null,
   "metadata": {},
   "outputs": [],
   "source": []
  }
 ],
 "metadata": {
  "kernelspec": {
   "display_name": "R",
   "language": "R",
   "name": "ir"
  },
  "language_info": {
   "codemirror_mode": "r",
   "file_extension": ".r",
   "mimetype": "text/x-r-source",
   "name": "R",
   "pygments_lexer": "r",
   "version": "3.3.3"
  }
 },
 "nbformat": 4,
 "nbformat_minor": 2
}
