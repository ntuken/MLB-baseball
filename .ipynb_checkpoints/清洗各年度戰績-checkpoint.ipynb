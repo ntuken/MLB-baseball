{
 "cells": [
  {
   "cell_type": "markdown",
   "metadata": {},
   "source": [
    "# 清洗個年度戰績excel , 並匯出"
   ]
  },
  {
   "cell_type": "markdown",
   "metadata": {},
   "source": [
    "## 匯入套件\n"
   ]
  },
  {
   "cell_type": "code",
   "execution_count": 18,
   "metadata": {},
   "outputs": [],
   "source": [
    "library(readr)\n",
    "library(dplyr)\n"
   ]
  },
  {
   "cell_type": "markdown",
   "metadata": {},
   "source": [
    "## 更改工作路徑"
   ]
  },
  {
   "cell_type": "code",
   "execution_count": 19,
   "metadata": {},
   "outputs": [
    {
     "data": {
      "text/html": [
       "<ol class=list-inline>\n",
       "\t<li>'2011.csv'</li>\n",
       "\t<li>'2012.csv'</li>\n",
       "\t<li>'2013.csv'</li>\n",
       "\t<li>'2014.csv'</li>\n",
       "\t<li>'2015.csv'</li>\n",
       "\t<li>'2016.csv'</li>\n",
       "\t<li>'2017.csv'</li>\n",
       "\t<li>'2018.csv'</li>\n",
       "</ol>\n"
      ],
      "text/latex": [
       "\\begin{enumerate*}\n",
       "\\item '2011.csv'\n",
       "\\item '2012.csv'\n",
       "\\item '2013.csv'\n",
       "\\item '2014.csv'\n",
       "\\item '2015.csv'\n",
       "\\item '2016.csv'\n",
       "\\item '2017.csv'\n",
       "\\item '2018.csv'\n",
       "\\end{enumerate*}\n"
      ],
      "text/markdown": [
       "1. '2011.csv'\n",
       "2. '2012.csv'\n",
       "3. '2013.csv'\n",
       "4. '2014.csv'\n",
       "5. '2015.csv'\n",
       "6. '2016.csv'\n",
       "7. '2017.csv'\n",
       "8. '2018.csv'\n",
       "\n",
       "\n"
      ],
      "text/plain": [
       "[1] \"2011.csv\" \"2012.csv\" \"2013.csv\" \"2014.csv\" \"2015.csv\" \"2016.csv\" \"2017.csv\"\n",
       "[8] \"2018.csv\""
      ]
     },
     "metadata": {},
     "output_type": "display_data"
    }
   ],
   "source": [
    "setwd(\"D://github 工作區//MLB-baseball//各年度戰績\")\n",
    "dir()"
   ]
  },
  {
   "cell_type": "markdown",
   "metadata": {},
   "source": [
    "## 讀取excel並清洗"
   ]
  },
  {
   "cell_type": "code",
   "execution_count": 47,
   "metadata": {},
   "outputs": [
    {
     "data": {
      "text/html": [
       "<table>\n",
       "<caption>A data.frame: 6 × 12</caption>\n",
       "<thead>\n",
       "\t<tr><th scope=col>Name</th><th scope=col>W</th><th scope=col>L</th><th scope=col>PCT</th><th scope=col>GB</th><th scope=col>HOME</th><th scope=col>AWAY</th><th scope=col>RS</th><th scope=col>RA</th><th scope=col>DIFF</th><th scope=col>STRK</th><th scope=col>L10</th></tr>\n",
       "\t<tr><th scope=col>&lt;chr&gt;</th><th scope=col>&lt;int&gt;</th><th scope=col>&lt;int&gt;</th><th scope=col>&lt;dbl&gt;</th><th scope=col>&lt;fct&gt;</th><th scope=col>&lt;fct&gt;</th><th scope=col>&lt;fct&gt;</th><th scope=col>&lt;int&gt;</th><th scope=col>&lt;int&gt;</th><th scope=col>&lt;int&gt;</th><th scope=col>&lt;fct&gt;</th><th scope=col>&lt;chr&gt;</th></tr>\n",
       "</thead>\n",
       "<tbody>\n",
       "\t<tr><td>Washington Nationals</td><td>98</td><td>64</td><td>0.605</td><td>-</td><td>50-31</td><td>48-33</td><td>731</td><td>594</td><td>137</td><td>W2</td><td>6_4</td></tr>\n",
       "\t<tr><td>Cincinnati Reds     </td><td>97</td><td>65</td><td>0.599</td><td>1</td><td>50-31</td><td>47-34</td><td>669</td><td>588</td><td> 81</td><td>L1</td><td>5_5</td></tr>\n",
       "\t<tr><td>New York Yankees    </td><td>95</td><td>67</td><td>0.586</td><td>3</td><td>51-30</td><td>44-37</td><td>804</td><td>668</td><td>136</td><td>W4</td><td>7_3</td></tr>\n",
       "\t<tr><td>Oakland Athletics   </td><td>94</td><td>68</td><td>0.580</td><td>4</td><td>50-31</td><td>44-37</td><td>713</td><td>614</td><td> 99</td><td>W6</td><td>8_2</td></tr>\n",
       "\t<tr><td>San Francisco Giants</td><td>94</td><td>68</td><td>0.580</td><td>4</td><td>48-33</td><td>46-35</td><td>718</td><td>649</td><td> 69</td><td>L1</td><td>5_5</td></tr>\n",
       "\t<tr><td>Atlanta Braves      </td><td>94</td><td>68</td><td>0.580</td><td>4</td><td>48-33</td><td>46-35</td><td>700</td><td>600</td><td>100</td><td>W1</td><td>7_3</td></tr>\n",
       "</tbody>\n",
       "</table>\n"
      ],
      "text/latex": [
       "A data.frame: 6 × 12\n",
       "\\begin{tabular}{r|llllllllllll}\n",
       " Name & W & L & PCT & GB & HOME & AWAY & RS & RA & DIFF & STRK & L10\\\\\n",
       " <chr> & <int> & <int> & <dbl> & <fct> & <fct> & <fct> & <int> & <int> & <int> & <fct> & <chr>\\\\\n",
       "\\hline\n",
       "\t Washington Nationals & 98 & 64 & 0.605 & - & 50-31 & 48-33 & 731 & 594 & 137 & W2 & 6\\_4\\\\\n",
       "\t Cincinnati Reds      & 97 & 65 & 0.599 & 1 & 50-31 & 47-34 & 669 & 588 &  81 & L1 & 5\\_5\\\\\n",
       "\t New York Yankees     & 95 & 67 & 0.586 & 3 & 51-30 & 44-37 & 804 & 668 & 136 & W4 & 7\\_3\\\\\n",
       "\t Oakland Athletics    & 94 & 68 & 0.580 & 4 & 50-31 & 44-37 & 713 & 614 &  99 & W6 & 8\\_2\\\\\n",
       "\t San Francisco Giants & 94 & 68 & 0.580 & 4 & 48-33 & 46-35 & 718 & 649 &  69 & L1 & 5\\_5\\\\\n",
       "\t Atlanta Braves       & 94 & 68 & 0.580 & 4 & 48-33 & 46-35 & 700 & 600 & 100 & W1 & 7\\_3\\\\\n",
       "\\end{tabular}\n"
      ],
      "text/markdown": [
       "\n",
       "A data.frame: 6 × 12\n",
       "\n",
       "| Name &lt;chr&gt; | W &lt;int&gt; | L &lt;int&gt; | PCT &lt;dbl&gt; | GB &lt;fct&gt; | HOME &lt;fct&gt; | AWAY &lt;fct&gt; | RS &lt;int&gt; | RA &lt;int&gt; | DIFF &lt;int&gt; | STRK &lt;fct&gt; | L10 &lt;chr&gt; |\n",
       "|---|---|---|---|---|---|---|---|---|---|---|---|\n",
       "| Washington Nationals | 98 | 64 | 0.605 | - | 50-31 | 48-33 | 731 | 594 | 137 | W2 | 6_4 |\n",
       "| Cincinnati Reds      | 97 | 65 | 0.599 | 1 | 50-31 | 47-34 | 669 | 588 |  81 | L1 | 5_5 |\n",
       "| New York Yankees     | 95 | 67 | 0.586 | 3 | 51-30 | 44-37 | 804 | 668 | 136 | W4 | 7_3 |\n",
       "| Oakland Athletics    | 94 | 68 | 0.580 | 4 | 50-31 | 44-37 | 713 | 614 |  99 | W6 | 8_2 |\n",
       "| San Francisco Giants | 94 | 68 | 0.580 | 4 | 48-33 | 46-35 | 718 | 649 |  69 | L1 | 5_5 |\n",
       "| Atlanta Braves       | 94 | 68 | 0.580 | 4 | 48-33 | 46-35 | 700 | 600 | 100 | W1 | 7_3 |\n",
       "\n"
      ],
      "text/plain": [
       "  Name                 W  L  PCT   GB HOME  AWAY  RS  RA  DIFF STRK L10\n",
       "1 Washington Nationals 98 64 0.605 -  50-31 48-33 731 594 137  W2   6_4\n",
       "2 Cincinnati Reds      97 65 0.599 1  50-31 47-34 669 588  81  L1   5_5\n",
       "3 New York Yankees     95 67 0.586 3  51-30 44-37 804 668 136  W4   7_3\n",
       "4 Oakland Athletics    94 68 0.580 4  50-31 44-37 713 614  99  W6   8_2\n",
       "5 San Francisco Giants 94 68 0.580 4  48-33 46-35 718 649  69  L1   5_5\n",
       "6 Atlanta Braves       94 68 0.580 4  48-33 46-35 700 600 100  W1   7_3"
      ]
     },
     "metadata": {},
     "output_type": "display_data"
    }
   ],
   "source": [
    "dirty_excel <- dir()\n",
    "# define a function to clean csv file,and output the tidy one\n",
    "\n",
    "clean <- function(file){\n",
    "    rd <- read.csv(file,encoding = \"ASCII\")\n",
    "    # clean the colnames\n",
    "    if(file != '2011.csv'){\n",
    "        colnames(rd)[1] <- \"Name\"\n",
    "    }\n",
    "    # clean the Name column\n",
    "    # wainting to get the string in half\n",
    "    # how to deal with the UTF-8\n",
    "    rd <- rd %>% mutate(Name = mapply(sub,pattern = \".*?([A-Z])\",replacement = \"\\\\1\",rd[,\"Name\"])) \n",
    "    rd <- rd %>% mutate(Name = sapply(rd[,\"Name\"],function(x){strtrim(x,width = (nchar(x) / 2))})) \n",
    "    rd <- rd %>% mutate(L10 = sapply(rd[,\"L10\"],gsub,pattern = \"月\",replacement = \"_\"))\n",
    "    rd <- rd %>% mutate(L10 = sapply(rd[,\"L10\"],gsub,pattern = \"日\",replacement = \"\"))\n",
    "    rd <- rd %>% mutate(L10 = unname(rd[,\"L10\"]))\n",
    "    return(rd)\n",
    "    \n",
    "}\n",
    "x <- suppressWarnings(clean('2012.csv'))\n",
    "head(x)\n",
    "# L10 column need to be fixed\n"
   ]
  },
  {
   "cell_type": "code",
   "execution_count": 43,
   "metadata": {},
   "outputs": [
    {
     "name": "stdout",
     "output_type": "stream",
     "text": [
      "[1] \"2012.csv\" \"2013.csv\" \"2014.csv\" \"2015.csv\" \"2016.csv\" \"2017.csv\" \"2018.csv\"\n"
     ]
    }
   ],
   "source": [
    "# 2011.csv has been tailored manually\n",
    "csv <- dir()[-1]\n",
    "print(csv)"
   ]
  },
  {
   "cell_type": "markdown",
   "metadata": {},
   "source": [
    "# output the clean csv"
   ]
  },
  {
   "cell_type": "code",
   "execution_count": 44,
   "metadata": {},
   "outputs": [],
   "source": [
    "for (i in csv){\n",
    "    file_name <- paste(\"D:\\\\github 工作區\\\\MLB-baseball\\\\新各年各隊戰績\",\"\\\\\",i,sep=\"\")\n",
    "    write.table(clean(i),file_name,sep = \",\",row.names = FALSE)\n",
    "}"
   ]
  },
  {
   "cell_type": "code",
   "execution_count": null,
   "metadata": {},
   "outputs": [],
   "source": []
  }
 ],
 "metadata": {
  "kernelspec": {
   "display_name": "R",
   "language": "R",
   "name": "ir"
  },
  "language_info": {
   "codemirror_mode": "r",
   "file_extension": ".r",
   "mimetype": "text/x-r-source",
   "name": "R",
   "pygments_lexer": "r",
   "version": "3.3.3"
  }
 },
 "nbformat": 4,
 "nbformat_minor": 2
}
