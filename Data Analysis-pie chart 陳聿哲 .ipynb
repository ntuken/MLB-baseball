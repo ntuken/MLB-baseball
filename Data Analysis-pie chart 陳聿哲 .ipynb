{
 "cells": [
  {
   "cell_type": "markdown",
   "metadata": {},
   "source": [
    "## MLB Analysis\n",
    "\n",
    "這次我們會簡單的幾句話跟大家說明資料科學在美國職棒的運用及影響，以下我們會分析下列幾項：\n",
    "\n",
    "* 調整物價波動後，大聯盟平均薪資的變化\n",
    "* 各隊薪資佔聯盟總薪資的佔比\n",
    "* 飛球革命對於大聯盟的影響\n",
    "* 整體薪資和戰績的關係\n",
    "* 薪資組合和戰績的關係\n",
    "\n",
    "\n",
    "### 首先先匯入會用到的函式庫"
   ]
  },
  {
   "cell_type": "code",
   "execution_count": 1,
   "metadata": {},
   "outputs": [
    {
     "name": "stderr",
     "output_type": "stream",
     "text": [
      "\n",
      "Attaching package: 'dplyr'\n",
      "\n",
      "The following objects are masked from 'package:stats':\n",
      "\n",
      "    filter, lag\n",
      "\n",
      "The following objects are masked from 'package:base':\n",
      "\n",
      "    intersect, setdiff, setequal, union\n",
      "\n"
     ]
    },
    {
     "data": {
      "text/html": [
       "'D:/github 工作區/MLB-baseball'"
      ],
      "text/latex": [
       "'D:/github 工作區/MLB-baseball'"
      ],
      "text/markdown": [
       "'D:/github 工作區/MLB-baseball'"
      ],
      "text/plain": [
       "[1] \"D:/github 工作區/MLB-baseball\""
      ]
     },
     "metadata": {},
     "output_type": "display_data"
    },
    {
     "data": {
      "text/html": [
       "<ol class=list-inline>\n",
       "\t<li>'25人名單薪資'</li>\n",
       "\t<li>'Data Analysis-pie chart 陳聿哲 .ipynb'</li>\n",
       "\t<li>'Data Analysis - 豐瑾.ipynb'</li>\n",
       "\t<li>'Data Analysis.ipynb'</li>\n",
       "\t<li>'strange html_table result in Rstudio.Rmd'</li>\n",
       "\t<li>'爬取各年球隊薪資.ipynb'</li>\n",
       "\t<li>'爬取各隊25人名單薪資.ipynb'</li>\n",
       "\t<li>'清洗各年度戰績.ipynb'</li>\n",
       "\t<li>'球隊薪資'</li>\n",
       "\t<li>'新各年各隊戰績'</li>\n",
       "\t<li>'戰績'</li>\n",
       "\t<li>'戰績與薪資組合的資料清洗.ipynb'</li>\n",
       "</ol>\n"
      ],
      "text/latex": [
       "\\begin{enumerate*}\n",
       "\\item '25人名單薪資'\n",
       "\\item 'Data Analysis-pie chart 陳聿哲 .ipynb'\n",
       "\\item 'Data Analysis - 豐瑾.ipynb'\n",
       "\\item 'Data Analysis.ipynb'\n",
       "\\item 'strange html\\_table result in Rstudio.Rmd'\n",
       "\\item '爬取各年球隊薪資.ipynb'\n",
       "\\item '爬取各隊25人名單薪資.ipynb'\n",
       "\\item '清洗各年度戰績.ipynb'\n",
       "\\item '球隊薪資'\n",
       "\\item '新各年各隊戰績'\n",
       "\\item '戰績'\n",
       "\\item '戰績與薪資組合的資料清洗.ipynb'\n",
       "\\end{enumerate*}\n"
      ],
      "text/markdown": [
       "1. '25人名單薪資'\n",
       "2. 'Data Analysis-pie chart 陳聿哲 .ipynb'\n",
       "3. 'Data Analysis - 豐瑾.ipynb'\n",
       "4. 'Data Analysis.ipynb'\n",
       "5. 'strange html_table result in Rstudio.Rmd'\n",
       "6. '爬取各年球隊薪資.ipynb'\n",
       "7. '爬取各隊25人名單薪資.ipynb'\n",
       "8. '清洗各年度戰績.ipynb'\n",
       "9. '球隊薪資'\n",
       "10. '新各年各隊戰績'\n",
       "11. '戰績'\n",
       "12. '戰績與薪資組合的資料清洗.ipynb'\n",
       "\n",
       "\n"
      ],
      "text/plain": [
       " [1] \"25人名單薪資\"                            \n",
       " [2] \"Data Analysis-pie chart 陳聿哲 .ipynb\"   \n",
       " [3] \"Data Analysis - 豐瑾.ipynb\"              \n",
       " [4] \"Data Analysis.ipynb\"                     \n",
       " [5] \"strange html_table result in Rstudio.Rmd\"\n",
       " [6] \"爬取各年球隊薪資.ipynb\"                  \n",
       " [7] \"爬取各隊25人名單薪資.ipynb\"              \n",
       " [8] \"清洗各年度戰績.ipynb\"                    \n",
       " [9] \"球隊薪資\"                                \n",
       "[10] \"新各年各隊戰績\"                          \n",
       "[11] \"戰績\"                                    \n",
       "[12] \"戰績與薪資組合的資料清洗.ipynb\"          "
      ]
     },
     "metadata": {},
     "output_type": "display_data"
    }
   ],
   "source": [
    "library(ggplot2)\n",
    "library(dplyr)\n",
    "getwd()\n",
    "dir()"
   ]
  },
  {
   "cell_type": "code",
   "execution_count": 2,
   "metadata": {},
   "outputs": [
    {
     "data": {
      "text/html": [
       "<table>\n",
       "<caption>A data.frame: 6 × 9</caption>\n",
       "<thead>\n",
       "\t<tr><th scope=col>Team</th><th scope=col>Roster</th><th scope=col>X25.Man.Payroll</th><th scope=col>Injured.Reserve</th><th scope=col>Retained</th><th scope=col>Buried</th><th scope=col>Suspended</th><th scope=col>X2018.Total.Payroll</th><th scope=col>Rank</th></tr>\n",
       "\t<tr><th scope=col>&lt;fct&gt;</th><th scope=col>&lt;int&gt;</th><th scope=col>&lt;int&gt;</th><th scope=col>&lt;int&gt;</th><th scope=col>&lt;int&gt;</th><th scope=col>&lt;int&gt;</th><th scope=col>&lt;dbl&gt;</th><th scope=col>&lt;int&gt;</th><th scope=col>&lt;int&gt;</th></tr>\n",
       "</thead>\n",
       "<tbody>\n",
       "\t<tr><td>Boston Red Sox      </td><td>36</td><td>167955780</td><td>18074000</td><td>41755860</td><td>2180000</td><td>      0</td><td>227398860</td><td>1</td></tr>\n",
       "\t<tr><td>San Francisco Giants</td><td>32</td><td>119689218</td><td>64341827</td><td>21136053</td><td>3283000</td><td>      0</td><td>205665348</td><td>2</td></tr>\n",
       "\t<tr><td>Los Angeles Dodgers </td><td>40</td><td>160502596</td><td> 3908850</td><td>30541679</td><td>5590000</td><td>      0</td><td>199582045</td><td>3</td></tr>\n",
       "\t<tr><td>Chicago Cubs        </td><td>37</td><td>152092957</td><td>37451220</td><td> 1216894</td><td>2725000</td><td>3200000</td><td>194259933</td><td>4</td></tr>\n",
       "\t<tr><td>Washington Nationals</td><td>35</td><td>130197979</td><td> 8999485</td><td>41161720</td><td>4481000</td><td>      0</td><td>181382609</td><td>5</td></tr>\n",
       "\t<tr><td>New York Yankees    </td><td>38</td><td>148010829</td><td>22568376</td><td> 9249414</td><td>3130000</td><td>      0</td><td>180098151</td><td>6</td></tr>\n",
       "</tbody>\n",
       "</table>\n"
      ],
      "text/latex": [
       "A data.frame: 6 × 9\n",
       "\\begin{tabular}{r|lllllllll}\n",
       " Team & Roster & X25.Man.Payroll & Injured.Reserve & Retained & Buried & Suspended & X2018.Total.Payroll & Rank\\\\\n",
       " <fct> & <int> & <int> & <int> & <int> & <int> & <dbl> & <int> & <int>\\\\\n",
       "\\hline\n",
       "\t Boston Red Sox       & 36 & 167955780 & 18074000 & 41755860 & 2180000 &       0 & 227398860 & 1\\\\\n",
       "\t San Francisco Giants & 32 & 119689218 & 64341827 & 21136053 & 3283000 &       0 & 205665348 & 2\\\\\n",
       "\t Los Angeles Dodgers  & 40 & 160502596 &  3908850 & 30541679 & 5590000 &       0 & 199582045 & 3\\\\\n",
       "\t Chicago Cubs         & 37 & 152092957 & 37451220 &  1216894 & 2725000 & 3200000 & 194259933 & 4\\\\\n",
       "\t Washington Nationals & 35 & 130197979 &  8999485 & 41161720 & 4481000 &       0 & 181382609 & 5\\\\\n",
       "\t New York Yankees     & 38 & 148010829 & 22568376 &  9249414 & 3130000 &       0 & 180098151 & 6\\\\\n",
       "\\end{tabular}\n"
      ],
      "text/markdown": [
       "\n",
       "A data.frame: 6 × 9\n",
       "\n",
       "| Team &lt;fct&gt; | Roster &lt;int&gt; | X25.Man.Payroll &lt;int&gt; | Injured.Reserve &lt;int&gt; | Retained &lt;int&gt; | Buried &lt;int&gt; | Suspended &lt;dbl&gt; | X2018.Total.Payroll &lt;int&gt; | Rank &lt;int&gt; |\n",
       "|---|---|---|---|---|---|---|---|---|\n",
       "| Boston Red Sox       | 36 | 167955780 | 18074000 | 41755860 | 2180000 |       0 | 227398860 | 1 |\n",
       "| San Francisco Giants | 32 | 119689218 | 64341827 | 21136053 | 3283000 |       0 | 205665348 | 2 |\n",
       "| Los Angeles Dodgers  | 40 | 160502596 |  3908850 | 30541679 | 5590000 |       0 | 199582045 | 3 |\n",
       "| Chicago Cubs         | 37 | 152092957 | 37451220 |  1216894 | 2725000 | 3200000 | 194259933 | 4 |\n",
       "| Washington Nationals | 35 | 130197979 |  8999485 | 41161720 | 4481000 |       0 | 181382609 | 5 |\n",
       "| New York Yankees     | 38 | 148010829 | 22568376 |  9249414 | 3130000 |       0 | 180098151 | 6 |\n",
       "\n"
      ],
      "text/plain": [
       "  Team                 Roster X25.Man.Payroll Injured.Reserve Retained Buried \n",
       "1 Boston Red Sox       36     167955780       18074000        41755860 2180000\n",
       "2 San Francisco Giants 32     119689218       64341827        21136053 3283000\n",
       "3 Los Angeles Dodgers  40     160502596        3908850        30541679 5590000\n",
       "4 Chicago Cubs         37     152092957       37451220         1216894 2725000\n",
       "5 Washington Nationals 35     130197979        8999485        41161720 4481000\n",
       "6 New York Yankees     38     148010829       22568376         9249414 3130000\n",
       "  Suspended X2018.Total.Payroll Rank\n",
       "1       0   227398860           1   \n",
       "2       0   205665348           2   \n",
       "3       0   199582045           3   \n",
       "4 3200000   194259933           4   \n",
       "5       0   181382609           5   \n",
       "6       0   180098151           6   "
      ]
     },
     "metadata": {},
     "output_type": "display_data"
    }
   ],
   "source": [
    "data <- read.csv(\"球隊薪資\\\\2018.csv\")\n",
    "head(data)\n"
   ]
  },
  {
   "cell_type": "code",
   "execution_count": 3,
   "metadata": {},
   "outputs": [
    {
     "data": {
      "text/html": [
       "<table>\n",
       "<caption>A data.frame: 6 × 12</caption>\n",
       "<thead>\n",
       "\t<tr><th scope=col>Name</th><th scope=col>W</th><th scope=col>L</th><th scope=col>PCT</th><th scope=col>GB</th><th scope=col>HOME</th><th scope=col>AWAY</th><th scope=col>RS</th><th scope=col>RA</th><th scope=col>DIFF</th><th scope=col>STRK</th><th scope=col>L10</th></tr>\n",
       "\t<tr><th scope=col>&lt;fct&gt;</th><th scope=col>&lt;int&gt;</th><th scope=col>&lt;int&gt;</th><th scope=col>&lt;dbl&gt;</th><th scope=col>&lt;fct&gt;</th><th scope=col>&lt;fct&gt;</th><th scope=col>&lt;fct&gt;</th><th scope=col>&lt;int&gt;</th><th scope=col>&lt;int&gt;</th><th scope=col>&lt;int&gt;</th><th scope=col>&lt;fct&gt;</th><th scope=col>&lt;fct&gt;</th></tr>\n",
       "</thead>\n",
       "<tbody>\n",
       "\t<tr><td>Philadelphia Phillies</td><td>102</td><td>60</td><td>0.630</td><td>-</td><td>52-29</td><td>50-31</td><td>713</td><td>529</td><td>184</td><td>W4</td><td>4月6日</td></tr>\n",
       "\t<tr><td>New York Yankees     </td><td> 97</td><td>65</td><td>0.599</td><td>5</td><td>52-29</td><td>45-36</td><td>867</td><td>657</td><td>210</td><td>L4</td><td>5月5日</td></tr>\n",
       "\t<tr><td>Milwaukee Brewers    </td><td> 96</td><td>66</td><td>0.593</td><td>6</td><td>57-24</td><td>39-42</td><td>721</td><td>638</td><td> 83</td><td>W2</td><td>7月3日</td></tr>\n",
       "\t<tr><td>Texas Rangers        </td><td> 96</td><td>66</td><td>0.593</td><td>6</td><td>52-29</td><td>44-37</td><td>855</td><td>677</td><td>178</td><td>W6</td><td>9月1日</td></tr>\n",
       "\t<tr><td>Detroit Tigers       </td><td> 95</td><td>67</td><td>0.586</td><td>7</td><td>50-31</td><td>45-36</td><td>787</td><td>711</td><td> 76</td><td>W4</td><td>7月3日</td></tr>\n",
       "\t<tr><td>Arizona Diamondbacks </td><td> 94</td><td>68</td><td>0.580</td><td>8</td><td>51-30</td><td>43-38</td><td>731</td><td>662</td><td> 69</td><td>L1</td><td>7月3日</td></tr>\n",
       "</tbody>\n",
       "</table>\n"
      ],
      "text/latex": [
       "A data.frame: 6 × 12\n",
       "\\begin{tabular}{r|llllllllllll}\n",
       " Name & W & L & PCT & GB & HOME & AWAY & RS & RA & DIFF & STRK & L10\\\\\n",
       " <fct> & <int> & <int> & <dbl> & <fct> & <fct> & <fct> & <int> & <int> & <int> & <fct> & <fct>\\\\\n",
       "\\hline\n",
       "\t Philadelphia Phillies & 102 & 60 & 0.630 & - & 52-29 & 50-31 & 713 & 529 & 184 & W4 & 4月6日\\\\\n",
       "\t New York Yankees      &  97 & 65 & 0.599 & 5 & 52-29 & 45-36 & 867 & 657 & 210 & L4 & 5月5日\\\\\n",
       "\t Milwaukee Brewers     &  96 & 66 & 0.593 & 6 & 57-24 & 39-42 & 721 & 638 &  83 & W2 & 7月3日\\\\\n",
       "\t Texas Rangers         &  96 & 66 & 0.593 & 6 & 52-29 & 44-37 & 855 & 677 & 178 & W6 & 9月1日\\\\\n",
       "\t Detroit Tigers        &  95 & 67 & 0.586 & 7 & 50-31 & 45-36 & 787 & 711 &  76 & W4 & 7月3日\\\\\n",
       "\t Arizona Diamondbacks  &  94 & 68 & 0.580 & 8 & 51-30 & 43-38 & 731 & 662 &  69 & L1 & 7月3日\\\\\n",
       "\\end{tabular}\n"
      ],
      "text/markdown": [
       "\n",
       "A data.frame: 6 × 12\n",
       "\n",
       "| Name &lt;fct&gt; | W &lt;int&gt; | L &lt;int&gt; | PCT &lt;dbl&gt; | GB &lt;fct&gt; | HOME &lt;fct&gt; | AWAY &lt;fct&gt; | RS &lt;int&gt; | RA &lt;int&gt; | DIFF &lt;int&gt; | STRK &lt;fct&gt; | L10 &lt;fct&gt; |\n",
       "|---|---|---|---|---|---|---|---|---|---|---|---|\n",
       "| Philadelphia Phillies | 102 | 60 | 0.630 | - | 52-29 | 50-31 | 713 | 529 | 184 | W4 | 4月6日 |\n",
       "| New York Yankees      |  97 | 65 | 0.599 | 5 | 52-29 | 45-36 | 867 | 657 | 210 | L4 | 5月5日 |\n",
       "| Milwaukee Brewers     |  96 | 66 | 0.593 | 6 | 57-24 | 39-42 | 721 | 638 |  83 | W2 | 7月3日 |\n",
       "| Texas Rangers         |  96 | 66 | 0.593 | 6 | 52-29 | 44-37 | 855 | 677 | 178 | W6 | 9月1日 |\n",
       "| Detroit Tigers        |  95 | 67 | 0.586 | 7 | 50-31 | 45-36 | 787 | 711 |  76 | W4 | 7月3日 |\n",
       "| Arizona Diamondbacks  |  94 | 68 | 0.580 | 8 | 51-30 | 43-38 | 731 | 662 |  69 | L1 | 7月3日 |\n",
       "\n"
      ],
      "text/plain": [
       "  Name                  W   L  PCT   GB HOME  AWAY  RS  RA  DIFF STRK L10   \n",
       "1 Philadelphia Phillies 102 60 0.630 -  52-29 50-31 713 529 184  W4   4月6日\n",
       "2 New York Yankees       97 65 0.599 5  52-29 45-36 867 657 210  L4   5月5日\n",
       "3 Milwaukee Brewers      96 66 0.593 6  57-24 39-42 721 638  83  W2   7月3日\n",
       "4 Texas Rangers          96 66 0.593 6  52-29 44-37 855 677 178  W6   9月1日\n",
       "5 Detroit Tigers         95 67 0.586 7  50-31 45-36 787 711  76  W4   7月3日\n",
       "6 Arizona Diamondbacks   94 68 0.580 8  51-30 43-38 731 662  69  L1   7月3日"
      ]
     },
     "metadata": {},
     "output_type": "display_data"
    }
   ],
   "source": [
    "salList <- list()\n",
    "for (i in c(2011:2018))\n",
    "{\n",
    "    salList[[i - 2010]] <- read.csv(paste(\"球隊薪資\\\\\", toString(i), \".csv\", sep=\"\"))\n",
    "}\n",
    "\n",
    "standingList <- list()\n",
    "for (i in c(2011:2018))\n",
    "{\n",
    "    standingList[[i - 2010]] <- read.csv(paste(\"戰績\\\\\", toString(i), \".csv\", sep=\"\"))\n",
    "}\n",
    "head(standingList[[1]])"
   ]
  },
  {
   "cell_type": "code",
   "execution_count": 4,
   "metadata": {},
   "outputs": [],
   "source": [
    "inflation <- c(1, 1.017, 1.032255, 1.04051304, 1.047796631, 1.069800361, 1.092266168, 1.113019225)\n",
    "meanSal <- c()\n",
    "\n",
    "for (i in c(1:8))\n",
    "{\n",
    "    meanSal[i] <- mean(salList[[i]][, \"X25.Man.Payroll\"]) * inflation[i] / 10000000\n",
    "}\n",
    "\n",
    "salary <- data.frame(meanSalary=meanSal, year=c(2011:2018))\n"
   ]
  },
  {
   "cell_type": "code",
   "execution_count": 5,
   "metadata": {},
   "outputs": [
    {
     "data": {
      "image/png": "[encoded data removed]",
      "text/plain": [
       "plot without title"
      ]
     },
     "metadata": {},
     "output_type": "display_data"
    }
   ],
   "source": [
    "# Create a line plot showing the change in meanSalary over time\n",
    "# 少了單位\"千萬\"和美化它\n",
    "options(repr.plot.width = 6, repr.plot.height = 2)\n",
    "ggplot(salary, aes(year, meanSalary)) + geom_line(color=\"red\") + geom_point()"
   ]
  },
  {
   "cell_type": "markdown",
   "metadata": {},
   "source": [
    "# 各隊薪資占比 (以年份作單位)\n",
    "* X25.Man.Payroll 圓餅圖\n",
    "* X2018.Total.Payroll 圓餅圖"
   ]
  },
  {
   "cell_type": "code",
   "execution_count": 6,
   "metadata": {},
   "outputs": [
    {
     "name": "stderr",
     "output_type": "stream",
     "text": [
      "Warning message:\n",
      "\"`as_dictionary()` is soft-deprecated as of rlang 0.3.0.\n",
      "Please use `as_data_pronoun()` instead\n",
      "\u001b[90mThis warning is displayed once per session.\u001b[39m\"Warning message:\n",
      "\"`new_overscope()` is soft-deprecated as of rlang 0.2.0.\n",
      "Please use `new_data_mask()` instead\n",
      "\u001b[90mThis warning is displayed once per session.\u001b[39m\"Warning message:\n",
      "\"The `parent` argument of `new_data_mask()` is deprecated.\n",
      "The parent of the data mask is determined from either:\n",
      "\n",
      "  * The `env` argument of `eval_tidy()`\n",
      "  * Quosure environments when applicable\n",
      "\u001b[90mThis warning is displayed once per session.\u001b[39m\"Warning message:\n",
      "\"`overscope_clean()` is soft-deprecated as of rlang 0.2.0.\n",
      "\u001b[90mThis warning is displayed once per session.\u001b[39m\""
     ]
    },
    {
     "data": {
      "text/html": [
       "<table>\n",
       "<caption>A data.frame: 6 × 4</caption>\n",
       "<thead>\n",
       "\t<tr><th scope=col>Team</th><th scope=col>X25.Man.Payroll</th><th scope=col>Total.Payroll</th><th scope=col>year</th></tr>\n",
       "\t<tr><th scope=col>&lt;fct&gt;</th><th scope=col>&lt;int&gt;</th><th scope=col>&lt;int&gt;</th><th scope=col>&lt;fct&gt;</th></tr>\n",
       "</thead>\n",
       "<tbody>\n",
       "\t<tr><td>New York Yankees     </td><td>212609678</td><td>213559678</td><td>2011</td></tr>\n",
       "\t<tr><td>Boston Red Sox       </td><td>164517590</td><td>172553261</td><td>2011</td></tr>\n",
       "\t<tr><td>Philadelphia Phillies</td><td>169799882</td><td>169968182</td><td>2011</td></tr>\n",
       "\t<tr><td>Los Angeles Angels   </td><td>133613959</td><td>146648559</td><td>2011</td></tr>\n",
       "\t<tr><td>New York Mets        </td><td> 96163418</td><td>141831841</td><td>2011</td></tr>\n",
       "\t<tr><td>Chicago Cubs         </td><td>124652698</td><td>139477698</td><td>2011</td></tr>\n",
       "</tbody>\n",
       "</table>\n"
      ],
      "text/latex": [
       "A data.frame: 6 × 4\n",
       "\\begin{tabular}{r|llll}\n",
       " Team & X25.Man.Payroll & Total.Payroll & year\\\\\n",
       " <fct> & <int> & <int> & <fct>\\\\\n",
       "\\hline\n",
       "\t New York Yankees      & 212609678 & 213559678 & 2011\\\\\n",
       "\t Boston Red Sox        & 164517590 & 172553261 & 2011\\\\\n",
       "\t Philadelphia Phillies & 169799882 & 169968182 & 2011\\\\\n",
       "\t Los Angeles Angels    & 133613959 & 146648559 & 2011\\\\\n",
       "\t New York Mets         &  96163418 & 141831841 & 2011\\\\\n",
       "\t Chicago Cubs          & 124652698 & 139477698 & 2011\\\\\n",
       "\\end{tabular}\n"
      ],
      "text/markdown": [
       "\n",
       "A data.frame: 6 × 4\n",
       "\n",
       "| Team &lt;fct&gt; | X25.Man.Payroll &lt;int&gt; | Total.Payroll &lt;int&gt; | year &lt;fct&gt; |\n",
       "|---|---|---|---|\n",
       "| New York Yankees      | 212609678 | 213559678 | 2011 |\n",
       "| Boston Red Sox        | 164517590 | 172553261 | 2011 |\n",
       "| Philadelphia Phillies | 169799882 | 169968182 | 2011 |\n",
       "| Los Angeles Angels    | 133613959 | 146648559 | 2011 |\n",
       "| New York Mets         |  96163418 | 141831841 | 2011 |\n",
       "| Chicago Cubs          | 124652698 | 139477698 | 2011 |\n",
       "\n"
      ],
      "text/plain": [
       "  Team                  X25.Man.Payroll Total.Payroll year\n",
       "1 New York Yankees      212609678       213559678     2011\n",
       "2 Boston Red Sox        164517590       172553261     2011\n",
       "3 Philadelphia Phillies 169799882       169968182     2011\n",
       "4 Los Angeles Angels    133613959       146648559     2011\n",
       "5 New York Mets          96163418       141831841     2011\n",
       "6 Chicago Cubs          124652698       139477698     2011"
      ]
     },
     "metadata": {},
     "output_type": "display_data"
    }
   ],
   "source": [
    "# 整理salList 成一個dataframe ,mutate new column---year ,column : X25.Man.Payroll\n",
    "tmp_data <- lapply(salList,function(x){colnames(x)[8] <- \"Total.Payroll\" ;return(x)})\n",
    "names(tmp_data) <- 2011 : 2018\n",
    "for (i in 1 : length(tmp_data)){\n",
    "    tmp <- tmp_data[[i]][,c(1,3,8)]\n",
    "    tmp <- tmp %>% mutate(year = names(tmp_data)[i])\n",
    "    if(i == 1){\n",
    "        data <- tmp\n",
    "    }\n",
    "    else {\n",
    "        data <- rbind(data,tmp)\n",
    "    }\n",
    "}\n",
    "# row 61 is useless  : Florida Marlins               0        918033   2012\n",
    "data <- data[-61,]\n",
    "\n",
    "data[,4] <- as.factor(data[,4])\n",
    "head(data)\n"
   ]
  },
  {
   "cell_type": "markdown",
   "metadata": {},
   "source": [
    "## data 新增欄位 W \n",
    "### 讀取戰績資料集\n",
    "### 合併新的欄位W"
   ]
  },
  {
   "cell_type": "code",
   "execution_count": 14,
   "metadata": {},
   "outputs": [
    {
     "data": {
      "text/html": [
       "<table>\n",
       "<caption>A data.frame: 6 × 4</caption>\n",
       "<thead>\n",
       "\t<tr><th scope=col>Team</th><th scope=col>X25.Man.Payroll</th><th scope=col>Total.Payroll</th><th scope=col>year</th></tr>\n",
       "\t<tr><th scope=col>&lt;fct&gt;</th><th scope=col>&lt;int&gt;</th><th scope=col>&lt;int&gt;</th><th scope=col>&lt;fct&gt;</th></tr>\n",
       "</thead>\n",
       "<tbody>\n",
       "\t<tr><td>Arizona Diamondbacks</td><td> 57930520</td><td> 65784971</td><td>2011</td></tr>\n",
       "\t<tr><td>Atlanta Braves      </td><td> 98521630</td><td> 99830230</td><td>2011</td></tr>\n",
       "\t<tr><td>Baltimore Orioles   </td><td> 94391741</td><td> 94391741</td><td>2011</td></tr>\n",
       "\t<tr><td>Boston Red Sox      </td><td>164517590</td><td>172553261</td><td>2011</td></tr>\n",
       "\t<tr><td>Chicago Cubs        </td><td>124652698</td><td>139477698</td><td>2011</td></tr>\n",
       "\t<tr><td>Chicago White Sox   </td><td>123584951</td><td>130623749</td><td>2011</td></tr>\n",
       "</tbody>\n",
       "</table>\n"
      ],
      "text/latex": [
       "A data.frame: 6 × 4\n",
       "\\begin{tabular}{r|llll}\n",
       " Team & X25.Man.Payroll & Total.Payroll & year\\\\\n",
       " <fct> & <int> & <int> & <fct>\\\\\n",
       "\\hline\n",
       "\t Arizona Diamondbacks &  57930520 &  65784971 & 2011\\\\\n",
       "\t Atlanta Braves       &  98521630 &  99830230 & 2011\\\\\n",
       "\t Baltimore Orioles    &  94391741 &  94391741 & 2011\\\\\n",
       "\t Boston Red Sox       & 164517590 & 172553261 & 2011\\\\\n",
       "\t Chicago Cubs         & 124652698 & 139477698 & 2011\\\\\n",
       "\t Chicago White Sox    & 123584951 & 130623749 & 2011\\\\\n",
       "\\end{tabular}\n"
      ],
      "text/markdown": [
       "\n",
       "A data.frame: 6 × 4\n",
       "\n",
       "| Team &lt;fct&gt; | X25.Man.Payroll &lt;int&gt; | Total.Payroll &lt;int&gt; | year &lt;fct&gt; |\n",
       "|---|---|---|---|\n",
       "| Arizona Diamondbacks |  57930520 |  65784971 | 2011 |\n",
       "| Atlanta Braves       |  98521630 |  99830230 | 2011 |\n",
       "| Baltimore Orioles    |  94391741 |  94391741 | 2011 |\n",
       "| Boston Red Sox       | 164517590 | 172553261 | 2011 |\n",
       "| Chicago Cubs         | 124652698 | 139477698 | 2011 |\n",
       "| Chicago White Sox    | 123584951 | 130623749 | 2011 |\n",
       "\n"
      ],
      "text/plain": [
       "  Team                 X25.Man.Payroll Total.Payroll year\n",
       "1 Arizona Diamondbacks  57930520        65784971     2011\n",
       "2 Atlanta Braves        98521630        99830230     2011\n",
       "3 Baltimore Orioles     94391741        94391741     2011\n",
       "4 Boston Red Sox       164517590       172553261     2011\n",
       "5 Chicago Cubs         124652698       139477698     2011\n",
       "6 Chicago White Sox    123584951       130623749     2011"
      ]
     },
     "metadata": {},
     "output_type": "display_data"
    },
    {
     "data": {
      "text/html": [
       "<table>\n",
       "<caption>A data.frame: 6 × 3</caption>\n",
       "<thead>\n",
       "\t<tr><th scope=col>Team</th><th scope=col>W</th><th scope=col>year</th></tr>\n",
       "\t<tr><th scope=col>&lt;fct&gt;</th><th scope=col>&lt;int&gt;</th><th scope=col>&lt;chr&gt;</th></tr>\n",
       "</thead>\n",
       "<tbody>\n",
       "\t<tr><td>Arizona Diamondbacks</td><td>94</td><td>2011</td></tr>\n",
       "\t<tr><td>Atlanta Braves      </td><td>89</td><td>2011</td></tr>\n",
       "\t<tr><td>Baltimore Orioles   </td><td>69</td><td>2011</td></tr>\n",
       "\t<tr><td>Boston Red Sox      </td><td>90</td><td>2011</td></tr>\n",
       "\t<tr><td>Chicago Cubs        </td><td>71</td><td>2011</td></tr>\n",
       "\t<tr><td>Chicago White Sox   </td><td>79</td><td>2011</td></tr>\n",
       "</tbody>\n",
       "</table>\n"
      ],
      "text/latex": [
       "A data.frame: 6 × 3\n",
       "\\begin{tabular}{r|lll}\n",
       " Team & W & year\\\\\n",
       " <fct> & <int> & <chr>\\\\\n",
       "\\hline\n",
       "\t Arizona Diamondbacks & 94 & 2011\\\\\n",
       "\t Atlanta Braves       & 89 & 2011\\\\\n",
       "\t Baltimore Orioles    & 69 & 2011\\\\\n",
       "\t Boston Red Sox       & 90 & 2011\\\\\n",
       "\t Chicago Cubs         & 71 & 2011\\\\\n",
       "\t Chicago White Sox    & 79 & 2011\\\\\n",
       "\\end{tabular}\n"
      ],
      "text/markdown": [
       "\n",
       "A data.frame: 6 × 3\n",
       "\n",
       "| Team &lt;fct&gt; | W &lt;int&gt; | year &lt;chr&gt; |\n",
       "|---|---|---|\n",
       "| Arizona Diamondbacks | 94 | 2011 |\n",
       "| Atlanta Braves       | 89 | 2011 |\n",
       "| Baltimore Orioles    | 69 | 2011 |\n",
       "| Boston Red Sox       | 90 | 2011 |\n",
       "| Chicago Cubs         | 71 | 2011 |\n",
       "| Chicago White Sox    | 79 | 2011 |\n",
       "\n"
      ],
      "text/plain": [
       "  Team                 W  year\n",
       "1 Arizona Diamondbacks 94 2011\n",
       "2 Atlanta Braves       89 2011\n",
       "3 Baltimore Orioles    69 2011\n",
       "4 Boston Red Sox       90 2011\n",
       "5 Chicago Cubs         71 2011\n",
       "6 Chicago White Sox    79 2011"
      ]
     },
     "metadata": {},
     "output_type": "display_data"
    },
    {
     "name": "stdout",
     "output_type": "stream",
     "text": [
      "                     Team year X25.Man.Payroll Total.Payroll   W\n",
      "1    Arizona Diamondbacks 2011        57930520      65784971  94\n",
      "2    Arizona Diamondbacks 2012        73439259      82959205  81\n",
      "3    Arizona Diamondbacks 2013        75126043      88316478  81\n",
      "4    Arizona Diamondbacks 2014        68514917     106482519  64\n",
      "5    Arizona Diamondbacks 2015        45142733      76781801  79\n",
      "6    Arizona Diamondbacks 2016        78823003      97874482  69\n",
      "7    Arizona Diamondbacks 2017        81644775     102619475  93\n",
      "8    Arizona Diamondbacks 2018       109501628     143324597  82\n",
      "9          Atlanta Braves 2011        98521630      99830230  89\n",
      "10         Atlanta Braves 2012        86492616      97928056  94\n",
      "11         Atlanta Braves 2013        86661842      94947950  96\n",
      "12         Atlanta Braves 2014       102713304     116865707  79\n",
      "13         Atlanta Braves 2015        55022799     110838389  67\n",
      "14         Atlanta Braves 2016        46917344      96080633  68\n",
      "15         Atlanta Braves 2017        80713434     105218575  72\n",
      "16         Atlanta Braves 2018        73567565     130649395  90\n",
      "17      Baltimore Orioles 2011        94391741      94391741  69\n",
      "18      Baltimore Orioles 2012        80099381      83725868  93\n",
      "19      Baltimore Orioles 2013        96366019     100415869  85\n",
      "20      Baltimore Orioles 2014       105470318     113562943  96\n",
      "21      Baltimore Orioles 2015        93958315     117784476  81\n",
      "22      Baltimore Orioles 2016       144461083     150302252  89\n",
      "23      Baltimore Orioles 2017       163655046     175349127  75\n",
      "24      Baltimore Orioles 2018        69691407     130467027  47\n",
      "25         Boston Red Sox 2011       164517590     172553261  90\n",
      "26         Boston Red Sox 2012       168455280     175279051  69\n",
      "27         Boston Red Sox 2013       155978895     170734264  97\n",
      "28         Boston Red Sox 2014        95417971     170095758  71\n",
      "29         Boston Red Sox 2015        95030446     183481478  78\n",
      "30         Boston Red Sox 2016       165121274     207758836  93\n",
      "31         Boston Red Sox 2017       172158546     209872508  93\n",
      "32         Boston Red Sox 2018       167955780     227398860 108\n",
      "33           Chicago Cubs 2011       124652698     139477698  71\n",
      "34           Chicago Cubs 2012        83799366     116341526  61\n",
      "35           Chicago Cubs 2013        48057243     100052899  66\n",
      "36           Chicago Cubs 2014        53604470      89539741  73\n",
      "37           Chicago Cubs 2015       106652384     132993810  97\n",
      "38           Chicago Cubs 2016       161378832     184352494 103\n",
      "39           Chicago Cubs 2017       161127834     172092536  92\n",
      "40           Chicago Cubs 2018       152092957     194259933  95\n",
      "41      Chicago White Sox 2011       123584951     130623749  79\n",
      "42      Chicago White Sox 2012       108250892     108972203  85\n",
      "43      Chicago White Sox 2013        82929539     111777595  63\n",
      "44      Chicago White Sox 2014        60305897      89221236  73\n",
      "45      Chicago White Sox 2015        94365735     118875487  76\n",
      "46      Chicago White Sox 2016        88724466     129715686  78\n",
      "47      Chicago White Sox 2017        32540383      86382688  67\n",
      "48      Chicago White Sox 2018        57261542      71839808  62\n",
      "49        Cincinnati Reds 2011        79612874      81920546  79\n",
      "50        Cincinnati Reds 2012        89101498      89901498  97\n",
      "51        Cincinnati Reds 2013        97657483     103804640  90\n",
      "52        Cincinnati Reds 2014        99229931     113351318  76\n",
      "53        Cincinnati Reds 2015        68445559     112333097  64\n",
      "54        Cincinnati Reds 2016        63783665      88626437  68\n",
      "55        Cincinnati Reds 2017        64567947      96436003  68\n",
      "56        Cincinnati Reds 2018        82511299     100305768  67\n",
      "57      Cleveland Indians 2011        55960593      55960593  80\n",
      "58      Cleveland Indians 2012        71325549      77319538  68\n",
      "59      Cleveland Indians 2013        68279465      93008897  92\n",
      "60      Cleveland Indians 2014        59720646      84369908  85\n",
      "61      Cleveland Indians 2015        45520977      77404413  81\n",
      "62      Cleveland Indians 2016        61284062     105971268  94\n",
      "63      Cleveland Indians 2017       115772319     131958928 102\n",
      "64      Cleveland Indians 2018       123670545     142804703  91\n",
      "65       Colorado Rockies 2011        77731972      83262170  73\n",
      "66       Colorado Rockies 2012        77376456      88210881  64\n",
      "67       Colorado Rockies 2013        74020354      79271624  74\n",
      "68       Colorado Rockies 2014        96456583      96659578  66\n",
      "69       Colorado Rockies 2015        74930648     106860781  68\n",
      "70       Colorado Rockies 2016        88354041     107902280  75\n",
      "71       Colorado Rockies 2017       105029084     139324341  87\n",
      "72       Colorado Rockies 2018       131213168     143968544  91\n",
      "73         Detroit Tigers 2011       111271015     111521015  95\n",
      "74         Detroit Tigers 2012       138762284     144262284  88\n",
      "75         Detroit Tigers 2013       145423867     155223539  93\n",
      "76         Detroit Tigers 2014       147009969     171996220  90\n",
      "77         Detroit Tigers 2015       109879336     162160921  74\n",
      "78         Detroit Tigers 2016       163019728     200179285  86\n",
      "79         Detroit Tigers 2017        90755330     188498884  64\n",
      "80         Detroit Tigers 2018        67047516     130959889  64\n",
      "81        Florida Marlins 2011        63287393      65287393  72\n",
      "82         Houston Astros 2011        72098000      85574503  56\n",
      "83         Houston Astros 2012        23728500      54547239  55\n",
      "84         Houston Astros 2013        11675066      35567913  51\n",
      "85         Houston Astros 2014        41637464      51679490  70\n",
      "86         Houston Astros 2015        64818398      81450835  86\n",
      "87         Houston Astros 2016        75441606     103328742  84\n",
      "88         Houston Astros 2017       132536382     138709677 101\n",
      "89         Houston Astros 2018       158520510     163524216 103\n",
      "90     Kansas City Royals 2011        38803600      40693273  71\n",
      "91     Kansas City Royals 2012        66385000      70344235  72\n",
      "92     Kansas City Royals 2013        75494673      84398434  86\n",
      "93     Kansas City Royals 2014        90536848      98558300  89\n",
      "94     Kansas City Royals 2015       111740891     126529835  95\n",
      "95     Kansas City Royals 2016       106349212     141587358  81\n",
      "96     Kansas City Royals 2017       125678691     148227822  80\n",
      "97     Kansas City Royals 2018        83618228     129944821  58\n",
      "98     Los Angeles Angels 2011       133613959     146648559  86\n",
      "99     Los Angeles Angels 2015       106512083     151348162  85\n",
      "100    Los Angeles Angels 2016        89878997     174363407  74\n",
      "101    Los Angeles Angels 2017       109185825     166161209  80\n",
      "102    Los Angeles Angels 2018        91914083     173784989  80\n",
      "103   Los Angeles Dodgers 2011        98679615     118668615  82\n",
      "104   Los Angeles Dodgers 2012       112952717     120784717  86\n",
      "105   Los Angeles Dodgers 2013       207344759     239894375  92\n",
      "106   Los Angeles Dodgers 2014       234067142     246367142  94\n",
      "107   Los Angeles Dodgers 2015       199977688     301735080  92\n",
      "108   Los Angeles Dodgers 2016       193881011     268745494  91\n",
      "109   Los Angeles Dodgers 2017       184284091     259119625 104\n",
      "110   Los Angeles Dodgers 2018       160502596     199582045  92\n",
      "111         Miami Marlins 2012        81018688      98392974  69\n",
      "112         Miami Marlins 2013        23618327      36028542  62\n",
      "113         Miami Marlins 2014        39231780      50671396  77\n",
      "114         Miami Marlins 2015        28171144      63590525  71\n",
      "115         Miami Marlins 2016        61342038      77715306  79\n",
      "116         Miami Marlins 2017        72360311     110765599  77\n",
      "117         Miami Marlins 2018        43033514      91817860  63\n",
      "118     Milwaukee Brewers 2011        92127802      92127802  96\n",
      "119     Milwaukee Brewers 2012       108461584     110905300  83\n",
      "120     Milwaukee Brewers 2013        69142690      88221045  74\n",
      "121     Milwaukee Brewers 2014       108174589     110577046  82\n",
      "122     Milwaukee Brewers 2015        58772714      94010873  68\n",
      "123     Milwaukee Brewers 2016        49464613      62161191  73\n",
      "124     Milwaukee Brewers 2017        57578930      68945179  86\n",
      "125     Milwaukee Brewers 2018        89888839     108982016  96\n",
      "126       Minnesota Twins 2011       106871000     113979594  63\n",
      "127       Minnesota Twins 2012       109130327     109130327  66\n",
      "128       Minnesota Twins 2013        56942945      81458898  66\n",
      "129       Minnesota Twins 2014        72140448      87494478  70\n",
      "130       Minnesota Twins 2015       101448147     107981818  83\n",
      "131       Minnesota Twins 2016        61165450      97244457  59\n",
      "132       Minnesota Twins 2017        75616449     121048871  85\n",
      "133       Minnesota Twins 2018        56254373     115509520  78\n",
      "134         New York Mets 2011        96163418     141831841  77\n",
      "135         New York Mets 2012       101930952     105869476  74\n",
      "136         New York Mets 2013        44861236     101300814  74\n",
      "137         New York Mets 2014        73675535      94478037  79\n",
      "138         New York Mets 2015       102480260     115698927  90\n",
      "139         New York Mets 2016       101798286     147738514  87\n",
      "140         New York Mets 2017        48736470     143990158  70\n",
      "141         New York Mets 2018        82655203     150187987  77\n",
      "142      New York Yankees 2011       212609678     213559678  97\n",
      "143      New York Yankees 2012       214396932     228495456  95\n",
      "144      New York Yankees 2013       207768301     239288940  85\n",
      "145      New York Yankees 2014       198020464     214898031  84\n",
      "146      New York Yankees 2015       187271441     222528373  87\n",
      "147      New York Yankees 2016       159213515     220743376  84\n",
      "148      New York Yankees 2017       164826896     209690952  91\n",
      "149      New York Yankees 2018       148010829     180098151 100\n",
      "150     Oakland Athletics 2011        69967475      76483048  74\n",
      "151     Oakland Athletics 2012        56723737      58973573  94\n",
      "152     Oakland Athletics 2013        62190572      67055517  96\n",
      "153     Oakland Athletics 2014        65760582      93518412  88\n",
      "154     Oakland Athletics 2015        41897450      80376830  68\n",
      "155     Oakland Athletics 2016        27854151      82879088  69\n",
      "156     Oakland Athletics 2017        31723817      73477080  75\n",
      "157     Oakland Athletics 2018        61525657      80315288  97\n",
      "158 Philadelphia Phillies 2011       169799882     169968182 102\n",
      "159 Philadelphia Phillies 2012       169582490     179900523  81\n",
      "160 Philadelphia Phillies 2013       153273261     163536898  73\n",
      "161 Philadelphia Phillies 2014       145123014     175061605  73\n",
      "162 Philadelphia Phillies 2015        52800331     141722639  63\n",
      "163 Philadelphia Phillies 2016        53797706     103898809  71\n",
      "164 Philadelphia Phillies 2017        23135934     104020808  66\n",
      "165 Philadelphia Phillies 2018        97016347     104297471  80\n",
      "166    Pittsburgh Pirates 2011        46784667      48592727  72\n",
      "167    Pittsburgh Pirates 2012        58617066      61803269  79\n",
      "168    Pittsburgh Pirates 2013        65262905      71480984  94\n",
      "169    Pittsburgh Pirates 2014        68883439      76974115  88\n",
      "170    Pittsburgh Pirates 2015        81904030      99435606  98\n",
      "171    Pittsburgh Pirates 2016        57311465      99518136  78\n",
      "172    Pittsburgh Pirates 2017        64196313      98203030  75\n",
      "173    Pittsburgh Pirates 2018        67576415      91025861  82\n",
      "174      San Diego Padres 2011        47418810      48018810  71\n",
      "175      San Diego Padres 2012        60061913      63839413  76\n",
      "176      San Diego Padres 2013        63615894      73286341  76\n",
      "177      San Diego Padres 2014        67296350      85001967  77\n",
      "178      San Diego Padres 2015        93212255     107915272  74\n",
      "179      San Diego Padres 2016        21580892      83507657  68\n",
      "180      San Diego Padres 2017        24930424      77921678  71\n",
      "181      San Diego Padres 2018        50169797     103843635  66\n",
      "182  San Francisco Giants 2011       124882250     125982250  86\n",
      "183  San Francisco Giants 2012       122825338     137523205  94\n",
      "184  San Francisco Giants 2013       135382980     140280186  76\n",
      "185  San Francisco Giants 2014       152735333     171336782  88\n",
      "186  San Francisco Giants 2015       133109385     186413630  84\n",
      "187  San Francisco Giants 2016       176177032     178326844  87\n",
      "188  San Francisco Giants 2017       171792784     189806809  64\n",
      "189  San Francisco Giants 2018       119689218     205665348  73\n",
      "190      Seattle Mariners 2011        88907834     101429148  67\n",
      "191      Seattle Mariners 2012        73220850      84439430  75\n",
      "192      Seattle Mariners 2013        63266296      83220022  71\n",
      "193      Seattle Mariners 2014        98030060     107034174  87\n",
      "194      Seattle Mariners 2015        95874782     126045473  76\n",
      "195      Seattle Mariners 2016       131833221     146536553  86\n",
      "196      Seattle Mariners 2017       126620983     161397330  78\n",
      "197      Seattle Mariners 2018       136839663     160993827  89\n",
      "198   St. Louis Cardinals 2011       113348748     116857312  90\n",
      "199   St. Louis Cardinals 2012       118985685     120461369  88\n",
      "200   St. Louis Cardinals 2013        95053922     120516627  97\n",
      "201   St. Louis Cardinals 2014       114533043     121232929  90\n",
      "202   St. Louis Cardinals 2015       128814787     132178951 100\n",
      "203   St. Louis Cardinals 2016       132790389     149355870  86\n",
      "204   St. Louis Cardinals 2017       107961954     145256085  83\n",
      "205   St. Louis Cardinals 2018       113991329     163784311  88\n",
      "206        Tampa Bay Rays 2011        45728532      46098532  91\n",
      "207        Tampa Bay Rays 2012        68232330      70242330  90\n",
      "208        Tampa Bay Rays 2013        67029393      74572903  92\n",
      "209        Tampa Bay Rays 2014        63704707      76821046  77\n",
      "210        Tampa Bay Rays 2015        52092948      73582652  80\n",
      "211        Tampa Bay Rays 2016        36226000      63908549  68\n",
      "212        Tampa Bay Rays 2017        63018694      77811205  80\n",
      "213        Tampa Bay Rays 2018        25668988      68810167  90\n",
      "214         Texas Rangers 2011        99272920     103741721  96\n",
      "215         Texas Rangers 2012       134976346     138226346  93\n",
      "216         Texas Rangers 2013       114162497     137937146  91\n",
      "217         Texas Rangers 2014       129809240     139630583  67\n",
      "218         Texas Rangers 2015       124525876     152445607  88\n",
      "219         Texas Rangers 2016       134724626     163021690  95\n",
      "220         Texas Rangers 2017       126365185     163350840  78\n",
      "221         Texas Rangers 2018        96239016     140625018  67\n",
      "222     Toronto Blue Jays 2011        56304461      73491604  81\n",
      "223     Toronto Blue Jays 2012        90559953      97293922  73\n",
      "224     Toronto Blue Jays 2013       118289792     131771168  74\n",
      "225     Toronto Blue Jays 2014       122125961     141812172  83\n",
      "226     Toronto Blue Jays 2015       106426104     138309664  93\n",
      "227     Toronto Blue Jays 2016       138232539     152285479  89\n",
      "228     Toronto Blue Jays 2017       125422069     187067487  76\n",
      "229     Toronto Blue Jays 2018        81293347     150946147  73\n",
      "230  Washington Nationals 2011        72988723      74988723  80\n",
      "231  Washington Nationals 2012        95836048      98256813  98\n",
      "232  Washington Nationals 2013       110761470     116883274  86\n",
      "233  Washington Nationals 2014       149257210     149470982  96\n",
      "234  Washington Nationals 2015       146009803     165655095  83\n",
      "235  Washington Nationals 2016       119216458     139383852  95\n",
      "236  Washington Nationals 2017       164539852     182238854  97\n",
      "237  Washington Nationals 2018       130197979     181382609  82\n"
     ]
    }
   ],
   "source": [
    "# read in :\n",
    "for (i in as.character(2011: 2018)){\n",
    "    rd <- read.csv(paste(\"戰績\\\\\",i,\".csv\",sep = \"\"))\n",
    "    tmp <- rd[,c(1,2)] %>% mutate(year = i)\n",
    "    \n",
    "    if(i == 2011){\n",
    "        new_data <- tmp\n",
    "    }\n",
    "    else {\n",
    "        new_data <- rbind(new_data,tmp)\n",
    "    }\n",
    "}\n",
    "colnames(new_data)[1] <- \"Team\"\n",
    "data <- data %>% arrange(year,Team)\n",
    "new_data <- new_data %>% arrange(year,Team)\n",
    "head(data)\n",
    "head(new_data)\n",
    "final_data <- merge(data,new_data,by = c(\"Team\",\"year\"))\n",
    "print(final_data)"
   ]
  },
  {
   "cell_type": "markdown",
   "metadata": {},
   "source": [
    "##  X25.Man.Payroll bar chart per year "
   ]
  },
  {
   "cell_type": "code",
   "execution_count": 9,
   "metadata": {},
   "outputs": [
    {
     "data": {
      "image/png": "[encoded data removed]",
      "text/plain": [
       "plot without title"
      ]
     },
     "metadata": {},
     "output_type": "display_data"
    }
   ],
   "source": [
    "# look at year 2018\n",
    "data_2018 <-  data %>%　filter(year %in% as.factor(2018))\n",
    "options(repr.plot.width=6, repr.plot.height=5)\n",
    "ggplot(data_2018 ,aes(x = Team ,y = X25.Man.Payroll )) +\n",
    "    geom_bar(stat = \"identity\") +\n",
    "    theme(axis.text = element_blank(),\n",
    "        axis.ticks = element_blank(),\n",
    "        panel.grid  = element_blank())\n",
    "\n",
    "\n",
    "###  待改"
   ]
  },
  {
   "cell_type": "code",
   "execution_count": null,
   "metadata": {},
   "outputs": [],
   "source": []
  }
 ],
 "metadata": {
  "kernelspec": {
   "display_name": "R",
   "language": "R",
   "name": "ir"
  },
  "language_info": {
   "codemirror_mode": "r",
   "file_extension": ".r",
   "mimetype": "text/x-r-source",
   "name": "R",
   "pygments_lexer": "r",
   "version": "3.3.3"
  }
 },
 "nbformat": 4,
 "nbformat_minor": 2
}
